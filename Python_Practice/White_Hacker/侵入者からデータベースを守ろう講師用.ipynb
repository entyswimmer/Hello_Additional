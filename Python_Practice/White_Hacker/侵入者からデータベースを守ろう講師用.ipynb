{
 "cells": [
  {
   "cell_type": "markdown",
   "id": "90d411bc-fae9-4109-be81-c87dcc589900",
   "metadata": {},
   "source": [
    "# データベースに侵入しようとするハッカーを撃退しよう\n",
    "\n",
    "\n",
    "## 注意!\n",
    "\n",
    "- 実環境において攻撃を仕掛けることは不正アクセス禁止法により法律で固く禁じられています。\n",
    "このコードは教育目的で作成しており、仮想的な環境で実行しています。(このコードは攻撃用ではなく防御用です。)\n",
    "\n",
    "---\n",
    "\n",
    "### ・セクション1: データベースの作成関数とログ保存関数を準備しよう。"
   ]
  },
  {
   "cell_type": "code",
   "execution_count": 1,
   "id": "8048029b-5e36-4865-8554-1b3fe3e9b021",
   "metadata": {},
   "outputs": [],
   "source": [
    "#必要ライブラリのインポート\n",
    "import random\n",
    "import time\n",
    "import json\n",
    "from datetime import datetime, timezone\n",
    "from getpass import getpass"
   ]
  },
  {
   "cell_type": "code",
   "execution_count": 2,
   "id": "2aa8f517-db0a-4604-8518-6617a5a482ac",
   "metadata": {},
   "outputs": [],
   "source": [
    "#データベース作成関数\n",
    "def create_db(num_users):\n",
    "    db = {}\n",
    "    for i in range(1, num_users+1):\n",
    "        username = f\"user{i}\"\n",
    "        #3桁のランダムな整数パスワード\n",
    "        password = f\"{random.randint(0, 999):03d}\"\n",
    "        db[username] = {\n",
    "            \"password\": password,\n",
    "            \"email\": f\"{username}@example.com\",\n",
    "            \"notes\": f\"Sample note for {username}\"\n",
    "        }\n",
    "    return db"
   ]
  },
  {
   "cell_type": "code",
   "execution_count": 3,
   "id": "bcc2d690-86b1-4a7e-b938-d511d6571c68",
   "metadata": {},
   "outputs": [],
   "source": [
    "#ログ機能の作成\n",
    "\n",
    "#グローバル変数の定義\n",
    "login_attempts_log = []   #ログイン情報を保管しておく配列を作る\n",
    "lock_state = {}           #状態の辞書\n",
    "LOCK_THRESHOLD = 3        # 3回でロック\n",
    "LOCK_DURATION_SEC = 60    # ロック期間：60秒\n",
    "\n",
    "#ログ情報の作成関数\n",
    "def log_attempt(username, success, source=\"local\", note=\"\"):\n",
    "    #辞書entryを作成して、情報を保存\n",
    "    entry = {\n",
    "        \"time\": datetime.now(timezone.utc).isoformat(),\n",
    "        \"username\": username,\n",
    "        \"success\": bool(success),\n",
    "        \"source\": source,\n",
    "        \"note\": note\n",
    "    }\n",
    "    #辞書を保管する配列に追加\n",
    "    login_attempts_log.append(entry)\n",
    "\n",
    "#ログインに失敗したことを記録\n",
    "def register_failed_attempt(username):\n",
    "    #ロック情報を保管する辞書の作成\n",
    "    s = lock_state.get(username, {\"failed\":0, \"locked_until\":None})\n",
    "    s[\"failed\"] += 1\n",
    "    if s[\"failed\"] >= LOCK_THRESHOLD:\n",
    "        s[\"locked_until\"] = time.time() + LOCK_DURATION_SEC\n",
    "    lock_state[username] = s\n",
    "\n",
    "#ロック状態の作成関数\n",
    "def is_locked(username):\n",
    "    #userキーに対応する辞書をstateとして変数に保存\n",
    "    state = lock_state.get(username)\n",
    "\n",
    "    #キーに対応するstateが存在しない場合\n",
    "    if not state:\n",
    "        return False\n",
    "    \n",
    "    #stateのlocked_untilキーの値を取得 \n",
    "    locked_until = state.get(\"locked_until\")\n",
    "\n",
    "    #ロック期間中(ロック状態がtrue)\n",
    "    if locked_until and time.time() < locked_until:\n",
    "        return True\n",
    "        \n",
    "    # ロック期間経過したらリセット\n",
    "    if locked_until and time.time() >= locked_until:\n",
    "        lock_state.pop(username, None)\n",
    "        return False\n",
    "\n",
    "    return False\n",
    "\n",
    "#状態のリセット\n",
    "def reset_attempts(username):\n",
    "    lock_state.pop(username, None)"
   ]
  },
  {
   "cell_type": "markdown",
   "id": "58436253-d81c-4d0f-87cf-8f44ca5fd4c2",
   "metadata": {},
   "source": [
    "[補足]\n",
    "ロック情報の保存形式の例(辞書の中にさらに辞書を作成することが可能)\n",
    "{\"userA\": {\"failed\": 3, \"locked_until\": None}, \"userB\": {\"failed\": 5, \"locked_until\": 1698213000.0},・・・}\n",
    "\n",
    "\n",
    "point) 上の関数たちの中身は理解しないで大丈夫です。それぞれが何をする関数なのかだけ理解しておきましょう。\n",
    "```\n",
    "- log_attempt(#引数は省略)・・・ログイン情報の記録(ログ)を作成して保存。\n",
    "  \n",
    "- register_failed_attempt(username)・・・ログインに失敗したことを記録してロック状態をon\n",
    "\n",
    "- is_locked(username)・・・ロック状態がon(true)かoff(false)かを判断\n",
    "\n",
    "- reset_attempts(username)・・・ロックの情報を削除\n",
    "```\n",
    "\n",
    "---\n",
    "\n",
    "### ・セクション2: ログインを行う関数を作成しよう。\n",
    "\n",
    "今回のシナリオ:\n",
    "\n",
    "- 攻撃者・・・「データベースに侵入してデータをRSAで暗号化してやる!」 (ランサムウェアを仕掛けようとしている)\n",
    "\n",
    "- 防御側・・・「パスワード突破できるもんならやってみろ！」\n",
    "\n",
    "- 攻撃者・・・「繰り返しを行うプログラムで000から順に試して行ってやるよ！」(ブルートフォース攻撃!)\n",
    "\n",
    "- 防御側・・・「そんなことさせるか！ログを監視して侵入を防いでやる!」"
   ]
  },
  {
   "cell_type": "code",
   "execution_count": 13,
   "id": "61f53b3b-edbb-42ac-a8dc-03e8fe29ec80",
   "metadata": {},
   "outputs": [],
   "source": [
    "#安全なログイン関数\n",
    "def safe_login(db, max_inputs=5, source=\"local\"):\n",
    "    #while(ずっと繰り返し)ではなく、for文を使用してブルートフォース攻撃を防御しよう！！\n",
    "    for attempt in range(max_inputs):\n",
    "        username = input(\"ユーザー名: \").strip()\n",
    "            \n",
    "        #ユーザー名が存在しない場合\n",
    "        if  username not in db:\n",
    "            #管理者権限 (これが開発者が削除し忘れたバックドア: if ~ else文を削除)\n",
    "            if username == \"user0\":\n",
    "                return db\n",
    "            else:\n",
    "                print(\"ユーザーが存在しません\")\n",
    "                log_attempt(username, False, source, note=\"no such user\")\n",
    "                continue\n",
    "          \n",
    "        #アカウントがロック時の動作\n",
    "        if is_locked(username):\n",
    "            print(\"アカウントは一時ロックされています。しばらく待ってから再試行してください。\")\n",
    "            log_attempt(username, False, source, note=\"locked\")\n",
    "            return False\n",
    "\n",
    "        #パスワードの入力(パスワードが見えないようになる)\n",
    "        password = getpass(\"パスワード（3桁）: \").strip()\n",
    "\n",
    "        #ログイン成功時の処理\n",
    "        if password == db[username][\"password\"]:\n",
    "            print(\"ログイン成功\")\n",
    "            log_attempt(username, True, source)\n",
    "            reset_attempts(username)\n",
    "            return True\n",
    "        \n",
    "        #ログイン失敗時の例\n",
    "        else:\n",
    "            print(\"パスワードが違います\")\n",
    "            log_attempt(username, False, source, note=\"worng password\")\n",
    "            #以下2行を空白にして問題にする\n",
    "            register_failed_attempt(username)\n",
    "            s = lock_state.get(username)\n",
    "            if s and s.get(\"locked_until\"):\n",
    "                print(f\"アカウントがロックされました（{LOCK_DURATION_SEC}秒）\")\n",
    "                return False\n",
    "                \n",
    "    print(\"試行回数を超えました\")\n",
    "    return False"
   ]
  },
  {
   "cell_type": "code",
   "execution_count": 9,
   "id": "28269222-e705-4bbe-85ce-8508eda44a23",
   "metadata": {},
   "outputs": [
    {
     "name": "stdout",
     "output_type": "stream",
     "text": [
      "== DataBase sample ==\n",
      "{\n",
      "  \"user1\": {\n",
      "    \"password\": \"222\",\n",
      "    \"email\": \"user1@example.com\",\n",
      "    \"notes\": \"Sample note for user1\"\n",
      "  },\n",
      "  \"user2\": {\n",
      "    \"password\": \"518\",\n",
      "    \"email\": \"user2@example.com\",\n",
      "    \"notes\": \"Sample note for user2\"\n",
      "  },\n",
      "  \"user3\": {\n",
      "    \"password\": \"425\",\n",
      "    \"email\": \"user3@example.com\",\n",
      "    \"notes\": \"Sample note for user3\"\n",
      "  }\n",
      "}\n"
     ]
    }
   ],
   "source": [
    "#データベースの作成\n",
    "db = create_db(3)\n",
    "print(\"== DataBase sample ==\")\n",
    "print(json.dumps(db, indent=2, ensure_ascii=False))"
   ]
  },
  {
   "cell_type": "code",
   "execution_count": 10,
   "id": "1ce9195c-5f8f-4331-8209-cb0c8bb2ceeb",
   "metadata": {},
   "outputs": [],
   "source": [
    "#ログ確認用のユーティリティ\n",
    "def show_logs(limit=20):\n",
    "    print(\"== Login Attempts Log (recent) ==\")\n",
    "    for e in login_attempts_log[-limit:]:\n",
    "        print(json.dumps(e, ensure_ascii=False))\n",
    "\n",
    "def show_lock_state():\n",
    "    print(\"== Lock State ==\")\n",
    "    for k, v in lock_state.items():\n",
    "        print(k, v)"
   ]
  },
  {
   "cell_type": "code",
   "execution_count": 12,
   "id": "83f9f170-d3b9-4555-89c7-a4892dff71cf",
   "metadata": {},
   "outputs": [
    {
     "name": "stdout",
     "output_type": "stream",
     "text": [
      "=== 正しいパスワードを試す ===\n",
      "ユーザーの一覧: ['user1', 'user2', 'user3']\n"
     ]
    },
    {
     "name": "stdin",
     "output_type": "stream",
     "text": [
      "ユーザー名:  user1\n",
      "パスワード（3桁）:  ········\n"
     ]
    },
    {
     "name": "stdout",
     "output_type": "stream",
     "text": [
      "ログイン成功\n"
     ]
    },
    {
     "data": {
      "text/plain": [
       "True"
      ]
     },
     "execution_count": 12,
     "metadata": {},
     "output_type": "execute_result"
    }
   ],
   "source": [
    "#正しいパスワードでログインしてみよう\n",
    "print(\"=== 正しいパスワードを試す ===\")\n",
    "print(\"ユーザーの一覧:\", list(db.keys()))\n",
    "safe_login(db)"
   ]
  },
  {
   "cell_type": "code",
   "execution_count": 16,
   "id": "c1690ed1-856e-4e70-806f-5b3c3e717db6",
   "metadata": {},
   "outputs": [
    {
     "name": "stdout",
     "output_type": "stream",
     "text": [
      "=== 間違ったパスワードを試す ===\n",
      "ユーザー一覧: ['user1', 'user2', 'user3']\n"
     ]
    },
    {
     "name": "stdin",
     "output_type": "stream",
     "text": [
      "ユーザー名:  user1\n",
      "パスワード（3桁）:  ········\n"
     ]
    },
    {
     "name": "stdout",
     "output_type": "stream",
     "text": [
      "パスワードが違います\n"
     ]
    },
    {
     "name": "stdin",
     "output_type": "stream",
     "text": [
      "ユーザー名:  111\n"
     ]
    },
    {
     "name": "stdout",
     "output_type": "stream",
     "text": [
      "ユーザーが存在しません\n"
     ]
    },
    {
     "name": "stdin",
     "output_type": "stream",
     "text": [
      "ユーザー名:  111\n"
     ]
    },
    {
     "name": "stdout",
     "output_type": "stream",
     "text": [
      "ユーザーが存在しません\n"
     ]
    },
    {
     "name": "stdin",
     "output_type": "stream",
     "text": [
      "ユーザー名:  \n"
     ]
    },
    {
     "name": "stdout",
     "output_type": "stream",
     "text": [
      "ユーザーが存在しません\n"
     ]
    },
    {
     "name": "stdin",
     "output_type": "stream",
     "text": [
      "ユーザー名:  user1\n",
      "パスワード（3桁）:  ········\n"
     ]
    },
    {
     "name": "stdout",
     "output_type": "stream",
     "text": [
      "パスワードが違います\n",
      "試行回数を超えました\n"
     ]
    },
    {
     "data": {
      "text/plain": [
       "False"
      ]
     },
     "execution_count": 16,
     "metadata": {},
     "output_type": "execute_result"
    }
   ],
   "source": [
    "#間違ったパスワードでログインしてみよう\n",
    "print(\"=== 間違ったパスワードを試す ===\")\n",
    "print(\"ユーザーの一覧:\", list(db.keys()))\n",
    "safe_login(db)"
   ]
  },
  {
   "cell_type": "code",
   "execution_count": 17,
   "id": "195f4d3a-55e4-48ea-8c62-11c8921ca833",
   "metadata": {},
   "outputs": [
    {
     "name": "stdout",
     "output_type": "stream",
     "text": [
      "== Login Attempts Log (recent) ==\n",
      "{\"time\": \"2025-10-22T10:27:53.042830+00:00\", \"username\": \"795\", \"success\": false, \"source\": \"local\", \"note\": \"no such user\"}\n",
      "{\"time\": \"2025-10-22T10:28:00.305590+00:00\", \"username\": \"user1\", \"success\": true, \"source\": \"local\", \"note\": \"\"}\n",
      "{\"time\": \"2025-10-22T10:28:12.367984+00:00\", \"username\": \"user1\", \"success\": false, \"source\": \"local\", \"note\": \"worng password\"}\n",
      "{\"time\": \"2025-10-22T10:28:13.843910+00:00\", \"username\": \"111\", \"success\": false, \"source\": \"local\", \"note\": \"no such user\"}\n",
      "{\"time\": \"2025-10-22T10:28:14.792665+00:00\", \"username\": \"111\", \"success\": false, \"source\": \"local\", \"note\": \"no such user\"}\n",
      "{\"time\": \"2025-10-22T10:28:16.322989+00:00\", \"username\": \"\", \"success\": false, \"source\": \"local\", \"note\": \"no such user\"}\n",
      "{\"time\": \"2025-10-22T10:28:20.020075+00:00\", \"username\": \"user1\", \"success\": false, \"source\": \"local\", \"note\": \"worng password\"}\n",
      "===================================\n",
      "\n",
      "== Lock State ==\n",
      "user1 {'failed': 2, 'locked_until': None}\n"
     ]
    }
   ],
   "source": [
    "#ログを確認しよう\n",
    "show_logs()\n",
    "print(\"===================================\\n\")\n",
    "show_lock_state()"
   ]
  },
  {
   "cell_type": "markdown",
   "id": "a5ec8ed0-3ecf-4813-84f1-b2bfc4a69064",
   "metadata": {},
   "source": [
    "---\n",
    "\n",
    "### 演習\n",
    "\n",
    "#### ・レッドチーム(ハッキング側)・・・上のログイン関数には脆弱性が残っています。脆弱性を見つけて攻撃を仕掛けてみましょう。\n",
    "\n",
    "#### ・ブルーチーム(防御側)・・・脆弱性の修正を行い、ハッカーの攻撃を防ぎましょう\n",
    "\n",
    "- ヒント\n",
    "  ここにはバックドアと呼ばれるセキュリティの穴があります。管理者権限に注目しましょう.\n",
    "  ここから侵入するとログにも残らないのでこのままにしておくと非常に危険です."
   ]
  },
  {
   "cell_type": "code",
   "execution_count": null,
   "id": "3758b3c0-8bff-4be5-b7d9-a8dd0986c62b",
   "metadata": {},
   "outputs": [],
   "source": [
    "#レッドチームは侵入を試す。ブルーチームは上のsafe_login関数を修正後に実行して試す。\n",
    "print(\"=== 侵入が可能か試す ===\")\n",
    "print(\"ユーザーの一覧:\", list(db.keys()))\n",
    "safe_login(db)"
   ]
  },
  {
   "cell_type": "code",
   "execution_count": null,
   "id": "3e9e14e3-e939-45ba-ba50-b02a9c66eafb",
   "metadata": {},
   "outputs": [],
   "source": []
  }
 ],
 "metadata": {
  "kernelspec": {
   "display_name": "Python 3 (ipykernel)",
   "language": "python",
   "name": "python3"
  },
  "language_info": {
   "codemirror_mode": {
    "name": "ipython",
    "version": 3
   },
   "file_extension": ".py",
   "mimetype": "text/x-python",
   "name": "python",
   "nbconvert_exporter": "python",
   "pygments_lexer": "ipython3",
   "version": "3.13.1"
  }
 },
 "nbformat": 4,
 "nbformat_minor": 5
}
