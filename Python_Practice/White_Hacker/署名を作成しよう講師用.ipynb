{
 "cells": [
  {
   "cell_type": "markdown",
   "id": "c58ee028-db53-4d06-bb97-2bc6a3da7ef9",
   "metadata": {},
   "source": [
    "# 署名を作成しよう\n",
    "\n",
    "- データに署名を行うことでデータの改竄を防ぐことができます。\n",
    "\n",
    "- ハイブリッド暗号の仕組みを見てみよう\n",
    "---\n",
    "\n",
    "### ・セクション1: 関数の準備"
   ]
  },
  {
   "cell_type": "code",
   "execution_count": null,
   "id": "62bc1a56-f990-4872-b432-4367774ba141",
   "metadata": {},
   "outputs": [],
   "source": [
    "#ライブラリのインストール\n",
    "%pip install pycryptodome"
   ]
  },
  {
   "cell_type": "code",
   "execution_count": 1,
   "id": "45df8f0e-0c5e-4fd7-ad05-160de1b8971e",
   "metadata": {},
   "outputs": [],
   "source": [
    "from Crypto.PublicKey import RSA\n",
    "from Crypto.Cipher import AES, PKCS1_OAEP\n",
    "from Crypto.Hash import SHA256\n",
    "from Crypto.Signature import pss\n",
    "import os"
   ]
  },
  {
   "cell_type": "code",
   "execution_count": 2,
   "id": "ab6ffff2-a907-4a33-84c5-1ab719408918",
   "metadata": {},
   "outputs": [],
   "source": [
    "#公開鍵の生成\n",
    "def generate_keys():\n",
    "    key = RSA.generate(2048)\n",
    "    private_key = key\n",
    "    public_key = key.publickey()\n",
    "    return private_key, public_key"
   ]
  },
  {
   "cell_type": "code",
   "execution_count": 3,
   "id": "e9d87359-9ed3-4721-8ec3-4e5e9393049b",
   "metadata": {},
   "outputs": [],
   "source": [
    "#共通鍵の作成とメッセージの暗号化\n",
    "def hybrid_encrypt(message, public_key):\n",
    "    #1.共通鍵（セッションキー）の生成\n",
    "    session_key = os.urandom(32)\n",
    "    \n",
    "    #2.共通鍵を送信相手の公開鍵で暗号化\n",
    "    cipher_rsa = PKCS1_OAEP.new(public_key, hashAlgo=SHA256)\n",
    "    encrypted_key = cipher_rsa.encrypt(session_key)\n",
    "    \n",
    "    #3.共通鍵でメッセージを暗号化\n",
    "    cipher_aes = AES.new(session_key, AES.MODE_GCM)\n",
    "    nonce = cipher_aes.nonce\n",
    "    \n",
    "    #4.暗号化と同時に認証タグを生成\n",
    "    c, tag = cipher_aes.encrypt_and_digest(message)\n",
    "    \n",
    "    #暗号化された共通鍵、nonce、署名、暗号文を結合して返す\n",
    "    return encrypted_key, nonce, tag, c"
   ]
  },
  {
   "cell_type": "code",
   "execution_count": 4,
   "id": "6bfcee28-1afb-404c-a1e4-9db354031d22",
   "metadata": {},
   "outputs": [],
   "source": [
    "#復号関数\n",
    "def hybrid_decrypt(encrypted_key, nonce, tag, c, private_key):\n",
    "    #1.秘密鍵でセッションキーを復号\n",
    "    cipher_rsa = PKCS1_OAEP.new(private_key, hashAlgo=SHA256)\n",
    "    session_key = cipher_rsa.decrypt(encrypted_key)\n",
    "    \n",
    "    #2.共通鍵でメッセージを復号\n",
    "    cipher_aes = AES.new(session_key, AES.MODE_GCM, nonce=nonce)\n",
    "    \n",
    "    #3.復号と同時に認証タグの検証を行う\n",
    "    try:\n",
    "        m = cipher_aes.decrypt_and_verify(ciphertext, tag)\n",
    "        return m\n",
    "    except ValueError:\n",
    "        raise ValueError(\"メッセージまたはタグが改ざんされています (認証失敗)\")"
   ]
  },
  {
   "cell_type": "code",
   "execution_count": 5,
   "id": "f9125d29-3266-438a-b7de-ba0fdb6f5135",
   "metadata": {},
   "outputs": [],
   "source": [
    "#署名の作成(送信側)\n",
    "def sign_message(data, private_key):\n",
    "    h = SHA256.new(data)\n",
    "    signer = pss.new(private_key)\n",
    "    signature = signer.sign(h)\n",
    "    return signature\n",
    "\n",
    "#署名の検証(受信側)\n",
    "def verify_signature(data, signature, public_key):\n",
    "    h = SHA256.new(data)\n",
    "    verifier = pss.new(public_key)\n",
    "    \n",
    "    try:\n",
    "        verifier.verify(h, signature)\n",
    "        return True\n",
    "    except (ValueError, TypeError):\n",
    "        return False"
   ]
  },
  {
   "cell_type": "code",
   "execution_count": null,
   "id": "ecc7722c-eb55-44fa-9a4a-72e86db8c362",
   "metadata": {},
   "outputs": [],
   "source": []
  },
  {
   "cell_type": "markdown",
   "id": "cdf95518-52ba-4f48-9b99-e4e04b045b6b",
   "metadata": {},
   "source": [
    "---\n",
    "\n",
    "### ・セクション３: 先生にメッセージを送ってみよう"
   ]
  },
  {
   "cell_type": "code",
   "execution_count": null,
   "id": "03fe37b3-9513-4efb-8bca-3b31cbb705cb",
   "metadata": {},
   "outputs": [],
   "source": [
    "#鍵ペアの生成\n",
    "#教員の署名用\n",
    "T_private_key, T_public_key = generate_keys()\n",
    "#生徒の暗号化用\n",
    "S_private_key, S_public_key = generate_keys()\n",
    "print(\"鍵ペアが生成されました。\\n\")"
   ]
  },
  {
   "cell_type": "code",
   "execution_count": 6,
   "id": "5f8a4f21-40fe-44f1-a074-efcaaea1e389",
   "metadata": {},
   "outputs": [
    {
     "name": "stdout",
     "output_type": "stream",
     "text": [
      "鍵ペアが生成されました。\n",
      "\n"
     ]
    }
   ],
   "source": [
    "#鍵ペアの生成\n",
    "#教員の署名用\n",
    "T_private_key, T_public_key = generate_keys()\n",
    "#生徒の暗号化用\n",
    "S_private_key, S_public_key = generate_keys()\n",
    "print(\"鍵ペアが生成されました。\\n\")"
   ]
  },
  {
   "cell_type": "code",
   "execution_count": 7,
   "id": "64ef0f57-5e2e-4d91-bdb5-a0a2de5f4b2e",
   "metadata": {},
   "outputs": [
    {
     "name": "stdin",
     "output_type": "stream",
     "text": [
      "メッセージを入力:  あ\n"
     ]
    },
    {
     "name": "stdout",
     "output_type": "stream",
     "text": [
      "送信者がメッセージに署名しました。\n",
      "メッセージを暗号化し、共通鍵を受信者の公開鍵で包みました。\n",
      "\n"
     ]
    }
   ],
   "source": [
    "\"\"\"\n",
    "演習課題(1)\n",
    "\"\"\"\n",
    "#送信処理\n",
    "\n",
    "#メッセージ作成\n",
    "message = input(\"メッセージを入力: \").encode('utf-8')\n",
    "\n",
    "#デジタル署名\n",
    "signature = sign_message(message, S_private_key)\n",
    "print(f\"送信者がメッセージに署名しました。\")\n",
    "\n",
    "#ハイブリッド暗号化\n",
    "encrypted_session_key, nonce, tag, ciphertext = hybrid_encrypt(message, T_public_key)\n",
    "print(f\"メッセージを暗号化し、共通鍵を受信者の公開鍵で包みました。\\n\")"
   ]
  },
  {
   "cell_type": "code",
   "execution_count": 8,
   "id": "a7e669fb-16c4-41cd-a9dc-85389193d5a0",
   "metadata": {},
   "outputs": [
    {
     "name": "stdout",
     "output_type": "stream",
     "text": [
      "メッセージが復号されました。\n",
      "署名の検証結果: True\n",
      "メッセージは教師から送信され、改ざんされていないことが確認できました。\n",
      "復号されたメッセージ: 「あ」\n"
     ]
    }
   ],
   "source": [
    "#先生は以下を押して正しくメッセージが送信されたか確認\n",
    "try:\n",
    "    decrypted_message = hybrid_decrypt(encrypted_session_key, nonce, tag, ciphertext, T_private_key)\n",
    "    print(\"メッセージが復号されました。\")\n",
    "    \n",
    "    #デジタル署名の検証\n",
    "    is_valid = verify_signature(decrypted_message, signature, S_public_key)\n",
    "    print(f\"署名の検証結果: {is_valid}\")\n",
    "\n",
    "    if is_valid:\n",
    "        print(f\"メッセージは教師から送信され、改ざんされていないことが確認できました。\")\n",
    "        print(f\"復号されたメッセージ: 「{decrypted_message.decode()}」\")\n",
    "    else:\n",
    "        print(\"署名が不正です。送信者が異なるか、メッセージが改ざんされています。\")\n",
    "        \n",
    "except ValueError as e:\n",
    "    print(f\"復号失敗: {e}\")"
   ]
  },
  {
   "cell_type": "code",
   "execution_count": null,
   "id": "9cf40b89-e3f6-4f8f-934f-e7b0bf4d9d56",
   "metadata": {},
   "outputs": [],
   "source": []
  }
 ],
 "metadata": {
  "kernelspec": {
   "display_name": "Python 3 (ipykernel)",
   "language": "python",
   "name": "python3"
  },
  "language_info": {
   "codemirror_mode": {
    "name": "ipython",
    "version": 3
   },
   "file_extension": ".py",
   "mimetype": "text/x-python",
   "name": "python",
   "nbconvert_exporter": "python",
   "pygments_lexer": "ipython3",
   "version": "3.11.11"
  }
 },
 "nbformat": 4,
 "nbformat_minor": 5
}
