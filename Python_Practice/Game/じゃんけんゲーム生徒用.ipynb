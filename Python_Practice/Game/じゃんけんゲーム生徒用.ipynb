{
 "cells": [
  {
   "cell_type": "markdown",
   "id": "eec685de-4f62-4243-9a89-f9e1562dedab",
   "metadata": {},
   "source": [
    "# じゃんけんゲームを作ろう!"
   ]
  },
  {
   "cell_type": "markdown",
   "id": "eb956413-29af-48a6-ac61-c8fcaf6ee5fa",
   "metadata": {},
   "source": [
    "### ・セクション1: 基本練習"
   ]
  },
  {
   "cell_type": "code",
   "execution_count": 6,
   "id": "8cf4588e-bdc1-4de6-b647-b1d725c0c6b6",
   "metadata": {},
   "outputs": [
    {
     "name": "stdout",
     "output_type": "stream",
     "text": [
      "print()と打つと, で囲まれた文章を画面に出せます\n",
      "\n"
     ]
    }
   ],
   "source": [
    "#例1: 画面に文字を出してみよう\n",
    "print(\"print(\"\")で, \"\"で囲まれた文章を画面に出せます\")"
   ]
  },
  {
   "cell_type": "code",
   "execution_count": null,
   "id": "f4f50b73-e301-490e-a816-758aae749b8e",
   "metadata": {},
   "outputs": [],
   "source": [
    "#練習1. 画面に文字を出すコードを書こう"
   ]
  },
  {
   "cell_type": "code",
   "execution_count": 7,
   "id": "e2dae2c3-64f1-49e0-aabb-c413067894c9",
   "metadata": {},
   "outputs": [
    {
     "name": "stdin",
     "output_type": "stream",
     "text": [
      "input()で, で囲まれた数字や文字を変数に保管できます。試しに何か入力してください:  a\n"
     ]
    },
    {
     "name": "stdout",
     "output_type": "stream",
     "text": [
      "a\n"
     ]
    }
   ],
   "source": [
    "#例2: 文字を入力してみよう\n",
    "a = input(\"input(\"\")で, \"\"で囲まれた数字や文字を変数に保管できます。試しに何か入力してください: \")\n",
    "print(a)\n"
   ]
  },
  {
   "cell_type": "code",
   "execution_count": 13,
   "id": "8e63c850-b3c4-4649-94da-c5e3feddd2fe",
   "metadata": {},
   "outputs": [],
   "source": [
    "#練習2. 入力したものを画面に出すコードを書こう。"
   ]
  },
  {
   "cell_type": "code",
   "execution_count": 17,
   "id": "68178e5b-6526-44e0-b880-979b55297b79",
   "metadata": {},
   "outputs": [
    {
     "name": "stdout",
     "output_type": "stream",
     "text": [
      "aが２でbは１, または, aが１、bが２という条件\n"
     ]
    }
   ],
   "source": [
    "#例3: if文を使ってみよう\n",
    "a = 2\n",
    "b = 1\n",
    "if a == 0:\n",
    "    print(\"aは0という条件\") #aが0ならこの文章が出てくる\n",
    "elif (a == 2 and b ==1) or (a == 1 and b == 2):\n",
    "    print(\"aが２でbは１, または, aが１、bが２という条件\") #a=2, b=1の時か、a=1, b=2の時この文章が出てくる\n",
    "else:\n",
    "    print(\"その他の条件\")　#上の条件以外の場合"
   ]
  },
  {
   "cell_type": "code",
   "execution_count": 18,
   "id": "5c27cb22-4e7c-4bf1-a711-8cfcbdc6b464",
   "metadata": {},
   "outputs": [],
   "source": [
    "#練習3\n",
    "#上の文章をここにコピペし、a, bの値を変えた時、どの文章が出てくるか予想しよう"
   ]
  },
  {
   "cell_type": "code",
   "execution_count": 20,
   "id": "c8e31a5b-bd1d-4d78-a184-aefb6d0bb64d",
   "metadata": {},
   "outputs": [
    {
     "name": "stdin",
     "output_type": "stream",
     "text": [
      "配列の１つ目を入力:  a\n",
      "2つ目を入力:  b\n"
     ]
    },
    {
     "name": "stdout",
     "output_type": "stream",
     "text": [
      "['a', 'b']\n"
     ]
    }
   ],
   "source": [
    "#例4: 配列と関数\n",
    "def box(): #関数という\n",
    "    a = input(\"配列の１つ目を入力: \")\n",
    "    b = input(\"2つ目を入力: \")\n",
    "    box = [a, b] #配列という\n",
    "    print(box)\n",
    "\n",
    "#関数の使い方\n",
    "box()"
   ]
  },
  {
   "cell_type": "code",
   "execution_count": null,
   "id": "1ff8e22d-16e4-49d8-b50b-a8c036b38315",
   "metadata": {},
   "outputs": [],
   "source": [
    "#練習4\n",
    "#りんご、バナナ、ブドウという文字が入った配列を作る関数fruits_boxを作成して実行してみよう\n",
    "#配列に文字を入れるときは「””」(shiftキー＋２)で文字を囲むこと\n",
    "def fruits_box():\n",
    "    #以下に続きを書いてみよう\n",
    "    "
   ]
  },
  {
   "cell_type": "markdown",
   "id": "929a7457-8187-4414-90ef-25e80fb95dc4",
   "metadata": {},
   "source": [
    "---\n",
    "\n",
    "### ・セクション2: じゃんけんゲームを作ろう\n",
    "\n",
    "1. グー、チョキ、パーが入った配列を作る\n",
    "2. user_handをユーザーが入力できるようにしよう\n",
    "3. 条件文を適切に設定しよう\n",
    "4. 実行して結果を確かめよう\n"
   ]
  },
  {
   "cell_type": "code",
   "execution_count": 3,
   "id": "84bb3d1f-a416-4471-99d1-87bd46b67fbe",
   "metadata": {},
   "outputs": [],
   "source": [
    "import random\n",
    "\n",
    "#以下のコードで穴埋めをしてみよう\n",
    "\n",
    "def janken():\n",
    "    hands = \n",
    "\n",
    "    print(\"じゃんけんゲームスタート！\")\n",
    "    user_hand = \n",
    "    cpu_hand = random.choice(hands)#乱数作成\n",
    "\n",
    "    print(f\"あなた：{user_hand}  vs  コンピュータ：{cpu_hand}\")\n",
    "\n",
    "    if  == :\n",
    "        print(\"引き分け！\")\n",
    "    elif (user_hand == \"\" and cpu_hand == \"\") or \\\n",
    "         (user_hand == \"\" and cpu_hand == \"\") or \\\n",
    "         (user_hand == \"\" and cpu_hand == \"\"):\n",
    "        print(\"あなたの勝ち！\")\n",
    "    else:\n",
    "        print(\"あなたの負け…\")"
   ]
  },
  {
   "cell_type": "code",
   "execution_count": 4,
   "id": "fd449e10-de24-42ff-8114-7c29e30716bc",
   "metadata": {},
   "outputs": [
    {
     "name": "stdout",
     "output_type": "stream",
     "text": [
      "じゃんけんゲームスタート！\n"
     ]
    },
    {
     "name": "stdin",
     "output_type": "stream",
     "text": [
      "グー・チョキ・パーのどれかを入力してください:  グー\n"
     ]
    },
    {
     "name": "stdout",
     "output_type": "stream",
     "text": [
      "あなた：グー  vs  コンピュータ：パー\n",
      "あなたの負け…\n"
     ]
    }
   ],
   "source": [
    "#実行してみよう"
   ]
  },
  {
   "cell_type": "markdown",
   "id": "1831cf7a-4874-4f9e-9e51-2e78a31f99d7",
   "metadata": {},
   "source": [
    "---\n",
    "### ・セクション3: (発展) ゲームを改良してみよう\n",
    "\n",
    "改良例)\n",
    "- level1) for文を使って５回戦にしてみる\n",
    "- level2) while文で何回戦でもできるようにする\n",
    "- level3) try文とexcept文で入力エラーに対する処理と、ゲームストップ機能を追加する"
   ]
  },
  {
   "cell_type": "code",
   "execution_count": 21,
   "id": "99bf9c32-cd4b-4c81-aa19-9fb79b2d71f0",
   "metadata": {},
   "outputs": [
    {
     "ename": "_IncompleteInputError",
     "evalue": "incomplete input (1521858714.py, line 3)",
     "output_type": "error",
     "traceback": [
      "  \u001b[36mCell\u001b[39m\u001b[36m \u001b[39m\u001b[32mIn[21]\u001b[39m\u001b[32m, line 3\u001b[39m\n\u001b[31m    \u001b[39m\n    ^\n\u001b[31m_IncompleteInputError\u001b[39m\u001b[31m:\u001b[39m incomplete input\n"
     ]
    }
   ],
   "source": [
    "#以下に作成\n",
    "def janken2():\n",
    "    "
   ]
  },
  {
   "cell_type": "code",
   "execution_count": null,
   "id": "669d29df-5971-4e50-9f9c-0322766b730d",
   "metadata": {},
   "outputs": [],
   "source": []
  }
 ],
 "metadata": {
  "kernelspec": {
   "display_name": "Python 3 (ipykernel)",
   "language": "python",
   "name": "python3"
  },
  "language_info": {
   "codemirror_mode": {
    "name": "ipython",
    "version": 3
   },
   "file_extension": ".py",
   "mimetype": "text/x-python",
   "name": "python",
   "nbconvert_exporter": "python",
   "pygments_lexer": "ipython3",
   "version": "3.11.11"
  }
 },
 "nbformat": 4,
 "nbformat_minor": 5
}
