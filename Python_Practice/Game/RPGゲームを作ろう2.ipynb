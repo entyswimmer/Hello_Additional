{
 "cells": [
  {
   "cell_type": "markdown",
   "id": "a59d4b06-4400-4251-9e11-7be2d68a3719",
   "metadata": {},
   "source": [
    "# RPGゲームを作ろう2\n",
    "\n",
    "- RPGゲームを作ろう1で作成したゲームを改良を加えよう\n",
    "(このコード自体はすでに完成しているので、一度実行してみましょう)\n",
    "\n",
    "\n",
    "#### (改良point)\n",
    "1. キャラのステータスを変更する(初級)\n",
    "2. スキルを変更する。(中級~上級)\n",
    "3. バインド状態を作成する(上級 ~ 鬼)\n",
    "4. キャラタイプ相性を作成(上級 ~ 鬼)\n",
    "5. その他工夫\n",
    "\n",
    "---"
   ]
  },
  {
   "cell_type": "code",
   "execution_count": 4,
   "id": "65cc1413-2dbc-4b34-8f53-8c32c8ddbbd6",
   "metadata": {},
   "outputs": [],
   "source": [
    "class Character:\n",
    "    def __init__(self, name, hp, power, mp):\n",
    "        self.name = name\n",
    "        self.hp = hp\n",
    "        self.max_hp = hp\n",
    "        self.power = power\n",
    "        self.mp = mp\n",
    "        self.max_mp = mp\n",
    "    \n",
    "    #全体攻撃に対応 (targetはリストを想定)\n",
    "    def attack(self, target):\n",
    "        results = []\n",
    "        \n",
    "        #単体攻撃との互換性の保持\n",
    "        if not isinstance(target, list):\n",
    "            target = [target]\n",
    "\n",
    "        for other in target:\n",
    "            #ダメージにわずかな変動を加える\n",
    "            damage = self.power + random.randint(-2, 2) \n",
    "            other.hp -= damage\n",
    "            \n",
    "            if other.hp <= 0:\n",
    "                other.hp = 0\n",
    "                results.append(f\"{self.name}が{other.name}を攻撃！{other.name}のHPは{other.hp}になった。\\n{other.name}は{self.name}に倒された!\\n\")\n",
    "            else:\n",
    "                results.append(f\"{self.name}が{other.name}を攻撃！{other.name}のHPは{other.hp}になった。\\n\")\n",
    "        \n",
    "        return \"\".join(results)\n",
    "\n",
    "    \n",
    "    def special_attack(self, target):\n",
    "        #必殺技は子クラスで実装\n",
    "        return f\"{self.name}には必殺技が定義されていません。\"\n",
    "\n",
    "    # 生存チェック\n",
    "    def is_alive(self):\n",
    "        return self.hp > 0"
   ]
  },
  {
   "cell_type": "code",
   "execution_count": 37,
   "id": "43389875-d626-4f4f-b6f1-7fbb038a5e27",
   "metadata": {},
   "outputs": [],
   "source": [
    "#勇者パーティーのクラスの定義\n",
    "import copy\n",
    "import random\n",
    "import math\n",
    "\n",
    "HERO = 'hero'\n",
    "HEALER = 'healer'\n",
    "MAGICIAN = 'magician'\n",
    "GARDIAN = 'gardian'\n",
    "\n",
    "class Explorer(Character):\n",
    "    def __init__(self, name, hp, power, mp, role, level=1, leader=False):\n",
    "        super().__init__(name, hp, power, mp)\n",
    "        self.role = role\n",
    "        self.level = level\n",
    "        self.leader = leader\n",
    "        self._initial_state = copy.deepcopy(self.__dict__)\n",
    "\n",
    "    #Characterクラスのspecial_attackをオーバーライド\n",
    "    def special_attack(self, target):\n",
    "        results = []\n",
    "        \n",
    "        #ターゲットが単体の場合も考慮し、リストに変換\n",
    "        if not isinstance(target, list):\n",
    "            target = [target]\n",
    "        \n",
    "        if self.mp < 3:\n",
    "            return f\"{self.name}: MPが足りない！ (現在のMP: {self.mp})\"\n",
    "        \n",
    "        self.mp -= 3 \n",
    "        \n",
    "        #-----------------------------\n",
    "        #勇者の必殺技: 閃空斬り (敵単体へのダメージ)\n",
    "        #-----------------------------\n",
    "        \n",
    "        if self.role == HERO and target and not isinstance(target[0], Explorer):\n",
    "            other = target[0] \n",
    "            damage = self.power * 1.5 + random.randint(-3, 3)\n",
    "            other.hp -= damage\n",
    "            \n",
    "            if other.hp <= 0:\n",
    "                other.hp = 0\n",
    "                results.append(f\"{other.name}に{damage}ダメージ！{other.name}の体力は{other.hp}になった。\\n{other.name}は{self.name}に倒された!\")\n",
    "            else:\n",
    "                results.append(f\"{other.name}に{damage}ダメージ！{other.name}の体力は{other.hp}になった。\")\n",
    "            \n",
    "            return f\"{self.name}の「閃空斬り」発動！\\n\" + \"\".join(results)\n",
    "        \n",
    "        #--------------------------\n",
    "        #ヒーラーの必殺技: 女神の加護(味方の回復)\n",
    "        #--------------------------\n",
    "        \n",
    "        elif self.role == HEALER and target:\n",
    "            for other in target:\n",
    "                # 生きている味方かつExplorerのみを回復対象とする(死んだやつを対象にする変更も考慮)\n",
    "                if other.is_alive() and isinstance(other, Explorer):\n",
    "                    heal_amount = 25 + random.randint(0, 10)\n",
    "                    other.hp = min(other.max_hp, other.hp + heal_amount)\n",
    "                    results.append(f\"{other.name}を{heal_amount}回復！HPは{other.hp}になった。\")\n",
    "            \n",
    "            return f\"{self.name}の「女神の加護」発動！\\n\" + \"\\n\".join(results)\n",
    "\n",
    "        #------------------------------\n",
    "        # 魔法使いの必殺技: マジックゲイン (味方全体MP回復)\n",
    "        #------------------------------\n",
    "        \n",
    "        elif self.role == MAGICIAN and target:\n",
    "            mp_recover = 3\n",
    "            for other in target:\n",
    "                # 生きている味方かつExplorerのみを回復対象とする\n",
    "                if other.is_alive() and isinstance(other, Explorer):\n",
    "                    other.mp += mp_recover\n",
    "                    results.append(f\"{other.name}のMPを{mp_recover}回復！MPは{other.mp}になった。\")\n",
    "            \n",
    "            return f\"{self.name}の「マジックゲイン」発動!\\n\" + \"\\n\".join(results)\n",
    "        \n",
    "        # ターゲット選択が不適切だった場合など\n",
    "        return f\"{self.name}: 必殺技のターゲットが不適切です。\"\n",
    "\n",
    "    \n",
    "    def leader_skill(self, party_members): \n",
    "        # 自身がリーダーとして設定されていない場合は発動しない\n",
    "        if not self.leader:\n",
    "            return f\"{self.name}はリーダーではないため、スキルは発動しません。\\n\"\n",
    "        \n",
    "        results = []\n",
    "\n",
    "        # 勇者: 攻撃力アップ\n",
    "        if self.role == HERO:\n",
    "            for member in party_members:\n",
    "                # powerを1.2倍し、整数に切り上げ\n",
    "                new_power = math.ceil(member.power * 1.2)\n",
    "                results.append(f\"└ {member.name}の攻撃力が {member.power} から {new_power} にアップ!\")\n",
    "                member.power = new_power\n",
    "                \n",
    "        # ヒーラー: 最大HPアップ (現在のHPも合わせて増加)\n",
    "        elif self.role == HEALER:\n",
    "            for member in party_members:\n",
    "                # max_hpを1.2倍し、整数に切り上げ\n",
    "                hp_increase = math.ceil(member.max_hp * 0.2)\n",
    "                member.max_hp += hp_increase\n",
    "                member.hp += hp_increase # 現在のHPも最大値と同じだけ増加させる\n",
    "                results.append(f\"{member.name}の最大HPが {member.max_hp - hp_increase} から {member.max_hp} にアップ!\")\n",
    "                \n",
    "        # 魔法使い: MPアップ (最大MP属性がない場合はmpを直接増加)\n",
    "        elif self.role == MAGICIAN:\n",
    "            # Characterクラスにmax_mpがないと仮定し、mpを直接増加させるが、本来はmax_mpが必要\n",
    "            for member in party_members:\n",
    "                # mpを1.2倍し、整数に切り上げ\n",
    "                mp_increase = math.ceil(member.max_mp * 0.2)\n",
    "                member.max_mp += mp_increase\n",
    "                member.mp += mp_increase\n",
    "                results.append(f\"{member.name}の最大MPが {member.max_mp - mp_increase} から {member.max_mp} にアップ!\")\n",
    "        \n",
    "        return f\"{self.name}のリーダースキル発動！\\n\" + \"\\n\".join(results)\n",
    "        \n",
    "        \n",
    "\n",
    "    def reset(self):\n",
    "        \"\"\"初期状態に戻す\"\"\"\n",
    "        self.__dict__ = copy.deepcopy(self._initial_state)"
   ]
  },
  {
   "cell_type": "code",
   "execution_count": 41,
   "id": "f54e94e0-0ac8-405f-b782-08ed84fe3bd3",
   "metadata": {},
   "outputs": [],
   "source": [
    "#モンスターのクラス定義\n",
    "import copy\n",
    "import random \n",
    "\n",
    "DRAGON = 'dragon'\n",
    "HARPY = 'harpy'\n",
    "WITCH = 'witch'\n",
    "\n",
    "class Monster(Character):\n",
    "    def __init__(self, name, hp, power, mp, breed):\n",
    "        super().__init__(name, hp, power, mp)\n",
    "        self.breed = breed \n",
    "        self._initial_state = copy.deepcopy(self.__dict__)\n",
    "\n",
    "    # Characterクラスのspecial_attackをオーバーライド\n",
    "    def special_attack(self, target):\n",
    "        results = []\n",
    "        \n",
    "        # ターゲットが単体の場合も考慮し、リストに変換\n",
    "        if not isinstance(target, list):\n",
    "            target = [target]\n",
    "\n",
    "        #-----------------------------------\n",
    "        # ドラゴンの必殺技 (敵全体攻撃)\n",
    "        #-----------------------------------\n",
    "        if self.breed == DRAGON:\n",
    "            if self.mp < 3:\n",
    "                return f\"{self.name}: MPが足りない！ (現在のMP: {self.mp})\"\n",
    "            self.mp -= 3\n",
    "            \n",
    "            damage_base = self.power * 2\n",
    "            \n",
    "            # ターゲットリスト全体をループ\n",
    "            for other in target:\n",
    "                damage = damage_base + random.randint(-5, 5)\n",
    "                other.hp -= damage\n",
    "                \n",
    "                if other.hp <= 0:\n",
    "                    other.hp = 0\n",
    "                    results.append(f\"{other.name}に{damage}ダメージ！{other.name}は{self.name}に倒された!\")\n",
    "                else:\n",
    "                    results.append(f\"{other.name}に{damage}ダメージ！{other.name}の体力は{other.hp}になった。\")\n",
    "                    \n",
    "            return f\"{self.name}のファイヤーブレス発動!\\n\" + \"\\n\".join(results)\n",
    "            \n",
    "        #---------------------------------\n",
    "        # ハーピーの必殺技: 奇跡の歌声 (maxHPの50%自己回復+相手の攻撃力を10パーセント下げる)\n",
    "        #----------------------------------\n",
    "        elif self.breed == HARPY:\n",
    "            if self.mp < 3:\n",
    "                return f\"{self.name}: MPが足りない！ (現在のMP: {self.mp})\"\n",
    "            self.mp -= 3\n",
    "            heal_amount = self.max_hp*0.5 + random.randint(-5, 10)\n",
    "            self.hp = min(self.max_hp, self.hp + heal_amount)\n",
    "            \n",
    "            # ターゲットリスト全体をループ\n",
    "            for other in target:\n",
    "                debuf = (10 + random.randint(-2, 5)) / 100\n",
    "                debuf_amount = math.ceil(other.power * debuf)\n",
    "                other.power -= debuf_amount\n",
    "                if other.power <= 0:\n",
    "                    other.power = 0\n",
    "                    results.append(f\"{other.name}の攻撃力が{debuf_amount}%減って{other.power}に下がった！\")\n",
    "                else:\n",
    "                    results.append(f\"{other.name}の攻撃力が{debuf_amount}%減って{other.power}に下がった！\")\n",
    "            return f\"{self.name}の「奇跡の歌声」発動！\\n{self.name}は体力を{heal_amount}回復！体力は{self.hp}になった。\\n\" + \"\\n\".join(results)\n",
    "\n",
    "        #---------------------------------------------\n",
    "        # ウィッチの必殺技:マジカルドレイン (敵全体MPドレイン)\n",
    "        #---------------------------------------------\n",
    "        elif self.breed == WITCH:\n",
    "            if self.mp < 3:\n",
    "                return f\"{self.name}: MPが足りない！ (現在のMP: {self.mp})\"\n",
    "            self.mp -= 3\n",
    "            \n",
    "            drained_mp_total = 0\n",
    "            \n",
    "            # ターゲットリスト全体をループ\n",
    "            for other in target:\n",
    "                mp_drain = 2 + random.randint(-1, 3)\n",
    "                drained_mp_total += mp_drain\n",
    "                other.mp = max(0, other.mp - mp_drain)\n",
    "                results.append(f\"{other.name}のMPを{mp_drain}奪った！MPは{other.mp}になった。\")\n",
    "                \n",
    "            self.power += drained_mp_total # 奪ったMPの総量を自身の攻撃力に追加\n",
    "            \n",
    "            return f\"{self.name}のドレイン発動！\\n\" + \"\\n\".join(results) + f\"\\n{self.name}の攻撃力が{drained_mp_total}上がった！\"\n",
    "        \n",
    "        # どのbreedにも一致しなかった場合の処理\n",
    "        return self.attack(target) # 定義外の種族は通常攻撃にフォールバック\n",
    "\n",
    "        #特殊スキル\n",
    "        #後々実装"
   ]
  },
  {
   "cell_type": "code",
   "execution_count": 42,
   "id": "c5df164e-1307-4fed-8bea-0aa0c3b11e56",
   "metadata": {},
   "outputs": [],
   "source": [
    "#バトルのマネジメント\n",
    "import random\n",
    "import sys\n",
    "\n",
    "# 定数はCharacter/Explorer/Monsterクラスで定義済みのものを使用\n",
    "HERO = 'hero'\n",
    "HEALER = 'healer'\n",
    "MAGICIAN = 'magician'\n",
    "DRAGON = 'dragon'\n",
    "HARPY = 'harpy'\n",
    "WITCH = 'witch'\n",
    "\n",
    "\n",
    "class BattleManager:\n",
    "    def __init__(self, party, enemy_team):\n",
    "        self.party = party\n",
    "        self.enemy_team = enemy_team\n",
    "        self.turn = 1\n",
    "        self.is_game_over = False\n",
    "        \n",
    "        # 戦闘開始時にリーダースキルを発動\n",
    "        self._activate_leader_skill()\n",
    "\n",
    "    #-------------パーティ内でリーダーが設定されていればスキルを発動する-------\n",
    "    def _activate_leader_skill(self):\n",
    "        leader_char = next((p for p in self.party if p.leader), None)\n",
    "\n",
    "        if leader_char:\n",
    "            #Explorerのleader_skillメソッドにパーティメンバー全体を渡す\n",
    "            print(\"\\n\" + \"=\"*50)\n",
    "            print(leader_char.leader_skill(self.party)) \n",
    "            print(\"=\"*50)\n",
    "        else:\n",
    "            print(\"\\nリーダーは設定されていません。リーダースキルは発動しません。\")\n",
    "\n",
    "    #-----------------全員のステータスを表示-------------------------------\n",
    "    def display_status(self):\n",
    "        print(\"\\n\" + \"=\"*50)\n",
    "        print(f\"--- ターン: {self.turn} ---\")\n",
    "        \n",
    "        # パーティーステータス\n",
    "        print(\"\\n[勇者パーティ]\")\n",
    "        for i, member in enumerate(self.party):\n",
    "            leader_tag = \" (リーダー)\" if member.leader else \"\"\n",
    "            print(f\" {i+1}. {member.name} ({member.role}{leader_tag}): HP {member.hp}/{member.max_hp}, MP {member.mp}/{member.max_mp}, 攻撃力 {member.power}\")\n",
    "            \n",
    "        \n",
    "        # モンスター隊ステータス (1体のみ)\n",
    "        print(\"\\n[モンスター]\")\n",
    "        for i, monster in enumerate(self.enemy_team):\n",
    "            print(f\" {i+1}. {monster.name} ({monster.breed}): HP {monster.hp}/{monster.max_hp}, MP {monster.mp}/{monster.max_mp}, 攻撃力 {monster.power}\")\n",
    "        print(\"=\"*50 + \"\\n\")\n",
    "\n",
    "    #-------------------ユーザーにターゲットを単体選択させるヘルパー関数-------------------\n",
    "    def _select_target(self, targets, action_type=\"攻撃\"):\n",
    "        while True:\n",
    "            try:\n",
    "                print(f\"{action_type}ターゲットを選択してください:\")\n",
    "                \n",
    "                # 生きているターゲットのみ表示\n",
    "                alive_targets = [t for t in targets if t.is_alive()]\n",
    "                if not alive_targets:\n",
    "                    print(\"ターゲットがいません！\")\n",
    "                    return None\n",
    "\n",
    "                for i, target in enumerate(alive_targets):\n",
    "                    print(f\" {i+1}. {target.name} (HP: {target.hp})\")\n",
    "                \n",
    "                target_index = int(input(\"番号を入力 (1/...): \")) - 1\n",
    "                \n",
    "                if 0 <= target_index < len(alive_targets):\n",
    "                    # 選択された単体ターゲットを返す\n",
    "                    return alive_targets[target_index]\n",
    "                else:\n",
    "                    print(\"無効な番号です。再入力してください。\")\n",
    "            except ValueError:\n",
    "                print(\"数字を入力してください。\")\n",
    "\n",
    "    #---------------プレイヤーが操作するターン-------------------------------\n",
    "    def player_turn(self):\n",
    "        print(\"--- プレイヤーのターン ---\")\n",
    "        \n",
    "        for player in self.party:\n",
    "            if not player.is_alive():\n",
    "                continue\n",
    "\n",
    "            print(f\"\\n[{player.name} の行動]\")\n",
    "            \n",
    "            # 生きている敵と味方のリストを作成\n",
    "            alive_enemies = [m for m in self.enemy_team if m.is_alive()]\n",
    "            alive_allies = [p for p in self.party if p.is_alive()]\n",
    "            \n",
    "            if not alive_enemies:\n",
    "                return # 敵がいないためターン終了\n",
    "\n",
    "            while True:\n",
    "                action = input(f\"行動を選択 (a:通常攻撃 / s:必殺技): \").lower()\n",
    "                \n",
    "                # --- 通常攻撃 (全体攻撃) ---\n",
    "                if action == 'a':\n",
    "                    # Character.attackはリストを受け入れるため、生きている敵全体を渡す\n",
    "                    target_list = alive_enemies\n",
    "                    print(player.attack(target_list))\n",
    "                    break\n",
    "                \n",
    "                # --- 必殺技 ---\n",
    "                elif action == 's':\n",
    "                    if player.mp < 3:\n",
    "                        print(f\"{player.name}のMPが足りません\")\n",
    "                        continue\n",
    "                        \n",
    "                    if player.role == HERO:\n",
    "                        #勇者の場合は単体ターゲットを選択させる\n",
    "                        target = self._select_target(alive_enemies, \"勇者の必殺技\")\n",
    "                        if not target: continue\n",
    "                        target_list = [target] # リスト化してspecial_attackに渡す\n",
    "                        \n",
    "                    elif player.role == HEALER:\n",
    "                        # ヒーラー/魔法使いは味方全体をターゲット\n",
    "                        target_list = alive_allies\n",
    "\n",
    "                    elif player.role == MAGICIAN:\n",
    "                        #魔法使いの対象は自分以外全員\n",
    "                        target_list = [m for m in alive_allies if m.role != MAGICIAN]\n",
    "                        \n",
    "                    else:\n",
    "                        print(\"その役割には必殺技がありません。\")\n",
    "                        continue\n",
    "                    \n",
    "                    print(player.special_attack(target_list))\n",
    "                    break\n",
    "                \n",
    "                else:\n",
    "                    print(\"無効な入力です。'a' または 's' を入力してください。\")\n",
    "            \n",
    "            if self.check_game_status():\n",
    "                return \n",
    "\n",
    "    #--------------------------モンスターが行動するターン (簡単なAI)------------------------------\n",
    "    def enemy_turn(self):\n",
    "        print(\"\\n--- モンスターのターン ---\")\n",
    "        \n",
    "        alive_players = [p for p in self.party if p.is_alive()]\n",
    "        if not alive_players:\n",
    "            return\n",
    "\n",
    "        # モンスターは1体のみ\n",
    "        monster = self.enemy_team[0] \n",
    "        if not monster.is_alive():\n",
    "            return\n",
    "        \n",
    "        # ターゲット決定\n",
    "        monster_breed = monster.breed\n",
    "        \n",
    "        # モンスターのAI: 必殺技 or 通常攻撃\n",
    "        # AIロジック: 40%の確率、またはMPが3以上ありHPが半分以下の場合は必殺技\n",
    "        use_special_attack = (random.random() < 0.4) or \\\n",
    "                             (monster.mp >= 3 and monster.hp < monster.max_hp * 0.5)\n",
    "\n",
    "        if use_special_attack:\n",
    "            # 必殺技を使用する場合のターゲット設定\n",
    "            if monster_breed == DRAGON or monster_breed == WITCH:\n",
    "                # ドラゴン(全体攻撃)、ウィッチ(全体ドレイン)はパーティ全体をターゲット\n",
    "                target_list = alive_players \n",
    "            elif monster_breed == HARPY:\n",
    "                target_list = alive_players\n",
    "            else:\n",
    "                 # 未定義の場合に備えて\n",
    "                target_list = alive_players\n",
    "\n",
    "            print(monster.special_attack(target_list))\n",
    "\n",
    "        else:\n",
    "            # 通常攻撃の場合、Character.attackはリストを受け入れるため、パーティ全体を渡す\n",
    "            target_list = alive_players\n",
    "            print(monster.attack(target_list))\n",
    "\n",
    "        if self.check_game_status():\n",
    "            return\n",
    "            \n",
    "    #---------------------勝敗のチェック---------------------------------\n",
    "    def check_game_status(self):\n",
    "        alive_party = [p for p in self.party if p.is_alive()]\n",
    "        alive_enemies = [m for m in self.enemy_team if m.is_alive()]\n",
    "        \n",
    "        if not alive_party:\n",
    "            print(\"\\n!!! 勇者パーティは全滅した。ゲームオーバー !!!\")\n",
    "            self.is_game_over = True\n",
    "            return True\n",
    "        \n",
    "        if not alive_enemies:\n",
    "            print(\"\\n!!! モンスターをすべて倒した！勝利 !!!\")\n",
    "            self.is_game_over = True\n",
    "            return True\n",
    "        \n",
    "        # 生きているメンバーを更新\n",
    "        self.party = alive_party\n",
    "        self.enemy_team = alive_enemies\n",
    "        return False\n",
    "\n",
    "\n",
    "    #------------------------戦闘の開始と実行--------------------------------------------\n",
    "    def start_battle(self):\n",
    "        enemy_name = self.enemy_team[0].name if self.enemy_team else \"敵\"\n",
    "        print(f\"{enemy_name}が立ちはだかる！バトル開始！\")\n",
    "        \n",
    "        while not self.is_game_over:\n",
    "            self.display_status()\n",
    "            \n",
    "            # プレイヤーターン\n",
    "            self.player_turn()\n",
    "            if self.is_game_over: break\n",
    "            \n",
    "            # モンスターターン\n",
    "            self.enemy_turn()\n",
    "            if self.is_game_over: break\n",
    "            \n",
    "            self.turn += 1\n",
    "        \n",
    "        print(\"\\n--- 戦闘終了 ---\")"
   ]
  },
  {
   "cell_type": "code",
   "execution_count": 40,
   "id": "4b1e8fd8-2801-4f6b-9e86-b96c45016287",
   "metadata": {},
   "outputs": [
    {
     "name": "stdout",
     "output_type": "stream",
     "text": [
      "各キャラクターの情報は下を確認！\n",
      "\n",
      "--- リーダー設定  ---\n",
      " 1. アーサー (hero)\n",
      " 2. リア (healer)\n",
      " 3. マーリン (magician)\n"
     ]
    },
    {
     "name": "stdin",
     "output_type": "stream",
     "text": [
      "リーダーにしたいメンバーの番号を入力してください (1/2/3):  1\n"
     ]
    },
    {
     "name": "stdout",
     "output_type": "stream",
     "text": [
      "アーサー をリーダーに設定しました。\n",
      "\n",
      "==================================================\n",
      "アーサーのリーダースキル発動！\n",
      "└ アーサーの攻撃力が 15 から 18 にアップ!\n",
      "└ リアの攻撃力が 10 から 12 にアップ!\n",
      "└ マーリンの攻撃力が 17 から 21 にアップ!\n",
      "==================================================\n",
      "セイレーンが立ちはだかる！バトル開始！\n",
      "\n",
      "==================================================\n",
      "--- ターン: 1 ---\n",
      "\n",
      "[勇者パーティ]\n",
      " 1. アーサー (hero (リーダー)): HP 100/100, MP 5/5, 攻撃力 18\n",
      " 2. リア (healer): HP 80/80, MP 8/8, 攻撃力 12\n",
      " 3. マーリン (magician): HP 70/70, MP 10/10, 攻撃力 21\n",
      "\n",
      "[モンスター]\n",
      " 1. セイレーン (harpy): HP 260/260, MP 9/9, 攻撃力 18\n",
      "==================================================\n",
      "\n",
      "--- プレイヤーのターン ---\n",
      "\n",
      "[アーサー の行動]\n"
     ]
    },
    {
     "name": "stdin",
     "output_type": "stream",
     "text": [
      "行動を選択 (a:通常攻撃 / s:必殺技):  s\n"
     ]
    },
    {
     "name": "stdout",
     "output_type": "stream",
     "text": [
      "勇者の必殺技ターゲットを選択してください:\n",
      " 1. セイレーン (HP: 260)\n"
     ]
    },
    {
     "name": "stdin",
     "output_type": "stream",
     "text": [
      "番号を入力 (1/...):  1\n"
     ]
    },
    {
     "name": "stdout",
     "output_type": "stream",
     "text": [
      "アーサーの「閃空斬り」発動！\n",
      "セイレーンに24.0ダメージ！セイレーンの体力は236.0になった。\n",
      "\n",
      "[リア の行動]\n"
     ]
    },
    {
     "name": "stdin",
     "output_type": "stream",
     "text": [
      "行動を選択 (a:通常攻撃 / s:必殺技):  a\n"
     ]
    },
    {
     "name": "stdout",
     "output_type": "stream",
     "text": [
      "リアがセイレーンを攻撃！セイレーンのHPは223.0になった。\n",
      "\n",
      "\n",
      "[マーリン の行動]\n"
     ]
    },
    {
     "name": "stdin",
     "output_type": "stream",
     "text": [
      "行動を選択 (a:通常攻撃 / s:必殺技):  s\n"
     ]
    },
    {
     "name": "stdout",
     "output_type": "stream",
     "text": [
      "マーリンの「マジックゲイン」発動!\n",
      "アーサーのMPを3回復！MPは5になった。\n",
      "リアのMPを3回復！MPは11になった。\n",
      "\n",
      "--- モンスターのターン ---\n",
      "セイレーンがアーサーを攻撃！アーサーのHPは82になった。\n",
      "セイレーンがリアを攻撃！リアのHPは63になった。\n",
      "セイレーンがマーリンを攻撃！マーリンのHPは52になった。\n",
      "\n",
      "\n",
      "==================================================\n",
      "--- ターン: 2 ---\n",
      "\n",
      "[勇者パーティ]\n",
      " 1. アーサー (hero (リーダー)): HP 82/100, MP 5/5, 攻撃力 18\n",
      " 2. リア (healer): HP 63/80, MP 11/8, 攻撃力 12\n",
      " 3. マーリン (magician): HP 52/70, MP 7/10, 攻撃力 21\n",
      "\n",
      "[モンスター]\n",
      " 1. セイレーン (harpy): HP 223.0/260, MP 9/9, 攻撃力 18\n",
      "==================================================\n",
      "\n",
      "--- プレイヤーのターン ---\n",
      "\n",
      "[アーサー の行動]\n"
     ]
    },
    {
     "name": "stdin",
     "output_type": "stream",
     "text": [
      "行動を選択 (a:通常攻撃 / s:必殺技):  s\n"
     ]
    },
    {
     "name": "stdout",
     "output_type": "stream",
     "text": [
      "勇者の必殺技ターゲットを選択してください:\n",
      " 1. セイレーン (HP: 223.0)\n"
     ]
    },
    {
     "name": "stdin",
     "output_type": "stream",
     "text": [
      "番号を入力 (1/...):  1\n"
     ]
    },
    {
     "name": "stdout",
     "output_type": "stream",
     "text": [
      "アーサーの「閃空斬り」発動！\n",
      "セイレーンに26.0ダメージ！セイレーンの体力は197.0になった。\n",
      "\n",
      "[リア の行動]\n"
     ]
    },
    {
     "name": "stdin",
     "output_type": "stream",
     "text": [
      "行動を選択 (a:通常攻撃 / s:必殺技):  a\n"
     ]
    },
    {
     "name": "stdout",
     "output_type": "stream",
     "text": [
      "リアがセイレーンを攻撃！セイレーンのHPは184.0になった。\n",
      "\n",
      "\n",
      "[マーリン の行動]\n"
     ]
    },
    {
     "name": "stdin",
     "output_type": "stream",
     "text": [
      "行動を選択 (a:通常攻撃 / s:必殺技):  s\n"
     ]
    },
    {
     "name": "stdout",
     "output_type": "stream",
     "text": [
      "マーリンの「マジックゲイン」発動!\n",
      "アーサーのMPを3回復！MPは5になった。\n",
      "リアのMPを3回復！MPは14になった。\n",
      "\n",
      "--- モンスターのターン ---\n",
      "セイレーンがアーサーを攻撃！アーサーのHPは65になった。\n",
      "セイレーンがリアを攻撃！リアのHPは45になった。\n",
      "セイレーンがマーリンを攻撃！マーリンのHPは35になった。\n",
      "\n",
      "\n",
      "==================================================\n",
      "--- ターン: 3 ---\n",
      "\n",
      "[勇者パーティ]\n",
      " 1. アーサー (hero (リーダー)): HP 65/100, MP 5/5, 攻撃力 18\n",
      " 2. リア (healer): HP 45/80, MP 14/8, 攻撃力 12\n",
      " 3. マーリン (magician): HP 35/70, MP 4/10, 攻撃力 21\n",
      "\n",
      "[モンスター]\n",
      " 1. セイレーン (harpy): HP 184.0/260, MP 9/9, 攻撃力 18\n",
      "==================================================\n",
      "\n",
      "--- プレイヤーのターン ---\n",
      "\n",
      "[アーサー の行動]\n"
     ]
    },
    {
     "name": "stdin",
     "output_type": "stream",
     "text": [
      "行動を選択 (a:通常攻撃 / s:必殺技):  s\n"
     ]
    },
    {
     "name": "stdout",
     "output_type": "stream",
     "text": [
      "勇者の必殺技ターゲットを選択してください:\n",
      " 1. セイレーン (HP: 184.0)\n"
     ]
    },
    {
     "name": "stdin",
     "output_type": "stream",
     "text": [
      "番号を入力 (1/...):  1\n"
     ]
    },
    {
     "name": "stdout",
     "output_type": "stream",
     "text": [
      "アーサーの「閃空斬り」発動！\n",
      "セイレーンに28.0ダメージ！セイレーンの体力は156.0になった。\n",
      "\n",
      "[リア の行動]\n"
     ]
    },
    {
     "name": "stdin",
     "output_type": "stream",
     "text": [
      "行動を選択 (a:通常攻撃 / s:必殺技):  a\n"
     ]
    },
    {
     "name": "stdout",
     "output_type": "stream",
     "text": [
      "リアがセイレーンを攻撃！セイレーンのHPは144.0になった。\n",
      "\n",
      "\n",
      "[マーリン の行動]\n"
     ]
    },
    {
     "name": "stdin",
     "output_type": "stream",
     "text": [
      "行動を選択 (a:通常攻撃 / s:必殺技):  s\n"
     ]
    },
    {
     "name": "stdout",
     "output_type": "stream",
     "text": [
      "マーリンの「マジックゲイン」発動!\n",
      "アーサーのMPを3回復！MPは5になった。\n",
      "リアのMPを3回復！MPは17になった。\n",
      "\n",
      "--- モンスターのターン ---\n",
      "セイレーンの「奇跡の歌声」発動！\n",
      "セイレーンは体力を133.0回復！体力は260になった。\n",
      "アーサーの攻撃力が7.000000000000001%減って16に下がった！\n",
      "リアの攻撃力が4.0%減って11に下がった！\n",
      "マーリンの攻撃力が3.0%減って20に下がった！\n",
      "\n",
      "==================================================\n",
      "--- ターン: 4 ---\n",
      "\n",
      "[勇者パーティ]\n",
      " 1. アーサー (hero (リーダー)): HP 65/100, MP 5/5, 攻撃力 16\n",
      " 2. リア (healer): HP 45/80, MP 17/8, 攻撃力 11\n",
      " 3. マーリン (magician): HP 35/70, MP 1/10, 攻撃力 20\n",
      "\n",
      "[モンスター]\n",
      " 1. セイレーン (harpy): HP 260/260, MP 6/9, 攻撃力 18\n",
      "==================================================\n",
      "\n",
      "--- プレイヤーのターン ---\n",
      "\n",
      "[アーサー の行動]\n"
     ]
    },
    {
     "name": "stdin",
     "output_type": "stream",
     "text": [
      "行動を選択 (a:通常攻撃 / s:必殺技):  s\n"
     ]
    },
    {
     "name": "stdout",
     "output_type": "stream",
     "text": [
      "勇者の必殺技ターゲットを選択してください:\n",
      " 1. セイレーン (HP: 260)\n"
     ]
    },
    {
     "name": "stdin",
     "output_type": "stream",
     "text": [
      "番号を入力 (1/...):  1\n"
     ]
    },
    {
     "name": "stdout",
     "output_type": "stream",
     "text": [
      "アーサーの「閃空斬り」発動！\n",
      "セイレーンに25.0ダメージ！セイレーンの体力は235.0になった。\n",
      "\n",
      "[リア の行動]\n"
     ]
    },
    {
     "name": "stdin",
     "output_type": "stream",
     "text": [
      "行動を選択 (a:通常攻撃 / s:必殺技):  s\n"
     ]
    },
    {
     "name": "stdout",
     "output_type": "stream",
     "text": [
      "リアの「女神の加護」発動！\n",
      "アーサーを32回復！HPは97になった。\n",
      "リアを25回復！HPは70になった。\n",
      "マーリンを26回復！HPは61になった。\n",
      "\n",
      "[マーリン の行動]\n"
     ]
    },
    {
     "name": "stdin",
     "output_type": "stream",
     "text": [
      "行動を選択 (a:通常攻撃 / s:必殺技):  a\n"
     ]
    },
    {
     "name": "stdout",
     "output_type": "stream",
     "text": [
      "マーリンがセイレーンを攻撃！セイレーンのHPは216.0になった。\n",
      "\n",
      "\n",
      "--- モンスターのターン ---\n",
      "セイレーンがアーサーを攻撃！アーサーのHPは78になった。\n",
      "セイレーンがリアを攻撃！リアのHPは52になった。\n",
      "セイレーンがマーリンを攻撃！マーリンのHPは41になった。\n",
      "\n",
      "\n",
      "==================================================\n",
      "--- ターン: 5 ---\n",
      "\n",
      "[勇者パーティ]\n",
      " 1. アーサー (hero (リーダー)): HP 78/100, MP 2/5, 攻撃力 16\n",
      " 2. リア (healer): HP 52/80, MP 14/8, 攻撃力 11\n",
      " 3. マーリン (magician): HP 41/70, MP 1/10, 攻撃力 20\n",
      "\n",
      "[モンスター]\n",
      " 1. セイレーン (harpy): HP 216.0/260, MP 6/9, 攻撃力 18\n",
      "==================================================\n",
      "\n",
      "--- プレイヤーのターン ---\n",
      "\n",
      "[アーサー の行動]\n"
     ]
    },
    {
     "name": "stdin",
     "output_type": "stream",
     "text": [
      "行動を選択 (a:通常攻撃 / s:必殺技):  a\n"
     ]
    },
    {
     "name": "stdout",
     "output_type": "stream",
     "text": [
      "アーサーがセイレーンを攻撃！セイレーンのHPは202.0になった。\n",
      "\n",
      "\n",
      "[リア の行動]\n"
     ]
    },
    {
     "name": "stdin",
     "output_type": "stream",
     "text": [
      "行動を選択 (a:通常攻撃 / s:必殺技):  s\n"
     ]
    },
    {
     "name": "stdout",
     "output_type": "stream",
     "text": [
      "リアの「女神の加護」発動！\n",
      "アーサーを33回復！HPは100になった。\n",
      "リアを33回復！HPは80になった。\n",
      "マーリンを30回復！HPは70になった。\n",
      "\n",
      "[マーリン の行動]\n"
     ]
    },
    {
     "name": "stdin",
     "output_type": "stream",
     "text": [
      "行動を選択 (a:通常攻撃 / s:必殺技):  a\n"
     ]
    },
    {
     "name": "stdout",
     "output_type": "stream",
     "text": [
      "マーリンがセイレーンを攻撃！セイレーンのHPは180.0になった。\n",
      "\n",
      "\n",
      "--- モンスターのターン ---\n",
      "セイレーンがアーサーを攻撃！アーサーのHPは80になった。\n",
      "セイレーンがリアを攻撃！リアのHPは64になった。\n",
      "セイレーンがマーリンを攻撃！マーリンのHPは53になった。\n",
      "\n",
      "\n",
      "==================================================\n",
      "--- ターン: 6 ---\n",
      "\n",
      "[勇者パーティ]\n",
      " 1. アーサー (hero (リーダー)): HP 80/100, MP 2/5, 攻撃力 16\n",
      " 2. リア (healer): HP 64/80, MP 11/8, 攻撃力 11\n",
      " 3. マーリン (magician): HP 53/70, MP 1/10, 攻撃力 20\n",
      "\n",
      "[モンスター]\n",
      " 1. セイレーン (harpy): HP 180.0/260, MP 6/9, 攻撃力 18\n",
      "==================================================\n",
      "\n",
      "--- プレイヤーのターン ---\n",
      "\n",
      "[アーサー の行動]\n"
     ]
    },
    {
     "name": "stdin",
     "output_type": "stream",
     "text": [
      "行動を選択 (a:通常攻撃 / s:必殺技):  a\n"
     ]
    },
    {
     "name": "stdout",
     "output_type": "stream",
     "text": [
      "アーサーがセイレーンを攻撃！セイレーンのHPは164.0になった。\n",
      "\n",
      "\n",
      "[リア の行動]\n"
     ]
    },
    {
     "name": "stdin",
     "output_type": "stream",
     "text": [
      "行動を選択 (a:通常攻撃 / s:必殺技):  s\n"
     ]
    },
    {
     "name": "stdout",
     "output_type": "stream",
     "text": [
      "リアの「女神の加護」発動！\n",
      "アーサーを27回復！HPは100になった。\n",
      "リアを30回復！HPは80になった。\n",
      "マーリンを32回復！HPは70になった。\n",
      "\n",
      "[マーリン の行動]\n"
     ]
    },
    {
     "name": "stdin",
     "output_type": "stream",
     "text": [
      "行動を選択 (a:通常攻撃 / s:必殺技):  a\n"
     ]
    },
    {
     "name": "stdout",
     "output_type": "stream",
     "text": [
      "マーリンがセイレーンを攻撃！セイレーンのHPは142.0になった。\n",
      "\n",
      "\n",
      "--- モンスターのターン ---\n",
      "セイレーンがアーサーを攻撃！アーサーのHPは84になった。\n",
      "セイレーンがリアを攻撃！リアのHPは63になった。\n",
      "セイレーンがマーリンを攻撃！マーリンのHPは53になった。\n",
      "\n",
      "\n",
      "==================================================\n",
      "--- ターン: 7 ---\n",
      "\n",
      "[勇者パーティ]\n",
      " 1. アーサー (hero (リーダー)): HP 84/100, MP 2/5, 攻撃力 16\n",
      " 2. リア (healer): HP 63/80, MP 8/8, 攻撃力 11\n",
      " 3. マーリン (magician): HP 53/70, MP 1/10, 攻撃力 20\n",
      "\n",
      "[モンスター]\n",
      " 1. セイレーン (harpy): HP 142.0/260, MP 6/9, 攻撃力 18\n",
      "==================================================\n",
      "\n",
      "--- プレイヤーのターン ---\n",
      "\n",
      "[アーサー の行動]\n"
     ]
    },
    {
     "name": "stdin",
     "output_type": "stream",
     "text": [
      "行動を選択 (a:通常攻撃 / s:必殺技):  a\n"
     ]
    },
    {
     "name": "stdout",
     "output_type": "stream",
     "text": [
      "アーサーがセイレーンを攻撃！セイレーンのHPは128.0になった。\n",
      "\n",
      "\n",
      "[リア の行動]\n"
     ]
    },
    {
     "name": "stdin",
     "output_type": "stream",
     "text": [
      "行動を選択 (a:通常攻撃 / s:必殺技):  s\n"
     ]
    },
    {
     "name": "stdout",
     "output_type": "stream",
     "text": [
      "リアの「女神の加護」発動！\n",
      "アーサーを27回復！HPは100になった。\n",
      "リアを30回復！HPは80になった。\n",
      "マーリンを28回復！HPは70になった。\n",
      "\n",
      "[マーリン の行動]\n"
     ]
    },
    {
     "name": "stdin",
     "output_type": "stream",
     "text": [
      "行動を選択 (a:通常攻撃 / s:必殺技):  a\n"
     ]
    },
    {
     "name": "stdout",
     "output_type": "stream",
     "text": [
      "マーリンがセイレーンを攻撃！セイレーンのHPは109.0になった。\n",
      "\n",
      "\n",
      "--- モンスターのターン ---\n",
      "セイレーンの「奇跡の歌声」発動！\n",
      "セイレーンは体力を136.0回復！体力は245.0になった。\n",
      "アーサーの攻撃力が4.0%減って15に下がった！\n",
      "リアの攻撃力が6.0%減って10に下がった！\n",
      "マーリンの攻撃力が3.0%減って19に下がった！\n",
      "\n",
      "==================================================\n",
      "--- ターン: 8 ---\n",
      "\n",
      "[勇者パーティ]\n",
      " 1. アーサー (hero (リーダー)): HP 100/100, MP 2/5, 攻撃力 15\n",
      " 2. リア (healer): HP 80/80, MP 5/8, 攻撃力 10\n",
      " 3. マーリン (magician): HP 70/70, MP 1/10, 攻撃力 19\n",
      "\n",
      "[モンスター]\n",
      " 1. セイレーン (harpy): HP 245.0/260, MP 3/9, 攻撃力 18\n",
      "==================================================\n",
      "\n",
      "--- プレイヤーのターン ---\n",
      "\n",
      "[アーサー の行動]\n"
     ]
    },
    {
     "name": "stdin",
     "output_type": "stream",
     "text": [
      "行動を選択 (a:通常攻撃 / s:必殺技):  a\n"
     ]
    },
    {
     "name": "stdout",
     "output_type": "stream",
     "text": [
      "アーサーがセイレーンを攻撃！セイレーンのHPは229.0になった。\n",
      "\n",
      "\n",
      "[リア の行動]\n"
     ]
    },
    {
     "name": "stdin",
     "output_type": "stream",
     "text": [
      "行動を選択 (a:通常攻撃 / s:必殺技):  s\n"
     ]
    },
    {
     "name": "stdout",
     "output_type": "stream",
     "text": [
      "リアの「女神の加護」発動！\n",
      "アーサーを31回復！HPは100になった。\n",
      "リアを26回復！HPは80になった。\n",
      "マーリンを28回復！HPは70になった。\n",
      "\n",
      "[マーリン の行動]\n"
     ]
    },
    {
     "name": "stdin",
     "output_type": "stream",
     "text": [
      "行動を選択 (a:通常攻撃 / s:必殺技):  a\n"
     ]
    },
    {
     "name": "stdout",
     "output_type": "stream",
     "text": [
      "マーリンがセイレーンを攻撃！セイレーンのHPは212.0になった。\n",
      "\n",
      "\n",
      "--- モンスターのターン ---\n",
      "セイレーンの「奇跡の歌声」発動！\n",
      "セイレーンは体力を140.0回復！体力は260になった。\n",
      "アーサーの攻撃力が5.0%減って14に下がった！\n",
      "リアの攻撃力が4.0%減って9に下がった！\n",
      "マーリンの攻撃力が7.000000000000001%減って17に下がった！\n",
      "\n",
      "==================================================\n",
      "--- ターン: 9 ---\n",
      "\n",
      "[勇者パーティ]\n",
      " 1. アーサー (hero (リーダー)): HP 100/100, MP 2/5, 攻撃力 14\n",
      " 2. リア (healer): HP 80/80, MP 2/8, 攻撃力 9\n",
      " 3. マーリン (magician): HP 70/70, MP 1/10, 攻撃力 17\n",
      "\n",
      "[モンスター]\n",
      " 1. セイレーン (harpy): HP 260/260, MP 0/9, 攻撃力 18\n",
      "==================================================\n",
      "\n",
      "--- プレイヤーのターン ---\n",
      "\n",
      "[アーサー の行動]\n"
     ]
    },
    {
     "name": "stdin",
     "output_type": "stream",
     "text": [
      "行動を選択 (a:通常攻撃 / s:必殺技):  a\n"
     ]
    },
    {
     "name": "stdout",
     "output_type": "stream",
     "text": [
      "アーサーがセイレーンを攻撃！セイレーンのHPは244になった。\n",
      "\n",
      "\n",
      "[リア の行動]\n"
     ]
    },
    {
     "name": "stdin",
     "output_type": "stream",
     "text": [
      "行動を選択 (a:通常攻撃 / s:必殺技):  s\n"
     ]
    },
    {
     "name": "stdout",
     "output_type": "stream",
     "text": [
      "リアのMPが足りません\n"
     ]
    },
    {
     "name": "stdin",
     "output_type": "stream",
     "text": [
      "行動を選択 (a:通常攻撃 / s:必殺技):  a\n"
     ]
    },
    {
     "name": "stdout",
     "output_type": "stream",
     "text": [
      "リアがセイレーンを攻撃！セイレーンのHPは233になった。\n",
      "\n",
      "\n",
      "[マーリン の行動]\n"
     ]
    },
    {
     "name": "stdin",
     "output_type": "stream",
     "text": [
      "行動を選択 (a:通常攻撃 / s:必殺技):  a\n"
     ]
    },
    {
     "name": "stdout",
     "output_type": "stream",
     "text": [
      "マーリンがセイレーンを攻撃！セイレーンのHPは218になった。\n",
      "\n",
      "\n",
      "--- モンスターのターン ---\n",
      "セイレーンがアーサーを攻撃！アーサーのHPは80になった。\n",
      "セイレーンがリアを攻撃！リアのHPは60になった。\n",
      "セイレーンがマーリンを攻撃！マーリンのHPは52になった。\n",
      "\n",
      "\n",
      "==================================================\n",
      "--- ターン: 10 ---\n",
      "\n",
      "[勇者パーティ]\n",
      " 1. アーサー (hero (リーダー)): HP 80/100, MP 2/5, 攻撃力 14\n",
      " 2. リア (healer): HP 60/80, MP 2/8, 攻撃力 9\n",
      " 3. マーリン (magician): HP 52/70, MP 1/10, 攻撃力 17\n",
      "\n",
      "[モンスター]\n",
      " 1. セイレーン (harpy): HP 218/260, MP 0/9, 攻撃力 18\n",
      "==================================================\n",
      "\n",
      "--- プレイヤーのターン ---\n",
      "\n",
      "[アーサー の行動]\n"
     ]
    },
    {
     "name": "stdin",
     "output_type": "stream",
     "text": [
      "行動を選択 (a:通常攻撃 / s:必殺技):  a\n"
     ]
    },
    {
     "name": "stdout",
     "output_type": "stream",
     "text": [
      "アーサーがセイレーンを攻撃！セイレーンのHPは205になった。\n",
      "\n",
      "\n",
      "[リア の行動]\n"
     ]
    },
    {
     "name": "stdin",
     "output_type": "stream",
     "text": [
      "行動を選択 (a:通常攻撃 / s:必殺技):  s\n"
     ]
    },
    {
     "name": "stdout",
     "output_type": "stream",
     "text": [
      "リアのMPが足りません\n"
     ]
    },
    {
     "name": "stdin",
     "output_type": "stream",
     "text": [
      "行動を選択 (a:通常攻撃 / s:必殺技):  a\n"
     ]
    },
    {
     "name": "stdout",
     "output_type": "stream",
     "text": [
      "リアがセイレーンを攻撃！セイレーンのHPは196になった。\n",
      "\n",
      "\n",
      "[マーリン の行動]\n"
     ]
    },
    {
     "name": "stdin",
     "output_type": "stream",
     "text": [
      "行動を選択 (a:通常攻撃 / s:必殺技):  a\n"
     ]
    },
    {
     "name": "stdout",
     "output_type": "stream",
     "text": [
      "マーリンがセイレーンを攻撃！セイレーンのHPは177になった。\n",
      "\n",
      "\n",
      "--- モンスターのターン ---\n",
      "セイレーン: MPが足りない！ (現在のMP: 0)\n",
      "\n",
      "==================================================\n",
      "--- ターン: 11 ---\n",
      "\n",
      "[勇者パーティ]\n",
      " 1. アーサー (hero (リーダー)): HP 80/100, MP 2/5, 攻撃力 14\n",
      " 2. リア (healer): HP 60/80, MP 2/8, 攻撃力 9\n",
      " 3. マーリン (magician): HP 52/70, MP 1/10, 攻撃力 17\n",
      "\n",
      "[モンスター]\n",
      " 1. セイレーン (harpy): HP 177/260, MP 0/9, 攻撃力 18\n",
      "==================================================\n",
      "\n",
      "--- プレイヤーのターン ---\n",
      "\n",
      "[アーサー の行動]\n"
     ]
    },
    {
     "name": "stdin",
     "output_type": "stream",
     "text": [
      "行動を選択 (a:通常攻撃 / s:必殺技):  a\n"
     ]
    },
    {
     "name": "stdout",
     "output_type": "stream",
     "text": [
      "アーサーがセイレーンを攻撃！セイレーンのHPは161になった。\n",
      "\n",
      "\n",
      "[リア の行動]\n"
     ]
    },
    {
     "name": "stdin",
     "output_type": "stream",
     "text": [
      "行動を選択 (a:通常攻撃 / s:必殺技):  a\n"
     ]
    },
    {
     "name": "stdout",
     "output_type": "stream",
     "text": [
      "リアがセイレーンを攻撃！セイレーンのHPは151になった。\n",
      "\n",
      "\n",
      "[マーリン の行動]\n"
     ]
    },
    {
     "name": "stdin",
     "output_type": "stream",
     "text": [
      "行動を選択 (a:通常攻撃 / s:必殺技):  a\n"
     ]
    },
    {
     "name": "stdout",
     "output_type": "stream",
     "text": [
      "マーリンがセイレーンを攻撃！セイレーンのHPは136になった。\n",
      "\n",
      "\n",
      "--- モンスターのターン ---\n",
      "セイレーン: MPが足りない！ (現在のMP: 0)\n",
      "\n",
      "==================================================\n",
      "--- ターン: 12 ---\n",
      "\n",
      "[勇者パーティ]\n",
      " 1. アーサー (hero (リーダー)): HP 80/100, MP 2/5, 攻撃力 14\n",
      " 2. リア (healer): HP 60/80, MP 2/8, 攻撃力 9\n",
      " 3. マーリン (magician): HP 52/70, MP 1/10, 攻撃力 17\n",
      "\n",
      "[モンスター]\n",
      " 1. セイレーン (harpy): HP 136/260, MP 0/9, 攻撃力 18\n",
      "==================================================\n",
      "\n",
      "--- プレイヤーのターン ---\n",
      "\n",
      "[アーサー の行動]\n"
     ]
    },
    {
     "name": "stdin",
     "output_type": "stream",
     "text": [
      "行動を選択 (a:通常攻撃 / s:必殺技):  a\n"
     ]
    },
    {
     "name": "stdout",
     "output_type": "stream",
     "text": [
      "アーサーがセイレーンを攻撃！セイレーンのHPは124になった。\n",
      "\n",
      "\n",
      "[リア の行動]\n"
     ]
    },
    {
     "name": "stdin",
     "output_type": "stream",
     "text": [
      "行動を選択 (a:通常攻撃 / s:必殺技):  a\n"
     ]
    },
    {
     "name": "stdout",
     "output_type": "stream",
     "text": [
      "リアがセイレーンを攻撃！セイレーンのHPは113になった。\n",
      "\n",
      "\n",
      "[マーリン の行動]\n"
     ]
    },
    {
     "name": "stdin",
     "output_type": "stream",
     "text": [
      "行動を選択 (a:通常攻撃 / s:必殺技):  a\n"
     ]
    },
    {
     "name": "stdout",
     "output_type": "stream",
     "text": [
      "マーリンがセイレーンを攻撃！セイレーンのHPは96になった。\n",
      "\n",
      "\n",
      "--- モンスターのターン ---\n",
      "セイレーン: MPが足りない！ (現在のMP: 0)\n",
      "\n",
      "==================================================\n",
      "--- ターン: 13 ---\n",
      "\n",
      "[勇者パーティ]\n",
      " 1. アーサー (hero (リーダー)): HP 80/100, MP 2/5, 攻撃力 14\n",
      " 2. リア (healer): HP 60/80, MP 2/8, 攻撃力 9\n",
      " 3. マーリン (magician): HP 52/70, MP 1/10, 攻撃力 17\n",
      "\n",
      "[モンスター]\n",
      " 1. セイレーン (harpy): HP 96/260, MP 0/9, 攻撃力 18\n",
      "==================================================\n",
      "\n",
      "--- プレイヤーのターン ---\n",
      "\n",
      "[アーサー の行動]\n"
     ]
    },
    {
     "name": "stdin",
     "output_type": "stream",
     "text": [
      "行動を選択 (a:通常攻撃 / s:必殺技):  a\n"
     ]
    },
    {
     "name": "stdout",
     "output_type": "stream",
     "text": [
      "アーサーがセイレーンを攻撃！セイレーンのHPは81になった。\n",
      "\n",
      "\n",
      "[リア の行動]\n"
     ]
    },
    {
     "name": "stdin",
     "output_type": "stream",
     "text": [
      "行動を選択 (a:通常攻撃 / s:必殺技):  a\n"
     ]
    },
    {
     "name": "stdout",
     "output_type": "stream",
     "text": [
      "リアがセイレーンを攻撃！セイレーンのHPは71になった。\n",
      "\n",
      "\n",
      "[マーリン の行動]\n"
     ]
    },
    {
     "name": "stdin",
     "output_type": "stream",
     "text": [
      "行動を選択 (a:通常攻撃 / s:必殺技):  a\n"
     ]
    },
    {
     "name": "stdout",
     "output_type": "stream",
     "text": [
      "マーリンがセイレーンを攻撃！セイレーンのHPは56になった。\n",
      "\n",
      "\n",
      "--- モンスターのターン ---\n",
      "セイレーンがアーサーを攻撃！アーサーのHPは64になった。\n",
      "セイレーンがリアを攻撃！リアのHPは44になった。\n",
      "セイレーンがマーリンを攻撃！マーリンのHPは35になった。\n",
      "\n",
      "\n",
      "==================================================\n",
      "--- ターン: 14 ---\n",
      "\n",
      "[勇者パーティ]\n",
      " 1. アーサー (hero (リーダー)): HP 64/100, MP 2/5, 攻撃力 14\n",
      " 2. リア (healer): HP 44/80, MP 2/8, 攻撃力 9\n",
      " 3. マーリン (magician): HP 35/70, MP 1/10, 攻撃力 17\n",
      "\n",
      "[モンスター]\n",
      " 1. セイレーン (harpy): HP 56/260, MP 0/9, 攻撃力 18\n",
      "==================================================\n",
      "\n",
      "--- プレイヤーのターン ---\n",
      "\n",
      "[アーサー の行動]\n"
     ]
    },
    {
     "name": "stdin",
     "output_type": "stream",
     "text": [
      "行動を選択 (a:通常攻撃 / s:必殺技):  a\n"
     ]
    },
    {
     "name": "stdout",
     "output_type": "stream",
     "text": [
      "アーサーがセイレーンを攻撃！セイレーンのHPは40になった。\n",
      "\n",
      "\n",
      "[リア の行動]\n"
     ]
    },
    {
     "name": "stdin",
     "output_type": "stream",
     "text": [
      "行動を選択 (a:通常攻撃 / s:必殺技):  a\n"
     ]
    },
    {
     "name": "stdout",
     "output_type": "stream",
     "text": [
      "リアがセイレーンを攻撃！セイレーンのHPは31になった。\n",
      "\n",
      "\n",
      "[マーリン の行動]\n"
     ]
    },
    {
     "name": "stdin",
     "output_type": "stream",
     "text": [
      "行動を選択 (a:通常攻撃 / s:必殺技):  a\n"
     ]
    },
    {
     "name": "stdout",
     "output_type": "stream",
     "text": [
      "マーリンがセイレーンを攻撃！セイレーンのHPは16になった。\n",
      "\n",
      "\n",
      "--- モンスターのターン ---\n",
      "セイレーンがアーサーを攻撃！アーサーのHPは44になった。\n",
      "セイレーンがリアを攻撃！リアのHPは26になった。\n",
      "セイレーンがマーリンを攻撃！マーリンのHPは19になった。\n",
      "\n",
      "\n",
      "==================================================\n",
      "--- ターン: 15 ---\n",
      "\n",
      "[勇者パーティ]\n",
      " 1. アーサー (hero (リーダー)): HP 44/100, MP 2/5, 攻撃力 14\n",
      " 2. リア (healer): HP 26/80, MP 2/8, 攻撃力 9\n",
      " 3. マーリン (magician): HP 19/70, MP 1/10, 攻撃力 17\n",
      "\n",
      "[モンスター]\n",
      " 1. セイレーン (harpy): HP 16/260, MP 0/9, 攻撃力 18\n",
      "==================================================\n",
      "\n",
      "--- プレイヤーのターン ---\n",
      "\n",
      "[アーサー の行動]\n"
     ]
    },
    {
     "name": "stdin",
     "output_type": "stream",
     "text": [
      "行動を選択 (a:通常攻撃 / s:必殺技):  a\n"
     ]
    },
    {
     "name": "stdout",
     "output_type": "stream",
     "text": [
      "アーサーがセイレーンを攻撃！セイレーンのHPは4になった。\n",
      "\n",
      "\n",
      "[リア の行動]\n"
     ]
    },
    {
     "name": "stdin",
     "output_type": "stream",
     "text": [
      "行動を選択 (a:通常攻撃 / s:必殺技):  a\n"
     ]
    },
    {
     "name": "stdout",
     "output_type": "stream",
     "text": [
      "リアがセイレーンを攻撃！セイレーンのHPは0になった。\n",
      "セイレーンはリアに倒された!\n",
      "\n",
      "\n",
      "!!! モンスターをすべて倒した！勝利 !!!\n",
      "\n",
      "--- 戦闘終了 ---\n"
     ]
    }
   ],
   "source": [
    "# --- メイン実行部分 ---\n",
    "if __name__ == \"__main__\":\n",
    "\n",
    "    print(\"各キャラクターの情報は下を確認！\")\n",
    "    \n",
    "    #----------既存のパーティメンバー情報----------\n",
    "    initial_party_info = [\n",
    "        (\"アーサー\", 100, 15, 5, HERO, 1),\n",
    "        (\"リア\", 80, 10, 8, HEALER, 1),\n",
    "        (\"マーリン\", 70, 17, 10, MAGICIAN, 1),\n",
    "    ]\n",
    "\n",
    "    party_members = []\n",
    "    \n",
    "    #------------ユーザーによるリーダー設定-------------\n",
    "    print(\"\\n--- リーダー設定  ---\")\n",
    "    \n",
    "    #選択肢の表示\n",
    "    for i, (name, hp, power, mp, role, level) in enumerate(initial_party_info):\n",
    "        print(f\" {i+1}. {name} ({role})\")\n",
    "\n",
    "    while True:\n",
    "        try:\n",
    "            choice = input(\"リーダーにしたいメンバーの番号を入力してください (1/2/3): \")\n",
    "            leader_index = int(choice) - 1\n",
    "\n",
    "            if 0 <= leader_index < len(initial_party_info):\n",
    "                # 選択されたメンバーをリーダーに設定し、インスタンスを生成\n",
    "                for i, info in enumerate(initial_party_info):\n",
    "                    name, hp, power, mp, role, level = info\n",
    "                    is_leader = (i == leader_index)\n",
    "                    \n",
    "                    # Explorerインスタンスを生成\n",
    "                    member = Explorer(name, hp, power, mp, role, level, leader=is_leader)\n",
    "                    party_members.append(member)\n",
    "                \n",
    "                print(f\"{party_members[leader_index].name} をリーダーに設定しました。\")\n",
    "                break\n",
    "            else:\n",
    "                print(\"無効な番号です。1から3の番号を入力してください。\")\n",
    "        except ValueError:\n",
    "            print(\"数字を入力してください。\")\n",
    "        except Exception as e:\n",
    "            print(f\"エラーが発生しました: {e}\")\n",
    "            sys.exit(1)\n",
    "    \n",
    "    #----モンスター隊の生成(ランダムに1体を選択)--------------\n",
    "    MONSTER_TEMPLATES = {\n",
    "        DRAGON: (\"フレイムドラゴン\", 300, 22, 6), \n",
    "        HARPY: (\"セイレーン\", 260, 18, 9),   \n",
    "        WITCH: (\"リリス\", 280, 20, 12),   \n",
    "    }\n",
    "\n",
    "    random_breed = random.choice([DRAGON, HARPY, WITCH])\n",
    "    name, hp, power, mp = MONSTER_TEMPLATES[random_breed]\n",
    "    \n",
    "    single_monster = Monster(name, hp, power, mp, random_breed)\n",
    "    enemy_squad = [single_monster]\n",
    "\n",
    "    #----------バトル開始------------------------------\n",
    "    try:\n",
    "        game = BattleManager(party_members, enemy_squad)\n",
    "        game.start_battle()\n",
    "    except EOFError:\n",
    "        print(\"\\nゲームを終了します。\")\n",
    "    except Exception as e:\n",
    "        print(f\"\\n予期せぬエラーが発生しました: {e}\")\n",
    "        sys.exit(1)"
   ]
  },
  {
   "cell_type": "markdown",
   "id": "fb83bb7f-b175-4151-9811-8da1433084ef",
   "metadata": {},
   "source": [
    "---\n",
    "\n",
    "#### ・パーティーキャラクター情報\n",
    "\n",
    "```\n",
    "・アーサー(勇者): 必殺技「閃空斬り」・・・自身の攻撃力の2倍のダメージを敵一体に与える。(消費MP: 3)\n",
    "\n",
    "・リア(ヒーラー): 必殺技「女神の加護」・・・味方全員のHPを40回復。(消費MP: 3)\n",
    "\n",
    "・マーリン(魔法使い): 必殺技「マジックゲイン」・・・自分以外の全員のMPを3回復。(消費MP: 3)\n",
    "```\n",
    "\n",
    "---\n",
    "\n",
    "#### ・モンスター情報\n",
    "\n",
    "```\n",
    "・フレイムドラゴン: 必殺技「ファイヤーブレス」: 敵全員に自身の攻撃力の2.7倍のダメージを与える。(消費MP: 3)\n",
    "  \n",
    "・セイレーン: 必殺技:「奇跡の歌声」: 自身の最大HPの半分回復し、相手全員の攻撃値を３パーセント下げる (消費MP: 3)\n",
    "\n",
    "・ リリス: 必殺技「マジカルドレイン」: 相手全員のMPを2ずつ吸収する(消費MP 3)\n",
    "```\n",
    "\n",
    "---\n",
    "\n",
    "[補足]\n",
    "攻撃には乱数が存在し、数値は約1~5パーセント程度上下します。"
   ]
  },
  {
   "cell_type": "code",
   "execution_count": null,
   "id": "cb99cc48-64a2-406a-87a4-5ae0bb60f8f9",
   "metadata": {},
   "outputs": [],
   "source": []
  }
 ],
 "metadata": {
  "kernelspec": {
   "display_name": "Python 3 (ipykernel)",
   "language": "python",
   "name": "python3"
  },
  "language_info": {
   "codemirror_mode": {
    "name": "ipython",
    "version": 3
   },
   "file_extension": ".py",
   "mimetype": "text/x-python",
   "name": "python",
   "nbconvert_exporter": "python",
   "pygments_lexer": "ipython3",
   "version": "3.13.1"
  }
 },
 "nbformat": 4,
 "nbformat_minor": 5
}
