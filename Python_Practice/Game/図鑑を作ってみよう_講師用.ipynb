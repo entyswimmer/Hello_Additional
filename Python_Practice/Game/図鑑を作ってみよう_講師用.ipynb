{
 "cells": [
  {
   "cell_type": "markdown",
   "id": "ff02bcd1-db97-4f55-8c6b-5b6bb8a4049a",
   "metadata": {},
   "source": [
    "```\n",
    "注意！\n",
    "このノートブックは教育目的で作成されたものであり、\n",
    "任天堂株式会社、株式会社ポケモン、または関連会社とは一切関係ありません。\n",
    "\n",
    "attention!\n",
    "This code is for educational purposes and not affiliated with Nintendo or The Pokémon Company.\n",
    "```"
   ]
  },
  {
   "cell_type": "markdown",
   "id": "da69c66a-3e70-413b-a703-e62f29050816",
   "metadata": {},
   "source": [
    "# 図鑑を作ってみよう!"
   ]
  },
  {
   "cell_type": "markdown",
   "id": "a71c5649-377f-4ae1-bfcf-85574cea8afc",
   "metadata": {},
   "source": [
    "### ・セクション1: List配列による図鑑"
   ]
  },
  {
   "cell_type": "code",
   "execution_count": 1,
   "id": "9b84592c-ba3b-459a-8eed-75e6ed1c190c",
   "metadata": {},
   "outputs": [],
   "source": [
    "#図鑑に登録するポケモン\n",
    "num1 = \"ヒトカゲ\"\n",
    "num2 = \"ゼニガメ\"\n",
    "num3 = \"フシギダネ\""
   ]
  },
  {
   "cell_type": "code",
   "execution_count": 2,
   "id": "c498170f-4173-4b75-b918-ff4f464e9a90",
   "metadata": {},
   "outputs": [
    {
     "name": "stdout",
     "output_type": "stream",
     "text": [
      "['ヒトカゲ', 'ゼニガメ', 'フシギダネ']\n"
     ]
    }
   ],
   "source": [
    "\"\"\"\n",
    "練習問題1) ボックスを配列（リスト) で作成してみよう\n",
    "\"\"\"\n",
    "box = [num1, num2, num3]\n",
    "#確認\n",
    "print(box)"
   ]
  },
  {
   "cell_type": "code",
   "execution_count": 3,
   "id": "43625451-fc16-48eb-b1bd-87069ebee795",
   "metadata": {},
   "outputs": [
    {
     "name": "stdout",
     "output_type": "stream",
     "text": [
      "ボックスの１番目(０番目): ヒトカゲ\n"
     ]
    }
   ],
   "source": [
    "#例\n",
    "#boxからポケモンを呼び出すには、boxの番号を指定する必要があります。\n",
    "#boxの番号は0番目から始まります。\n",
    "print(f\"ボックスの１番目(０番目): {box[0]}\")"
   ]
  },
  {
   "cell_type": "code",
   "execution_count": 4,
   "id": "4cc3fc67-e908-4ca7-bb19-236c096e5a12",
   "metadata": {},
   "outputs": [
    {
     "name": "stdout",
     "output_type": "stream",
     "text": [
      "図鑑にピカチュウが追加されました\n",
      "更新後の図鑑:['ヒトカゲ', 'リザード', 'ゼニガメ', 'フシギダネ', 'ピカチュウ']\n"
     ]
    }
   ],
   "source": [
    "#例\n",
    "#新しくゲットしたポケモンを追加しよう\n",
    "box.append(\"ピカチュウ\")\n",
    "print(f\"図鑑に{box[3]}が追加されました\")\n",
    "\n",
    "#ヒトカゲが進化してリザードになった!ヒトカゲの後ろにリザードを登録しよう\n",
    "box.insert(1, \"リザード\")\n",
    "print(f\"更新後の図鑑:{box}\")"
   ]
  },
  {
   "cell_type": "code",
   "execution_count": 5,
   "id": "0f1f84af-8293-453c-9fd2-7d859e96d649",
   "metadata": {},
   "outputs": [
    {
     "name": "stdout",
     "output_type": "stream",
     "text": [
      "['ヒトカゲ', 'リザード', 'リザードン', 'ゼニガメ', 'フシギダネ', 'ピカチュウ', 'ライチュウ']\n"
     ]
    }
   ],
   "source": [
    "\"\"\"\n",
    "練習問題2)リザードンをリザードの後ろに、ライチュウをピカチュウの後ろ(図鑑の最後)に、それぞれ新たに登録しよう\n",
    "\"\"\"\n",
    "box.append(\"ライチュウ\")\n",
    "box.insert(2, \"リザードン\")\n",
    "print(box)"
   ]
  },
  {
   "cell_type": "code",
   "execution_count": 6,
   "id": "c6f17c20-4416-44c9-9628-92b957d95ef5",
   "metadata": {},
   "outputs": [
    {
     "name": "stdout",
     "output_type": "stream",
     "text": [
      "['ヒトカゲ', 'リザード']\n",
      "7\n"
     ]
    }
   ],
   "source": [
    "#２番目までのデータを取り出す方法\n",
    "print(box[:2])\n",
    "\n",
    "#要素数を数える方法\n",
    "print(len(box))"
   ]
  },
  {
   "cell_type": "code",
   "execution_count": 8,
   "id": "3efc35b8-c69b-411b-a4cc-aa483f3e9ab5",
   "metadata": {},
   "outputs": [
    {
     "name": "stdout",
     "output_type": "stream",
     "text": [
      "['ヒトカゲ', 'リザード', 'リザードン']\n",
      "現在の図鑑への登録数: 7\n"
     ]
    }
   ],
   "source": [
    "\"\"\"\n",
    "練習問題3) ３番目までのデータを取り出そう。また、現在の図鑑への登録数を数えてみよう。\n",
    "\"\"\"\n",
    "print(box[:3])\n",
    "print(f\"現在の図鑑への登録数: {len(box)}\")"
   ]
  },
  {
   "cell_type": "markdown",
   "id": "384f7836-ae0f-4fc1-8657-ec1995c80497",
   "metadata": {},
   "source": [
    "---\n",
    "\n",
    "### ・セクション2: 辞書による手持ちの作成"
   ]
  },
  {
   "cell_type": "code",
   "execution_count": 9,
   "id": "878bb715-0b5b-4d7d-b410-2fcb8129c7fd",
   "metadata": {},
   "outputs": [],
   "source": [
    "#辞書を作成{キー1: 値1, キー2: 値2・・・}のように作成\n",
    "box_d = {1: \"ヒトカゲ\", 2: \"ゼニガメ\", 3: \"フシギバナ\"}"
   ]
  },
  {
   "cell_type": "code",
   "execution_count": 10,
   "id": "30f630bd-aebd-42b7-a3f4-f2bcd26045ec",
   "metadata": {},
   "outputs": [
    {
     "data": {
      "text/plain": [
       "'ヒトカゲ'"
      ]
     },
     "execution_count": 10,
     "metadata": {},
     "output_type": "execute_result"
    }
   ],
   "source": [
    "#番号１番のデータの取得\n",
    "box_d.get(1)"
   ]
  },
  {
   "cell_type": "code",
   "execution_count": 11,
   "id": "794980fc-47b6-48eb-a804-326affa15baa",
   "metadata": {},
   "outputs": [
    {
     "data": {
      "text/plain": [
       "'ゼニガメ'"
      ]
     },
     "execution_count": 11,
     "metadata": {},
     "output_type": "execute_result"
    }
   ],
   "source": [
    "\"\"\"\n",
    "練習問題4) ２番目と3番目のポケモンのデータを取得しよう\n",
    "\"\"\"\n",
    "box_d.get(2)"
   ]
  },
  {
   "cell_type": "code",
   "execution_count": 12,
   "id": "9fd9c4a1-937b-45cb-ab86-a9e8df61d865",
   "metadata": {},
   "outputs": [
    {
     "name": "stdout",
     "output_type": "stream",
     "text": [
      "dict_keys([1, 2, 3, 4])\n",
      "dict_values(['リザード', 'ゼニガメ', 'フシギバナ', 'ピカチュウ'])\n"
     ]
    }
   ],
   "source": [
    "#ピカチュウを手持ちに加えよう\n",
    "box_d[4] = \"ピカチュウ\"\n",
    "\n",
    "#ヒトカゲが進化したので名前を変更しよう\n",
    "box_d[1] = \"リザード\"\n",
    "\n",
    "#キーの確認\n",
    "print(box_d.keys())\n",
    "\n",
    "#値の確認\n",
    "print(box_d.values())"
   ]
  },
  {
   "cell_type": "code",
   "execution_count": 17,
   "id": "ef2d5fe7-57ed-4e12-be79-205e993fc003",
   "metadata": {},
   "outputs": [
    {
     "name": "stdout",
     "output_type": "stream",
     "text": [
      "dict_values(['リザード', 'カメール', 'フシギバナ', 'ピカチュウ'])\n"
     ]
    }
   ],
   "source": [
    "\"\"\"\n",
    "練習問題5) ゼニガメを進化させよう！ただし、.values()を使って表示しよう\n",
    "\"\"\"\n",
    "box_d[2] = \"カメール\"\n",
    "print(box_d.values())"
   ]
  },
  {
   "cell_type": "code",
   "execution_count": 13,
   "id": "f1f15423-6d48-4ca0-8200-50029123ae62",
   "metadata": {},
   "outputs": [
    {
     "name": "stdout",
     "output_type": "stream",
     "text": [
      "出てこい!「フシギバナ」\n",
      "戻れ! 「フシギバナ」\n",
      "出番だ! 「ピカチュウ」\n"
     ]
    }
   ],
   "source": [
    "\"\"\"\n",
    "練習問題6) フシギバナを呼び出した後に、ピカチュウを呼び出してみよう！\n",
    "\"\"\"\n",
    "print(f\"出てこい!「{box_d[3]}」\")\n",
    "print(f\"戻れ! 「{box_d[3]}」\")\n",
    "print(f\"出番だ! 「{box_d[4]}」\")"
   ]
  },
  {
   "cell_type": "markdown",
   "id": "b66a3465-f442-4132-82bf-d339f2381300",
   "metadata": {},
   "source": [
    "---\n",
    "### ・セクション3: (発展) ボックスへの追加と図鑑への登録　＆　ボックスと手持ち間の移動の関数の作成"
   ]
  },
  {
   "cell_type": "code",
   "execution_count": 28,
   "id": "7ce34c21-9aec-4eda-980a-a872eeac7494",
   "metadata": {},
   "outputs": [],
   "source": [
    "#1. ボックスへの追加と図鑑への登録関数\n",
    "#以下では図鑑をbook, ボックスをbox, 手持ちをhandとします。\n",
    "#bookとboxはList, handは辞書で作成することにします。\n",
    "\n",
    "def register(box, book, new):\n",
    "    box.append(new)\n",
    "    #if文を使って図鑑への二重登録を防ぐようにしよう\n",
    "    if (new in book) == True:\n",
    "        return box, book\n",
    "    else:\n",
    "        book.append(new)\n",
    "        return box, book"
   ]
  },
  {
   "cell_type": "code",
   "execution_count": 55,
   "id": "e8ad579d-6b57-4ffd-a189-7b4876841fd1",
   "metadata": {},
   "outputs": [],
   "source": [
    "#2. ボックスと手持ちの間の移動関数\n",
    "#box_mはboxからhandへ移動させる方\n",
    "#hand_mはhandからboxへ移動させるモンスター\n",
    "\n",
    "def move_monster(box, hand, box_m, hand_m):\n",
    "    #boxに移動させる手持ちに対応するキーを探す\n",
    "    i = 0\n",
    "    for name in box:\n",
    "        if name == box_m:\n",
    "            new_hand = box.pop(i)\n",
    "            break\n",
    "        else:\n",
    "            i = i + 1\n",
    "    for key, value in hand.items():\n",
    "        if value == hand_m:\n",
    "            hand[key] = new_hand\n",
    "    box.append(hand_m)\n",
    "    return box, hand"
   ]
  },
  {
   "cell_type": "code",
   "execution_count": 56,
   "id": "69e20e4e-5373-4db5-aa21-f506a2e968b0",
   "metadata": {},
   "outputs": [],
   "source": [
    "#今回使用するデータ\n",
    "book = [\"ヒトカゲ\", \"ゼニガメ\", \"フシギバナ\", \"ピカチュウ\"]\n",
    "box = [\"ピカチュウ\"]\n",
    "hand = {1: \"ヒトカゲ\", 2: \"ゼニガメ\", 3: \"フシギバナ\"}"
   ]
  },
  {
   "cell_type": "code",
   "execution_count": 57,
   "id": "02ce20de-db5b-48d4-8607-6e6f8ef59e8a",
   "metadata": {},
   "outputs": [
    {
     "data": {
      "text/plain": [
       "(['ピカチュウ', 'ピカチュウ'], ['ヒトカゲ', 'ゼニガメ', 'フシギバナ', 'ピカチュウ'])"
      ]
     },
     "execution_count": 57,
     "metadata": {},
     "output_type": "execute_result"
    }
   ],
   "source": [
    "#試してみよう\n",
    "register(box, book, \"ピカチュウ\")"
   ]
  },
  {
   "cell_type": "code",
   "execution_count": 58,
   "id": "321d2850-43b9-4176-8fa9-ff3b495d5d3e",
   "metadata": {},
   "outputs": [
    {
     "data": {
      "text/plain": [
       "(['ピカチュウ', 'フシギバナ'], {1: 'ヒトカゲ', 2: 'ゼニガメ', 3: 'ピカチュウ'})"
      ]
     },
     "execution_count": 58,
     "metadata": {},
     "output_type": "execute_result"
    }
   ],
   "source": [
    "move_monster(box, hand, \"ピカチュウ\", \"フシギバナ\")"
   ]
  },
  {
   "cell_type": "code",
   "execution_count": null,
   "id": "73125213-b51d-44ff-a503-9f6c26891c3e",
   "metadata": {},
   "outputs": [],
   "source": []
  }
 ],
 "metadata": {
  "kernelspec": {
   "display_name": "Python 3 (ipykernel)",
   "language": "python",
   "name": "python3"
  },
  "language_info": {
   "codemirror_mode": {
    "name": "ipython",
    "version": 3
   },
   "file_extension": ".py",
   "mimetype": "text/x-python",
   "name": "python",
   "nbconvert_exporter": "python",
   "pygments_lexer": "ipython3",
   "version": "3.11.11"
  }
 },
 "nbformat": 4,
 "nbformat_minor": 5
}
