{
 "cells": [
  {
   "cell_type": "markdown",
   "id": "ff02bcd1-db97-4f55-8c6b-5b6bb8a4049a",
   "metadata": {},
   "source": [
    "```\n",
    "注意！\n",
    "このノートブックは教育目的で作成されたものであり、\n",
    "任天堂株式会社、株式会社ポケモン、または関連会社とは一切関係ありません。\n",
    "\n",
    "attention!\n",
    "This code is for educational purposes and not affiliated with Nintendo or The Pokémon Company.\n",
    "```"
   ]
  },
  {
   "cell_type": "markdown",
   "id": "da69c66a-3e70-413b-a703-e62f29050816",
   "metadata": {},
   "source": [
    "# 図鑑を作ってみよう!"
   ]
  },
  {
   "cell_type": "markdown",
   "id": "a71c5649-377f-4ae1-bfcf-85574cea8afc",
   "metadata": {},
   "source": [
    "### ・セクション1: 配列による図鑑"
   ]
  },
  {
   "cell_type": "code",
   "execution_count": 1,
   "id": "9b84592c-ba3b-459a-8eed-75e6ed1c190c",
   "metadata": {},
   "outputs": [],
   "source": [
    "#図鑑に登録するポケモン\n",
    "num1 = \"ヒトカゲ\"\n",
    "num2 = \"ゼニガメ\"\n",
    "num3 = \"フシギダネ\""
   ]
  },
  {
   "cell_type": "code",
   "execution_count": 2,
   "id": "c498170f-4173-4b75-b918-ff4f464e9a90",
   "metadata": {},
   "outputs": [
    {
     "name": "stdout",
     "output_type": "stream",
     "text": [
      "['ヒトカゲ', 'ゼニガメ', 'フシギダネ']\n"
     ]
    }
   ],
   "source": [
    "\"\"\"\n",
    "練習問題1) ボックスを配列（リスト) で作成してみよう\n",
    "\"\"\"\n",
    "box = [num1, num2, num3]\n",
    "#確認\n",
    "print(box)"
   ]
  },
  {
   "cell_type": "code",
   "execution_count": 3,
   "id": "43625451-fc16-48eb-b1bd-87069ebee795",
   "metadata": {},
   "outputs": [
    {
     "name": "stdout",
     "output_type": "stream",
     "text": [
      "ボックスの１番目(０番目): ヒトカゲ\n"
     ]
    }
   ],
   "source": [
    "#例\n",
    "#boxからポケモンを呼び出すには、boxの番号を指定する必要があります。\n",
    "#boxの番号は0番目から始まります。\n",
    "print(f\"ボックスの１番目(０番目): {box[0]}\")"
   ]
  },
  {
   "cell_type": "code",
   "execution_count": 4,
   "id": "69fbf56d-d786-42c1-af55-76c20aa032d7",
   "metadata": {},
   "outputs": [
    {
     "name": "stdout",
     "output_type": "stream",
     "text": [
      "出てこい!「ゼニガメ」\n",
      "戻れ! 「ゼニガメ」\n",
      "出番だ! 「フシギダネ」\n"
     ]
    }
   ],
   "source": [
    "\"\"\"\n",
    "練習問題2) ゼニガメを呼び出した後に、フシギダネを呼び出してみよう！\n",
    "\"\"\"\n",
    "print(f\"出てこい!「{box[1]}」\")\n",
    "print(f\"戻れ! 「{box[1]}」\")\n",
    "print(f\"出番だ! 「{box[2]}」\")"
   ]
  },
  {
   "cell_type": "code",
   "execution_count": 5,
   "id": "4cc3fc67-e908-4ca7-bb19-236c096e5a12",
   "metadata": {},
   "outputs": [
    {
     "name": "stdout",
     "output_type": "stream",
     "text": [
      "図鑑にピカチュウが追加されました\n",
      "更新後の図鑑:['ヒトカゲ', 'リザード', 'ゼニガメ', 'フシギダネ', 'ピカチュウ']\n"
     ]
    }
   ],
   "source": [
    "#例\n",
    "#新しくゲットしたポケモンを追加しよう\n",
    "box.append(\"ピカチュウ\")\n",
    "print(f\"図鑑に{box[3]}が追加されました\")\n",
    "\n",
    "#ヒトカゲが進化してリザードになった!ヒトカゲの後ろにリザードを登録しよう\n",
    "box.insert(1, \"リザード\")\n",
    "print(f\"更新後の図鑑:{box}\")"
   ]
  },
  {
   "cell_type": "code",
   "execution_count": 8,
   "id": "0f1f84af-8293-453c-9fd2-7d859e96d649",
   "metadata": {},
   "outputs": [
    {
     "name": "stdout",
     "output_type": "stream",
     "text": [
      "['ヒトカゲ', 'リザード', 'リザードン', 'リザードン', 'ゼニガメ', 'フシギダネ', 'ピカチュウ', 'ライチュウ']\n"
     ]
    }
   ],
   "source": [
    "\"\"\"\n",
    "練習問題3)リザードンをリザードの後ろに、ライチュウをピカチュウの後ろ(図鑑の最後)に、それぞれ新たに登録しよう\n",
    "\"\"\"\n",
    "box.append(\"ライチュウ\")\n",
    "box.insert(2, \"リザードン\")\n",
    "print(box)"
   ]
  },
  {
   "cell_type": "code",
   "execution_count": 22,
   "id": "c6f17c20-4416-44c9-9628-92b957d95ef5",
   "metadata": {},
   "outputs": [
    {
     "name": "stdout",
     "output_type": "stream",
     "text": [
      "['ヒトカゲ', 'ゼニガメ']\n",
      "3\n"
     ]
    }
   ],
   "source": [
    "#２番目までのデータを取り出す方法\n",
    "print(box[:2])\n",
    "\n",
    "#要素数を数える方法\n",
    "print(len(box))"
   ]
  },
  {
   "cell_type": "markdown",
   "id": "384f7836-ae0f-4fc1-8657-ec1995c80497",
   "metadata": {},
   "source": [
    "---\n",
    "\n",
    "### ・セクション2: 辞書による手持ちの作成"
   ]
  },
  {
   "cell_type": "code",
   "execution_count": 10,
   "id": "878bb715-0b5b-4d7d-b410-2fcb8129c7fd",
   "metadata": {},
   "outputs": [],
   "source": [
    "#辞書を作成{キー1: 値1, キー2: 値2・・・}のように作成\n",
    "box_d = {1: \"ヒトカゲ\", 2: \"ゼニガメ\", 3: \"フシギバナ\"}"
   ]
  },
  {
   "cell_type": "code",
   "execution_count": 11,
   "id": "30f630bd-aebd-42b7-a3f4-f2bcd26045ec",
   "metadata": {},
   "outputs": [
    {
     "data": {
      "text/plain": [
       "'ヒトカゲ'"
      ]
     },
     "execution_count": 11,
     "metadata": {},
     "output_type": "execute_result"
    }
   ],
   "source": [
    "#番号１番のデータの取得\n",
    "box_d.get(1)"
   ]
  },
  {
   "cell_type": "code",
   "execution_count": 12,
   "id": "794980fc-47b6-48eb-a804-326affa15baa",
   "metadata": {},
   "outputs": [
    {
     "data": {
      "text/plain": [
       "'ゼニガメ'"
      ]
     },
     "execution_count": 12,
     "metadata": {},
     "output_type": "execute_result"
    }
   ],
   "source": [
    "\"\"\"\n",
    "練習問題4) ２番目と3番目のポケモンのデータを取得しよう\n",
    "\"\"\"\n",
    "box_d.get(2)"
   ]
  },
  {
   "cell_type": "code",
   "execution_count": 16,
   "id": "9fd9c4a1-937b-45cb-ab86-a9e8df61d865",
   "metadata": {},
   "outputs": [
    {
     "name": "stdout",
     "output_type": "stream",
     "text": [
      "dict_keys([1, 2, 3, 4])\n",
      "dict_values(['リザード', 'ゼニガメ', 'フシギバナ', 'ピカチュウ'])\n"
     ]
    }
   ],
   "source": [
    "#ピカチュウを手持ちに加えよう\n",
    "box_d[4] = \"ピカチュウ\"\n",
    "\n",
    "#ヒトカゲが進化したので名前を変更しよう\n",
    "box_d[1] = \"リザード\"\n",
    "\n",
    "#キーの確認\n",
    "print(box_d.keys())\n",
    "\n",
    "#値の確認\n",
    "print(box_d.values())"
   ]
  },
  {
   "cell_type": "code",
   "execution_count": 17,
   "id": "ef2d5fe7-57ed-4e12-be79-205e993fc003",
   "metadata": {},
   "outputs": [
    {
     "name": "stdout",
     "output_type": "stream",
     "text": [
      "dict_values(['リザード', 'カメール', 'フシギバナ', 'ピカチュウ'])\n"
     ]
    }
   ],
   "source": [
    "\"\"\"\n",
    "練習問題5) ゼニガメを進化させよう！ただし、.values()を使って表示しよう\n",
    "\"\"\"\n",
    "box_d[2] = \"カメール\"\n",
    "print(box_d.values())"
   ]
  },
  {
   "cell_type": "code",
   "execution_count": 19,
   "id": "b8d42446-8c8a-49e1-993c-be1b2aa1477f",
   "metadata": {},
   "outputs": [
    {
     "name": "stdout",
     "output_type": "stream",
     "text": [
      "{}\n"
     ]
    }
   ],
   "source": [
    "#手持ちをクリア\n",
    "box_d.clear()\n",
    "print(box_d)"
   ]
  },
  {
   "cell_type": "code",
   "execution_count": null,
   "id": "f1f15423-6d48-4ca0-8200-50029123ae62",
   "metadata": {},
   "outputs": [],
   "source": []
  }
 ],
 "metadata": {
  "kernelspec": {
   "display_name": "Python 3 (ipykernel)",
   "language": "python",
   "name": "python3"
  },
  "language_info": {
   "codemirror_mode": {
    "name": "ipython",
    "version": 3
   },
   "file_extension": ".py",
   "mimetype": "text/x-python",
   "name": "python",
   "nbconvert_exporter": "python",
   "pygments_lexer": "ipython3",
   "version": "3.11.11"
  }
 },
 "nbformat": 4,
 "nbformat_minor": 5
}
