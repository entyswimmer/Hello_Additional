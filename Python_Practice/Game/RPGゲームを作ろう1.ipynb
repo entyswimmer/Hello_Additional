{
 "cells": [
  {
   "cell_type": "markdown",
   "id": "b23ff351-ec9a-42fd-bacc-9c6fbdfd1abe",
   "metadata": {},
   "source": [
    "# RPGゲームを作ろう"
   ]
  },
  {
   "cell_type": "markdown",
   "id": "5c04424c-fabc-4572-adfb-38c2fdcc6987",
   "metadata": {},
   "source": [
    "### ・セクション1: キャラクターClassを作ろう"
   ]
  },
  {
   "cell_type": "code",
   "execution_count": 2,
   "id": "5f2c33c6-77ae-47fb-85bc-10e954ad9ac2",
   "metadata": {},
   "outputs": [],
   "source": [
    "#クラスの作成\n",
    "class Character:\n",
    "    def __init__(self, name, hp, power):\n",
    "        self.name = name\n",
    "        self.hp = hp\n",
    "        self.power = power\n",
    "    \n",
    "    def attack(self, other):\n",
    "        other.hp -= self.power\n",
    "        return f\"{self.name}が{other.name}を攻撃！{other.name}の体力は{other.hp}になった。\""
   ]
  },
  {
   "cell_type": "code",
   "execution_count": 3,
   "id": "b6f983c4-5a52-40d7-8e54-4c9924f9bb7d",
   "metadata": {},
   "outputs": [],
   "source": [
    "#インスタンスの生成\n",
    "hero = Character(\"勇者\", 100, 15)\n",
    "monster = Character(\"スライム\", 50, 10)"
   ]
  },
  {
   "cell_type": "code",
   "execution_count": 4,
   "id": "11b6e66d-189b-4a7b-8b3e-57ea8d485d46",
   "metadata": {},
   "outputs": [
    {
     "name": "stdout",
     "output_type": "stream",
     "text": [
      "勇者がスライムを攻撃！スライムの体力は35になった。\n",
      "35\n"
     ]
    }
   ],
   "source": [
    "#戦闘\n",
    "print(hero.attack(monster))\n",
    "print(monster.hp)"
   ]
  },
  {
   "cell_type": "code",
   "execution_count": 5,
   "id": "4a193c2a-f33e-42b3-ac36-627f9ffe1549",
   "metadata": {},
   "outputs": [],
   "source": [
    "\"\"\"\n",
    "練習問題1) キャラクターにmpを追加しよう。また、attackメソッドを変更して、体力が0より小さくならないようにしよう\n",
    "\"\"\"\n",
    "\n",
    "class Character:\n",
    "    def __init__(self, name, hp, power, mp):\n",
    "        self.name = name\n",
    "        self.hp = hp\n",
    "        self.max_hp = hp\n",
    "        self.power = power\n",
    "        self.mp = mp\n",
    "    \n",
    "    def attack(self, other):\n",
    "        other.hp -= self.power\n",
    "        if other.hp <= 0:\n",
    "            other.hp = 0\n",
    "            return f\"{self.name}が{other.name}を攻撃！{other.name}の体力は{other.hp}になった。\\n{other.name}は{self.name}に倒された!\"\n",
    "        return f\"{self.name}が{other.name}を攻撃！{other.name}の体力は{other.hp}になった。\"\n",
    "\n",
    "    #生存チェック\n",
    "    def is_alive(self):\n",
    "        return self.hp > 0"
   ]
  },
  {
   "cell_type": "code",
   "execution_count": 6,
   "id": "4d264fcc-c65d-4008-8a30-b8fe906ebfb3",
   "metadata": {},
   "outputs": [
    {
     "name": "stdout",
     "output_type": "stream",
     "text": [
      "勇者がスライムを攻撃！スライムの体力は35になった。\n",
      "勇者がスライムを攻撃！スライムの体力は20になった。\n",
      "勇者がスライムを攻撃！スライムの体力は5になった。\n",
      "勇者がスライムを攻撃！スライムの体力は0になった。\n",
      "スライムは勇者に倒された!\n"
     ]
    }
   ],
   "source": [
    "#インスタンスの生成\n",
    "hero = Character(\"勇者\", 100, 15, 10)\n",
    "monster = Character(\"スライム\", 50, 10, 5)\n",
    "\n",
    "for i in range(4):\n",
    "    print(hero.attack(monster))"
   ]
  },
  {
   "cell_type": "markdown",
   "id": "c4e516eb-d633-4007-89eb-e4ffdec8cb6c",
   "metadata": {},
   "source": [
    "---\n",
    "###  ・セクション2: キャラクターの派生クラスの冒険者クラスを作ろう"
   ]
  },
  {
   "cell_type": "code",
   "execution_count": 11,
   "id": "47e583b7-8995-4364-b7be-4c26552e4371",
   "metadata": {},
   "outputs": [],
   "source": [
    "import copy\n",
    "\n",
    "class Explorer(Character):\n",
    "    def __init__(self, name, hp, power, mp, role, level=1):\n",
    "        super().__init__(name, hp, power, mp)\n",
    "        self.role = role\n",
    "        self.level = level\n",
    "        self._initial_state = copy.deepcopy(self.__dict__)\n",
    "\n",
    "    #スペシャルアタックを追加\n",
    "    def special_attack(self, other):\n",
    "        if self.mp < 3:\n",
    "            return f\"MPが足りない！ (現在のMP{self.mp})\"          \n",
    "        #勇者の必殺技\n",
    "        if self.role == HERO:\n",
    "            if not isinstance(other, Explorer):\n",
    "                other.hp -= self.power*2\n",
    "                if self.hp <= self.max_hp * 0.4:\n",
    "                    other.hp = self.power*2.7\n",
    "                self.mp -= 3  \n",
    "                if other.hp <= 0:\n",
    "                    other.hp = 0\n",
    "                    return f\"{self.name}の閃空斬り発動！{other.name}の体力は{other.hp}になった。\\n{other.name}は{self.name}に倒された!\"\n",
    "                return f\"{self.name}の閃空斬り発動！{other.name}の体力は{other.hp}になった。\"\n",
    "            return f\"{self.name}は味方に必殺技を使えない！\"\n",
    "            \n",
    "        #ヒーラーの必殺技\n",
    "        elif self.role == HEALER:\n",
    "            if isinstance(other, Explorer):\n",
    "                other.hp += other.max_hp * 0.30\n",
    "                self.mp -= 3\n",
    "                return f\"{self.name}の女神の加護発動！{other.name}の体力は{other.hp}になった。\"\n",
    "            return f\"{self.name}は敵を回復できない！\"\n",
    "            \n",
    "        #魔法使いの必殺技\n",
    "        elif self.role == MAGICIAN:\n",
    "            if isinstance(other, Explorer):\n",
    "                other.mp += 4\n",
    "                self.mp -= 3\n",
    "                return f\"{self.name}のマジックゲイン発動！{other.name}のMPは{other.mp}になった。\"\n",
    "            return f\"{self.name}は敵にMP回復を施せない！\"\n",
    "        \n",
    "        return f\"{self.name}: 不明な役割のため、何も起こらなかった。\"\n",
    "\n",
    "    def reset(self):\n",
    "        \"\"\"初期状態に戻す\"\"\"\n",
    "        self.__dict__ = copy.deepcopy(self._initial_state)"
   ]
  },
  {
   "cell_type": "code",
   "execution_count": 12,
   "id": "b4f722b2-ff5b-44bd-bc63-3e4ec9ab46b7",
   "metadata": {},
   "outputs": [],
   "source": [
    "\"\"\" \n",
    "練習問題2) モンスタークラスを作成しよう。DORAGON、HARPY、WITCHの3タイプの必殺技を作ろう\n",
    "\"\"\"\n",
    "\n",
    "class Monster(Character):\n",
    "    def __init__(self, name, hp, power, mp, breed):\n",
    "        super().__init__(name, hp, power, mp)\n",
    "        self.breed = breed\n",
    "        self._initial_state = copy.deepcopy(self.__dict__)\n",
    "\n",
    "    #スペシャルアタック\n",
    "    def special_attack(self, other):\n",
    "        if self.mp < 3:\n",
    "            return f\"MPが足りない！ (現在のMP{self.mp})\"\n",
    "\n",
    "        #ドラゴンの必殺技\n",
    "        if self.breed == DRAGON:\n",
    "            #自分の攻撃力の2.5倍のダメージを与える\n",
    "            other.hp -= self.power*2.5\n",
    "            self.mp -= 3\n",
    "            if other.hp <= 0:\n",
    "                other.hp = 0\n",
    "                return f\"{self.name}のファイヤーブレス発動！{other.name}の体力は{other.hp}になった。\\n{other.name}は{self.name}に倒された!\"\n",
    "            return f\"{self.name}のファイヤーブレス発動！{other.name}の体力は{other.hp}になった。\"\n",
    "            \n",
    "        #ハーピーの必殺技\n",
    "        elif self.breed== HARPY:\n",
    "            self.hp += self.max_hp*0.5\n",
    "            self.mp -= 3\n",
    "            return f\"{self.name}の再生の歌声発動！{other.name}の体力が{other.hp}になった。{self.name}はHP{self.hp}に回復した。\"\n",
    "\n",
    "        #ウィッチの必殺技\n",
    "        elif self.breed == WITCH:\n",
    "            #相手のmp2と体力の15%を奪い取る\n",
    "            other.mp -= other.mp - 2\n",
    "            if other.mp < 0:\n",
    "                other.mp = 0\n",
    "            other.hp = other.hp * 0.85\n",
    "            self.hp += other.hp * 0.85\n",
    "            self.mp -= 3\n",
    "            if other.hp <= 0:\n",
    "                other.hp = 0\n",
    "                return f\"{self.name}のドレイン発動！{other.name}の体力は{other.hp}になった。\\n{other.name}は{self.name}に倒された!\"\n",
    "            return f\"{self.name}のドレイン発動！{other.name}のMPが{other.mp}、体力が{other.hp}になった。\""
   ]
  },
  {
   "cell_type": "code",
   "execution_count": 18,
   "id": "feb0c213-b7a3-43df-b24b-7d308cdb3831",
   "metadata": {},
   "outputs": [
    {
     "name": "stdout",
     "output_type": "stream",
     "text": [
      "剣士がドラゴンを攻撃！ドラゴンの体力は70になった。\n",
      "ドラゴンが剣士を攻撃！剣士の体力は85になった。\n",
      "剣士の閃空斬り発動！ドラゴンの体力は30になった。\n",
      "ドラゴンのファイヤーブレス発動！剣士の体力は47.5になった。\n"
     ]
    }
   ],
   "source": [
    "#インスタンスを生成してみよう\n",
    "HERO = 'hero'\n",
    "HEALER = 'healer'\n",
    "MAGICIAN = 'magician'\n",
    "DRAGON = 'dragon'\n",
    "HARPY = 'harpy'\n",
    "WITCH = 'witch'\n",
    "\n",
    "solder = Explorer(\"剣士\", 100, 20, 5, HERO, 1)\n",
    "enemy = Monster(\"ドラゴン\", 90, 15, 4, DRAGON)\n",
    "\n",
    "#通常攻撃\n",
    "print(solder.attack(enemy))\n",
    "print(enemy.attack(solder))\n",
    "\n",
    "#必殺技\n",
    "print(solder.special_attack(enemy))\n",
    "print(enemy.special_attack(solder))"
   ]
  },
  {
   "cell_type": "markdown",
   "id": "795c301c-4acf-4b3f-a72b-f8f4baf96b8e",
   "metadata": {},
   "source": []
  },
  {
   "cell_type": "markdown",
   "id": "d8d02c27-d1b6-4790-b6dd-b1725190213e",
   "metadata": {},
   "source": [
    "---\n",
    "\n",
    "これまでの知識を活かして、このRPGゲームを「RPGゲームを作ろう2.ipynb」の中でアップデートしよう!"
   ]
  },
  {
   "cell_type": "code",
   "execution_count": null,
   "id": "3356221c-2ebf-4a2b-858f-4101a33c9205",
   "metadata": {},
   "outputs": [],
   "source": []
  }
 ],
 "metadata": {
  "kernelspec": {
   "display_name": "Python 3 (ipykernel)",
   "language": "python",
   "name": "python3"
  },
  "language_info": {
   "codemirror_mode": {
    "name": "ipython",
    "version": 3
   },
   "file_extension": ".py",
   "mimetype": "text/x-python",
   "name": "python",
   "nbconvert_exporter": "python",
   "pygments_lexer": "ipython3",
   "version": "3.13.1"
  }
 },
 "nbformat": 4,
 "nbformat_minor": 5
}
