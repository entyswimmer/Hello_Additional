{
 "cells": [
  {
   "cell_type": "markdown",
   "id": "b23ff351-ec9a-42fd-bacc-9c6fbdfd1abe",
   "metadata": {},
   "source": [
    "# RPGゲームを作ろう"
   ]
  },
  {
   "cell_type": "markdown",
   "id": "5c04424c-fabc-4572-adfb-38c2fdcc6987",
   "metadata": {},
   "source": [
    "### ・セクション1: キャラクターClassを作ろう"
   ]
  },
  {
   "cell_type": "code",
   "execution_count": 24,
   "id": "5f2c33c6-77ae-47fb-85bc-10e954ad9ac2",
   "metadata": {},
   "outputs": [],
   "source": [
    "#クラスの作成\n",
    "class Character:\n",
    "    def __init__(self, name, hp, power):\n",
    "        self.name = name\n",
    "        self.hp = hp\n",
    "        self.power = power\n",
    "    \n",
    "    def attack(self, other):\n",
    "        other.hp -= self.power\n",
    "        return f\"{self.name}が{other.name}を攻撃！{other.name}の体力は{other.hp}になった。\""
   ]
  },
  {
   "cell_type": "code",
   "execution_count": 25,
   "id": "b6f983c4-5a52-40d7-8e54-4c9924f9bb7d",
   "metadata": {},
   "outputs": [],
   "source": [
    "#インスタンスの生成\n",
    "hero = Character(\"勇者\", 100, 15)\n",
    "monster = Character(\"スライム\", 50, 10)"
   ]
  },
  {
   "cell_type": "code",
   "execution_count": 27,
   "id": "11b6e66d-189b-4a7b-8b3e-57ea8d485d46",
   "metadata": {},
   "outputs": [
    {
     "name": "stdout",
     "output_type": "stream",
     "text": [
      "勇者がスライムを攻撃！スライムの体力は20になった。\n",
      "20\n"
     ]
    }
   ],
   "source": [
    "#戦闘\n",
    "print(hero.attack(monster))\n",
    "print(monster.hp)"
   ]
  },
  {
   "cell_type": "code",
   "execution_count": 53,
   "id": "4a193c2a-f33e-42b3-ac36-627f9ffe1549",
   "metadata": {},
   "outputs": [],
   "source": [
    "\"\"\"\n",
    "練習問題1) キャラクターにmpを追加しよう。また、attackメソッドを変更して、体力が0より小さくならないようにしよう\n",
    "\"\"\"\n",
    "\n",
    "class Character:\n",
    "    def __init__(self, name, hp, power, mp):\n",
    "        self.name = name\n",
    "        self.hp = hp\n",
    "        self.max_hp = hp\n",
    "        self.power = power\n",
    "        self.mp = mp\n",
    "    \n",
    "    def attack(self, other):\n",
    "        other.hp -= self.power\n",
    "        if other.hp <= 0:\n",
    "            other.hp = 0\n",
    "            return f\"{self.name}が{other.name}を攻撃！{other.name}の体力は{other.hp}になった。\\n{other.name}は{self.name}に倒された!\"\n",
    "        return f\"{self.name}が{other.name}を攻撃！{other.name}の体力は{other.hp}になった。\"\n",
    "\n",
    "    #生存チェック\n",
    "    def is_alive(self):\n",
    "        return self.hp > 0"
   ]
  },
  {
   "cell_type": "code",
   "execution_count": 39,
   "id": "4d264fcc-c65d-4008-8a30-b8fe906ebfb3",
   "metadata": {},
   "outputs": [
    {
     "name": "stdout",
     "output_type": "stream",
     "text": [
      "勇者がスライムを攻撃！スライムの体力は35になった。\n",
      "勇者がスライムを攻撃！スライムの体力は20になった。\n",
      "勇者がスライムを攻撃！スライムの体力は5になった。\n",
      "勇者がスライムを攻撃！スライムの体力は0になった。\n",
      "スライムは勇者に倒された!\n"
     ]
    }
   ],
   "source": [
    "#インスタンスの生成\n",
    "hero = Character(\"勇者\", 100, 15, 10)\n",
    "monster = Character(\"スライム\", 50, 10, 5)\n",
    "\n",
    "for i in range(4):\n",
    "    print(hero.attack(monster))"
   ]
  },
  {
   "cell_type": "markdown",
   "id": "c4e516eb-d633-4007-89eb-e4ffdec8cb6c",
   "metadata": {},
   "source": [
    "---\n",
    "###  ・セクション2: キャラクターの派生クラスの冒険者クラスを作ろう"
   ]
  },
  {
   "cell_type": "code",
   "execution_count": 54,
   "id": "47e583b7-8995-4364-b7be-4c26552e4371",
   "metadata": {},
   "outputs": [],
   "source": [
    "class Explorer(Character):\n",
    "    def __init__(self, name, hp, power, mp, role, level=1):\n",
    "        super().__init__(name, hp, power, mp)\n",
    "        self.role = role\n",
    "        self.level = level\n",
    "        self._initial_state = copy.deepcopy(self.__dict__)\n",
    "\n",
    "    #スペシャルアタックを追加\n",
    "    def special_attack(self, other):\n",
    "        if self.mp < 3:\n",
    "            return f\"MPが足りない！ (現在のMP{self.mp})\"          \n",
    "        #勇者の必殺技\n",
    "        if self.role == HERO:\n",
    "            if not isinstance(other, Explorer):\n",
    "                other.hp -= self.power*2\n",
    "                self.mp -= 3  \n",
    "                if other.hp <= 0:\n",
    "                    other.hp = 0\n",
    "                    return f\"{self.name}の必殺技発動！{other.name}の体力は{other.hp}になった。\\n{other.name}は{self.name}に倒された!\"\n",
    "                return f\"{self.name}の必殺技発動！{other.name}の体力は{other.hp}になった。\"\n",
    "            return f\"{self.name}は味方に必殺技を使えない！\"\n",
    "            \n",
    "        #ヒーラーの必殺技\n",
    "        elif self.role == HEALER:\n",
    "            if isinstance(other, Explorer):\n",
    "                other.hp += 30\n",
    "                self.mp -= 3\n",
    "                return f\"{self.name}の必殺技発動！{other.name}の体力は{other.hp}になった。\"\n",
    "            return f\"{self.name}は敵を回復できない！\"\n",
    "            \n",
    "        #魔法使いの必殺技\n",
    "        elif self.role == MAGICIAN:\n",
    "            if isinstance(other, Explorer):\n",
    "                other.mp += 3\n",
    "                return f\"{self.name}の必殺技発動！{other.name}のMPは{other.mp}になった。\"\n",
    "            return f\"{self.name}は敵にMP回復を施せない！\"\n",
    "        \n",
    "        return f\"{self.name}: 不明な役割のため、何も起こらなかった。\"\n",
    "\n",
    "    def reset(self):\n",
    "        \"\"\"初期状態に戻す\"\"\"\n",
    "        self.__dict__ = copy.deepcopy(self._initial_state)"
   ]
  },
  {
   "cell_type": "code",
   "execution_count": 58,
   "id": "b4f722b2-ff5b-44bd-bc63-3e4ec9ab46b7",
   "metadata": {},
   "outputs": [],
   "source": [
    "\"\"\" \n",
    "練習問題2) モンスタークラスを作成しよう。DORAGON、HARPY、WITCHの3タイプの必殺技を作ろう\n",
    "\"\"\"\n",
    "\n",
    "class Monster(Character):\n",
    "    def __init__(self, name, hp, power, mp, breed):\n",
    "        super().__init__(name, hp, power, mp)\n",
    "        self.breed = breed\n",
    "        self._initial_state = copy.deepcopy(self.__dict__)\n",
    "\n",
    "    #スペシャルアタック\n",
    "    def special_attack(self, other):\n",
    "        \n",
    "        #ドラゴンの必殺技\n",
    "        if self.breed == DRAGON:\n",
    "            #自分の攻撃力の2.5倍のダメージを与える\n",
    "            other.hp -= self.power*2.5\n",
    "            if other.hp <= 0:\n",
    "                other.hp = 0\n",
    "                self.mp -= 3\n",
    "                return f\"{self.name}のファイヤーブレス発動！{other.name}の体力は{other.hp}になった。\\n{other.name}は{self.name}に倒された!\"\n",
    "            return f\"{self.name}のファイヤーブレス発動！{other.name}の体力は{other.hp}になった。\"\n",
    "            \n",
    "        #ハーピーの必殺技\n",
    "        elif self.breed== HARPY:\n",
    "            #自分の体力を40回復\n",
    "            self.hp += 40\n",
    "            self.mp -= 3\n",
    "            return f\"{self.name}の必殺技発動！{self.name}の体力は{self.hp}になった。\"\n",
    "\n",
    "        #ウィッチの必殺技\n",
    "        elif self.breed == WITCH:\n",
    "            #相手のmpを2奪い取り、自身のmpを2回復\n",
    "            other.mp -= max(0, other.mp - 2)\n",
    "            self.mp -= 1\n",
    "            return f\"{self.name}のドレイン発動！{other.name}のMPは{other.mp}になった。\""
   ]
  },
  {
   "cell_type": "code",
   "execution_count": 59,
   "id": "36e5654d-7c3d-491f-b341-13ebd5c9555f",
   "metadata": {},
   "outputs": [],
   "source": [
    "# --- ゲーム本体 (バトルマネージャー) --- \n",
    "class BattleManager:\n",
    "    def __init__(self, party, enemy_team):\n",
    "        self.party = party\n",
    "        self.enemy_team = enemy_team\n",
    "        self.turn = 1\n",
    "        self.is_game_over = False\n",
    "\n",
    "    def display_status(self):\n",
    "        #全員のステータスを表示\n",
    "        print(\"\\n\" + \"=\"*40)\n",
    "        print(f\"--- ターン: {self.turn} ---\")\n",
    "        print(\"\\n[勇者パーティ]\")\n",
    "        for i, member in enumerate(self.party):\n",
    "            print(f\" {i+1}. {member.name} ({member.role}): HP {member.hp}/{member.max_hp}, MP {member.mp}\")\n",
    "        \n",
    "        print(\"\\n[モンスター]\")\n",
    "        # 1体のみ表示される\n",
    "        for i, monster in enumerate(self.enemy_team):\n",
    "            print(f\" {i+1}. {monster.name} ({monster.breed}): HP {monster.hp}/{monster.max_hp}, MP {monster.mp}\")\n",
    "        print(\"=\"*40 + \"\\n\")\n",
    "\n",
    "    def player_turn(self):\n",
    "        #プレイヤーが操作するターン\n",
    "        print(\"--- あなたのターン ---\")\n",
    "        \n",
    "        for player in self.party:\n",
    "            if not player.is_alive():\n",
    "                continue\n",
    "\n",
    "            print(f\"\\n[{player.name} の行動]\")\n",
    "            \n",
    "            def select_target(targets, target_type):\n",
    "                while True:\n",
    "                    try:\n",
    "                        print(f\"ターゲットを選択してください:\")\n",
    "                        # 生きているターゲットのみ表示\n",
    "                        alive_targets = [t for t in targets if t.is_alive()]\n",
    "                        if not alive_targets:\n",
    "                             print(\"ターゲットがいません！\")\n",
    "                             return None\n",
    "\n",
    "                        for i, target in enumerate(alive_targets):\n",
    "                            print(f\" {i+1}. {target.name} (HP: {target.hp})\")\n",
    "                        \n",
    "                        target_index = int(input(\"番号を入力 (1/...): \")) - 1\n",
    "                        \n",
    "                        if 0 <= target_index < len(alive_targets):\n",
    "                            return alive_targets[target_index]\n",
    "                        else:\n",
    "                            print(\"無効な番号です。再入力してください。\")\n",
    "                    except ValueError:\n",
    "                        print(\"数字を入力してください。\")\n",
    "            \n",
    "            # ターゲットが存在しない場合はスキップ\n",
    "            if not self.enemy_team and (player.role == HERO or player.role == MAGICIAN):\n",
    "                 continue\n",
    "            if not self.party and (player.role == HEALER or player.role == MAGICIAN):\n",
    "                 continue\n",
    "\n",
    "            while True:\n",
    "                action = input(f\"行動を選択 (a:通常攻撃 / s:必殺技): \").lower()\n",
    "                \n",
    "                if action == 'a':\n",
    "                    target = select_target(self.enemy_team, \"モンスター\")\n",
    "                    if target:\n",
    "                        print(player.attack(target))\n",
    "                        break\n",
    "                \n",
    "                elif action == 's':\n",
    "                    if player.role == HERO:\n",
    "                        target = select_target(self.enemy_team, \"モンスター\")\n",
    "                    elif player.role == HEALER or player.role == MAGICIAN:\n",
    "                        target = select_target(self.party, \"パーティメンバー\")\n",
    "                    else:\n",
    "                        print(\"その役割には必殺技がありません。\")\n",
    "                        continue\n",
    "                    \n",
    "                    if target:\n",
    "                        print(player.special_attack(target))\n",
    "                        break\n",
    "                \n",
    "                else:\n",
    "                    print(\"無効な入力です。'a' または 's' を入力してください。\")\n",
    "            \n",
    "            if self.check_game_status():\n",
    "                return\n",
    "\n",
    "    def enemy_turn(self):\n",
    "        #モンスターが行動するターン\n",
    "        print(\"\\n--- 相手のターン ---\")\n",
    "        \n",
    "        alive_players = [p for p in self.party if p.is_alive()]\n",
    "        if not alive_players:\n",
    "            return\n",
    "\n",
    "        for monster in self.enemy_team:\n",
    "            if not monster.is_alive():\n",
    "                continue\n",
    "\n",
    "            target = random.choice(alive_players)\n",
    "            \n",
    "            # モンスターのAI: 必殺技 or 通常攻撃\n",
    "            if random.random() < 0.3 or \\\n",
    "               (monster.breed == HARPY and monster.hp < monster.max_hp * 0.5): # HPが低いハーピーは回復優先\n",
    "                 print(monster.special_attack(target))\n",
    "            else:\n",
    "                print(monster.attack(target))\n",
    "\n",
    "            if self.check_game_status():\n",
    "                return\n",
    "\n",
    "    def check_game_status(self):\n",
    "        #勝敗のチェック\n",
    "        alive_party = [p for p in self.party if p.is_alive()]\n",
    "        alive_enemies = [m for m in self.enemy_team if m.is_alive()]\n",
    "        \n",
    "        if not alive_party:\n",
    "            print(\"\\n!!! 勇者パーティは全滅した。ゲームオーバー !!!\")\n",
    "            self.is_game_over = True\n",
    "            return True\n",
    "        \n",
    "        if not alive_enemies:\n",
    "            print(\"\\n!!! モンスターをすべて倒した！勝利 !!!\")\n",
    "            self.is_game_over = True\n",
    "            return True\n",
    "        \n",
    "        self.party = alive_party\n",
    "        self.enemy_team = alive_enemies\n",
    "        return False\n",
    "\n",
    "    def start_battle(self):\n",
    "        #戦闘の開始と実行\n",
    "        enemy_name = self.enemy_team[0].name if self.enemy_team else \"敵\"\n",
    "        print(f\"{enemy_name}が立ちはだかる！バトル開始！\")\n",
    "        while not self.is_game_over:\n",
    "            self.display_status()\n",
    "            \n",
    "            self.player_turn()\n",
    "            if self.is_game_over: break\n",
    "            \n",
    "            self.enemy_turn()\n",
    "            if self.is_game_over: break\n",
    "            \n",
    "            self.turn += 1\n",
    "        \n",
    "        print(\"\\n--- 戦闘終了 ---\")"
   ]
  },
  {
   "cell_type": "code",
   "execution_count": 60,
   "id": "146d45f1-20d2-4e60-8dff-88b260b4f1c2",
   "metadata": {},
   "outputs": [
    {
     "name": "stdout",
     "output_type": "stream",
     "text": [
      "リリスが立ちはだかる！バトル開始！\n",
      "\n",
      "========================================\n",
      "--- ターン: 1 ---\n",
      "\n",
      "[勇者パーティ]\n",
      " 1. アーサー (hero): HP 100/100, MP 5\n",
      " 2. リア (healer): HP 80/80, MP 8\n",
      " 3. ゼノ (magician): HP 70/70, MP 10\n",
      "\n",
      "[モンスター]\n",
      " 1. リリス (witch): HP 110/110, MP 10\n",
      "========================================\n",
      "\n",
      "--- あなたのターン ---\n",
      "\n",
      "[アーサー の行動]\n"
     ]
    },
    {
     "name": "stdin",
     "output_type": "stream",
     "text": [
      "行動を選択 (a:通常攻撃 / s:必殺技):  a\n"
     ]
    },
    {
     "name": "stdout",
     "output_type": "stream",
     "text": [
      "ターゲットを選択してください:\n",
      " 1. リリス (HP: 110)\n"
     ]
    },
    {
     "name": "stdin",
     "output_type": "stream",
     "text": [
      "番号を入力 (1/...):  1\n"
     ]
    },
    {
     "name": "stdout",
     "output_type": "stream",
     "text": [
      "アーサーがリリスを攻撃！リリスの体力は95になった。\n",
      "\n",
      "[リア の行動]\n"
     ]
    },
    {
     "name": "stdin",
     "output_type": "stream",
     "text": [
      "行動を選択 (a:通常攻撃 / s:必殺技):  a\n"
     ]
    },
    {
     "name": "stdout",
     "output_type": "stream",
     "text": [
      "ターゲットを選択してください:\n",
      " 1. リリス (HP: 95)\n"
     ]
    },
    {
     "name": "stdin",
     "output_type": "stream",
     "text": [
      "番号を入力 (1/...):  1\n"
     ]
    },
    {
     "name": "stdout",
     "output_type": "stream",
     "text": [
      "リアがリリスを攻撃！リリスの体力は85になった。\n",
      "\n",
      "[ゼノ の行動]\n"
     ]
    },
    {
     "name": "stdin",
     "output_type": "stream",
     "text": [
      "行動を選択 (a:通常攻撃 / s:必殺技):  s\n"
     ]
    },
    {
     "name": "stdout",
     "output_type": "stream",
     "text": [
      "ターゲットを選択してください:\n",
      " 1. アーサー (HP: 100)\n",
      " 2. リア (HP: 80)\n",
      " 3. ゼノ (HP: 70)\n"
     ]
    },
    {
     "name": "stdin",
     "output_type": "stream",
     "text": [
      "番号を入力 (1/...):  1\n"
     ]
    },
    {
     "name": "stdout",
     "output_type": "stream",
     "text": [
      "ゼノの必殺技発動！アーサーのMPは8になった。\n",
      "\n",
      "--- 相手のターン ---\n",
      "リリスのドレイン発動！ゼノのMPは2になった。\n",
      "\n",
      "========================================\n",
      "--- ターン: 2 ---\n",
      "\n",
      "[勇者パーティ]\n",
      " 1. アーサー (hero): HP 100/100, MP 8\n",
      " 2. リア (healer): HP 80/80, MP 8\n",
      " 3. ゼノ (magician): HP 70/70, MP 2\n",
      "\n",
      "[モンスター]\n",
      " 1. リリス (witch): HP 85/110, MP 9\n",
      "========================================\n",
      "\n",
      "--- あなたのターン ---\n",
      "\n",
      "[アーサー の行動]\n"
     ]
    },
    {
     "name": "stdin",
     "output_type": "stream",
     "text": [
      "行動を選択 (a:通常攻撃 / s:必殺技):  s\n"
     ]
    },
    {
     "name": "stdout",
     "output_type": "stream",
     "text": [
      "ターゲットを選択してください:\n",
      " 1. リリス (HP: 85)\n"
     ]
    },
    {
     "name": "stdin",
     "output_type": "stream",
     "text": [
      "番号を入力 (1/...):  1\n"
     ]
    },
    {
     "name": "stdout",
     "output_type": "stream",
     "text": [
      "アーサーの必殺技発動！リリスの体力は55になった。\n",
      "\n",
      "[リア の行動]\n"
     ]
    },
    {
     "name": "stdin",
     "output_type": "stream",
     "text": [
      "行動を選択 (a:通常攻撃 / s:必殺技):  a\n"
     ]
    },
    {
     "name": "stdout",
     "output_type": "stream",
     "text": [
      "ターゲットを選択してください:\n",
      " 1. リリス (HP: 55)\n"
     ]
    },
    {
     "name": "stdin",
     "output_type": "stream",
     "text": [
      "番号を入力 (1/...):  1\n"
     ]
    },
    {
     "name": "stdout",
     "output_type": "stream",
     "text": [
      "リアがリリスを攻撃！リリスの体力は45になった。\n",
      "\n",
      "[ゼノ の行動]\n"
     ]
    },
    {
     "name": "stdin",
     "output_type": "stream",
     "text": [
      "行動を選択 (a:通常攻撃 / s:必殺技):  a\n"
     ]
    },
    {
     "name": "stdout",
     "output_type": "stream",
     "text": [
      "ターゲットを選択してください:\n",
      " 1. リリス (HP: 45)\n"
     ]
    },
    {
     "name": "stdin",
     "output_type": "stream",
     "text": [
      "番号を入力 (1/...):  1\n"
     ]
    },
    {
     "name": "stdout",
     "output_type": "stream",
     "text": [
      "ゼノがリリスを攻撃！リリスの体力は25になった。\n",
      "\n",
      "--- 相手のターン ---\n",
      "リリスのドレイン発動！アーサーのMPは2になった。\n",
      "\n",
      "========================================\n",
      "--- ターン: 3 ---\n",
      "\n",
      "[勇者パーティ]\n",
      " 1. アーサー (hero): HP 100/100, MP 2\n",
      " 2. リア (healer): HP 80/80, MP 8\n",
      " 3. ゼノ (magician): HP 70/70, MP 2\n",
      "\n",
      "[モンスター]\n",
      " 1. リリス (witch): HP 25/110, MP 8\n",
      "========================================\n",
      "\n",
      "--- あなたのターン ---\n",
      "\n",
      "[アーサー の行動]\n"
     ]
    },
    {
     "name": "stdin",
     "output_type": "stream",
     "text": [
      "行動を選択 (a:通常攻撃 / s:必殺技):  a\n"
     ]
    },
    {
     "name": "stdout",
     "output_type": "stream",
     "text": [
      "ターゲットを選択してください:\n",
      " 1. リリス (HP: 25)\n"
     ]
    },
    {
     "name": "stdin",
     "output_type": "stream",
     "text": [
      "番号を入力 (1/...):  1\n"
     ]
    },
    {
     "name": "stdout",
     "output_type": "stream",
     "text": [
      "アーサーがリリスを攻撃！リリスの体力は10になった。\n",
      "\n",
      "[リア の行動]\n"
     ]
    },
    {
     "name": "stdin",
     "output_type": "stream",
     "text": [
      "行動を選択 (a:通常攻撃 / s:必殺技):  a\n"
     ]
    },
    {
     "name": "stdout",
     "output_type": "stream",
     "text": [
      "ターゲットを選択してください:\n",
      " 1. リリス (HP: 10)\n"
     ]
    },
    {
     "name": "stdin",
     "output_type": "stream",
     "text": [
      "番号を入力 (1/...):  1\n"
     ]
    },
    {
     "name": "stdout",
     "output_type": "stream",
     "text": [
      "リアがリリスを攻撃！リリスの体力は0になった。\n",
      "リリスはリアに倒された!\n",
      "\n",
      "!!! モンスターをすべて倒した！勝利 !!!\n",
      "\n",
      "--- 戦闘終了 ---\n"
     ]
    }
   ],
   "source": [
    "import copy\n",
    "import random\n",
    "import sys\n",
    "\n",
    "#Explorerの役割とMonsterの種族の決定\n",
    "HERO = 'hero'\n",
    "HEALER = 'healer'\n",
    "MAGICIAN = 'magician'\n",
    "DRAGON = 'dragon'\n",
    "HARPY = 'harpy'\n",
    "WITCH = 'witch'\n",
    "\n",
    "if __name__ == \"__main__\":\n",
    "    # 勇者パーティーの生成\n",
    "    party_members = [\n",
    "        Explorer(\"アーサー\", 100, 15, 5, HERO),\n",
    "        Explorer(\"リア\", 80, 10, 8, HEALER),\n",
    "        Explorer(\"ゼノ\", 70, 20, 10, MAGICIAN),\n",
    "    ]\n",
    "\n",
    "    # --- モンスター隊の生成 (ランダムに1体を選択) ---\n",
    "    MONSTER_TEMPLATES = {\n",
    "        DRAGON: (\"フレイム\", 150, 20, 0),  # HP高め、高攻撃力\n",
    "        HARPY: (\"サイレン\", 90, 15, 5),   # HP中、回復持ち\n",
    "        WITCH: (\"リリス\", 110, 18, 10),   # HP中、MPドレイン持ち\n",
    "    }\n",
    "\n",
    "    # 3つの種族からランダムに1つ選ぶ\n",
    "    random_breed = random.choice([DRAGON, HARPY, WITCH])\n",
    "    name, hp, power, mp = MONSTER_TEMPLATES[random_breed]\n",
    "    \n",
    "    # 選択された1体のみを生成\n",
    "    single_monster = Monster(name, hp, power, mp, random_breed)\n",
    "    enemy_squad = [single_monster]\n",
    "    \n",
    "    # バトル開始\n",
    "    try:\n",
    "        game = BattleManager(party_members, enemy_squad)\n",
    "        game.start_battle()\n",
    "    except EOFError:\n",
    "        print(\"\\nゲームを終了します。\")\n",
    "    except Exception as e:\n",
    "        print(f\"\\n予期せぬエラーが発生しました: {e}\")\n",
    "        sys.exit(1)"
   ]
  },
  {
   "cell_type": "code",
   "execution_count": null,
   "id": "feb0c213-b7a3-43df-b24b-7d308cdb3831",
   "metadata": {},
   "outputs": [],
   "source": []
  }
 ],
 "metadata": {
  "kernelspec": {
   "display_name": "Python 3 (ipykernel)",
   "language": "python",
   "name": "python3"
  },
  "language_info": {
   "codemirror_mode": {
    "name": "ipython",
    "version": 3
   },
   "file_extension": ".py",
   "mimetype": "text/x-python",
   "name": "python",
   "nbconvert_exporter": "python",
   "pygments_lexer": "ipython3",
   "version": "3.11.11"
  }
 },
 "nbformat": 4,
 "nbformat_minor": 5
}
