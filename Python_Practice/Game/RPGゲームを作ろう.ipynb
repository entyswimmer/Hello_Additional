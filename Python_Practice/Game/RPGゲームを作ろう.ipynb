{
 "cells": [
  {
   "cell_type": "markdown",
   "id": "b23ff351-ec9a-42fd-bacc-9c6fbdfd1abe",
   "metadata": {},
   "source": [
    "# RPGゲームを作ろう"
   ]
  },
  {
   "cell_type": "markdown",
   "id": "5c04424c-fabc-4572-adfb-38c2fdcc6987",
   "metadata": {},
   "source": [
    "### ・セクション1: キャラクターClassを作ろう"
   ]
  },
  {
   "cell_type": "code",
   "execution_count": 2,
   "id": "5f2c33c6-77ae-47fb-85bc-10e954ad9ac2",
   "metadata": {},
   "outputs": [],
   "source": [
    "#クラスの作成\n",
    "class Character:\n",
    "    def __init__(self, name, hp, power):\n",
    "        self.name = name\n",
    "        self.hp = hp\n",
    "        self.power = power\n",
    "    \n",
    "    def attack(self, other):\n",
    "        other.hp -= self.power\n",
    "        return f\"{self.name}が{other.name}を攻撃！{other.name}の体力は{other.hp}になった。\""
   ]
  },
  {
   "cell_type": "code",
   "execution_count": 3,
   "id": "b6f983c4-5a52-40d7-8e54-4c9924f9bb7d",
   "metadata": {},
   "outputs": [],
   "source": [
    "#インスタンスの生成\n",
    "hero = Character(\"勇者\", 100, 15)\n",
    "monster = Character(\"スライム\", 50, 10)"
   ]
  },
  {
   "cell_type": "code",
   "execution_count": 4,
   "id": "11b6e66d-189b-4a7b-8b3e-57ea8d485d46",
   "metadata": {},
   "outputs": [
    {
     "name": "stdout",
     "output_type": "stream",
     "text": [
      "勇者がスライムを攻撃！スライムの体力は35になった。\n",
      "35\n"
     ]
    }
   ],
   "source": [
    "#戦闘\n",
    "print(hero.attack(monster))\n",
    "print(monster.hp)"
   ]
  },
  {
   "cell_type": "code",
   "execution_count": 5,
   "id": "4a193c2a-f33e-42b3-ac36-627f9ffe1549",
   "metadata": {},
   "outputs": [],
   "source": [
    "\"\"\"\n",
    "練習問題1) キャラクターにmpを追加しよう。また、attackメソッドを変更して、体力が0より小さくならないようにしよう\n",
    "\"\"\"\n",
    "\n",
    "class Character:\n",
    "    def __init__(self, name, hp, power, mp):\n",
    "        self.name = name\n",
    "        self.hp = hp\n",
    "        self.max_hp = hp\n",
    "        self.power = power\n",
    "        self.mp = mp\n",
    "    \n",
    "    def attack(self, other):\n",
    "        other.hp -= self.power\n",
    "        if other.hp <= 0:\n",
    "            other.hp = 0\n",
    "            return f\"{self.name}が{other.name}を攻撃！{other.name}の体力は{other.hp}になった。\\n{other.name}は{self.name}に倒された!\"\n",
    "        return f\"{self.name}が{other.name}を攻撃！{other.name}の体力は{other.hp}になった。\"\n",
    "\n",
    "    #生存チェック\n",
    "    def is_alive(self):\n",
    "        return self.hp > 0"
   ]
  },
  {
   "cell_type": "code",
   "execution_count": 6,
   "id": "4d264fcc-c65d-4008-8a30-b8fe906ebfb3",
   "metadata": {},
   "outputs": [
    {
     "name": "stdout",
     "output_type": "stream",
     "text": [
      "勇者がスライムを攻撃！スライムの体力は35になった。\n",
      "勇者がスライムを攻撃！スライムの体力は20になった。\n",
      "勇者がスライムを攻撃！スライムの体力は5になった。\n",
      "勇者がスライムを攻撃！スライムの体力は0になった。\n",
      "スライムは勇者に倒された!\n"
     ]
    }
   ],
   "source": [
    "#インスタンスの生成\n",
    "hero = Character(\"勇者\", 100, 15, 10)\n",
    "monster = Character(\"スライム\", 50, 10, 5)\n",
    "\n",
    "for i in range(4):\n",
    "    print(hero.attack(monster))"
   ]
  },
  {
   "cell_type": "markdown",
   "id": "c4e516eb-d633-4007-89eb-e4ffdec8cb6c",
   "metadata": {},
   "source": [
    "---\n",
    "###  ・セクション2: キャラクターの派生クラスの冒険者クラスを作ろう"
   ]
  },
  {
   "cell_type": "code",
   "execution_count": 57,
   "id": "47e583b7-8995-4364-b7be-4c26552e4371",
   "metadata": {},
   "outputs": [],
   "source": [
    "class Explorer(Character):\n",
    "    def __init__(self, name, hp, power, mp, role, level=1):\n",
    "        super().__init__(name, hp, power, mp)\n",
    "        self.role = role\n",
    "        self.level = level\n",
    "        self._initial_state = copy.deepcopy(self.__dict__)\n",
    "\n",
    "    #スペシャルアタックを追加\n",
    "    def special_attack(self, other):\n",
    "        if self.mp < 3:\n",
    "            return f\"MPが足りない！ (現在のMP{self.mp})\"          \n",
    "        #勇者の必殺技\n",
    "        if self.role == HERO:\n",
    "            if not isinstance(other, Explorer):\n",
    "                other.hp -= self.power*2\n",
    "                if self.hp <= self.max_hp * 0.4:\n",
    "                    other.hp = self.power*2.7\n",
    "                self.mp -= 3  \n",
    "                if other.hp <= 0:\n",
    "                    other.hp = 0\n",
    "                    return f\"{self.name}の閃空斬り発動！{other.name}の体力は{other.hp}になった。\\n{other.name}は{self.name}に倒された!\"\n",
    "                return f\"{self.name}の閃空斬り発動！{other.name}の体力は{other.hp}になった。\"\n",
    "            return f\"{self.name}は味方に必殺技を使えない！\"\n",
    "            \n",
    "        #ヒーラーの必殺技\n",
    "        elif self.role == HEALER:\n",
    "            if isinstance(other, Explorer):\n",
    "                other.hp += other.max_hp * 0.30\n",
    "                self.mp -= 3\n",
    "                return f\"{self.name}の女神の加護発動！{other.name}の体力は{other.hp}になった。\"\n",
    "            return f\"{self.name}は敵を回復できない！\"\n",
    "            \n",
    "        #魔法使いの必殺技\n",
    "        elif self.role == MAGICIAN:\n",
    "            if isinstance(other, Explorer):\n",
    "                other.mp += 4\n",
    "                self.mp -= 3\n",
    "                return f\"{self.name}のマジックゲイン発動！{other.name}のMPは{other.mp}になった。\"\n",
    "            return f\"{self.name}は敵にMP回復を施せない！\"\n",
    "        \n",
    "        return f\"{self.name}: 不明な役割のため、何も起こらなかった。\"\n",
    "\n",
    "    def reset(self):\n",
    "        \"\"\"初期状態に戻す\"\"\"\n",
    "        self.__dict__ = copy.deepcopy(self._initial_state)"
   ]
  },
  {
   "cell_type": "code",
   "execution_count": 60,
   "id": "b4f722b2-ff5b-44bd-bc63-3e4ec9ab46b7",
   "metadata": {},
   "outputs": [],
   "source": [
    "\"\"\" \n",
    "練習問題2) モンスタークラスを作成しよう。DORAGON、HARPY、WITCHの3タイプの必殺技を作ろう\n",
    "\"\"\"\n",
    "\n",
    "class Monster(Character):\n",
    "    def __init__(self, name, hp, power, mp, breed):\n",
    "        super().__init__(name, hp, power, mp)\n",
    "        self.breed = breed\n",
    "        self._initial_state = copy.deepcopy(self.__dict__)\n",
    "\n",
    "    #スペシャルアタック\n",
    "    def special_attack(self, other):\n",
    "        if self.mp < 3:\n",
    "            return f\"MPが足りない！ (現在のMP{self.mp})\"\n",
    "\n",
    "        #ドラゴンの必殺技\n",
    "        if self.breed == DRAGON:\n",
    "            #自分の攻撃力の2.5倍のダメージを与える\n",
    "            other.hp -= self.power*2.5\n",
    "            self.mp -= 3\n",
    "            if other.hp <= 0:\n",
    "                other.hp = 0\n",
    "                return f\"{self.name}のファイヤーブレス発動！{other.name}の体力は{other.hp}になった。\\n{other.name}は{self.name}に倒された!\"\n",
    "            return f\"{self.name}のファイヤーブレス発動！{other.name}の体力は{other.hp}になった。\"\n",
    "            \n",
    "        #ハーピーの必殺技\n",
    "        elif self.breed== HARPY:\n",
    "            #自分の現在のhpの50パーセントのダメージを与え、自分のmax体力の50%回復\n",
    "            other.hp -= self.hp*0.5\n",
    "            self.hp += self.max_hp*0.5\n",
    "            self.mp -= 3\n",
    "            return f\"{self.name}の再生の歌声発動！{other.name}の体力が{other.hp}になった。{self.name}はHP{self.hp}に回復した。\"\n",
    "\n",
    "        #ウィッチの必殺技\n",
    "        elif self.breed == WITCH:\n",
    "            #相手のmp2と体力の20%を奪い取って回復\n",
    "            other.mp -= other.mp - 2\n",
    "            if other.mp < 0:\n",
    "                other.mp = 0\n",
    "            other.hp = other.hp * 0.80\n",
    "            self.hp += other.hp * 0.80\n",
    "            self.mp -= 3\n",
    "            return f\"{self.name}のドレイン発動！{other.name}のMPが{other.mp}、体力が{other.hp}になった。\""
   ]
  },
  {
   "cell_type": "code",
   "execution_count": 61,
   "id": "36e5654d-7c3d-491f-b341-13ebd5c9555f",
   "metadata": {},
   "outputs": [],
   "source": [
    "# --- ゲーム本体 (バトルマネージャー) --- \n",
    "class BattleManager:\n",
    "    def __init__(self, party, enemy_team):\n",
    "        self.party = party\n",
    "        self.enemy_team = enemy_team\n",
    "        self.turn = 1\n",
    "        self.is_game_over = False\n",
    "\n",
    "    def display_status(self):\n",
    "        #全員のステータスを表示\n",
    "        print(\"\\n\" + \"=\"*40)\n",
    "        print(f\"--- ターン: {self.turn} ---\")\n",
    "        print(\"\\n[勇者パーティ]\")\n",
    "        for i, member in enumerate(self.party):\n",
    "            print(f\" {i+1}. {member.name} ({member.role}): HP {member.hp}/{member.max_hp}, MP {member.mp}\")\n",
    "        \n",
    "        print(\"\\n[モンスター]\")\n",
    "        # 1体のみ表示される\n",
    "        for i, monster in enumerate(self.enemy_team):\n",
    "            print(f\" {i+1}. {monster.name} ({monster.breed}): HP {monster.hp}/{monster.max_hp}, MP {monster.mp}\")\n",
    "        print(\"=\"*40 + \"\\n\")\n",
    "\n",
    "    def player_turn(self):\n",
    "        #プレイヤーが操作するターン\n",
    "        print(\"--- あなたのターン ---\")\n",
    "        \n",
    "        for player in self.party:\n",
    "            if not player.is_alive():\n",
    "                continue\n",
    "\n",
    "            print(f\"\\n[{player.name} の行動]\")\n",
    "            \n",
    "            def select_target(targets, target_type):\n",
    "                while True:\n",
    "                    try:\n",
    "                        print(f\"ターゲットを選択してください:\")\n",
    "                        # 生きているターゲットのみ表示\n",
    "                        alive_targets = [t for t in targets if t.is_alive()]\n",
    "                        if not alive_targets:\n",
    "                             print(\"ターゲットがいません！\")\n",
    "                             return None\n",
    "\n",
    "                        for i, target in enumerate(alive_targets):\n",
    "                            print(f\" {i+1}. {target.name} (HP: {target.hp} MP: {target.mp})\")\n",
    "                        \n",
    "                        target_index = int(input(\"番号を入力 (1/...): \")) - 1\n",
    "                        \n",
    "                        if 0 <= target_index < len(alive_targets):\n",
    "                            return alive_targets[target_index]\n",
    "                        else:\n",
    "                            print(\"無効な番号です。再入力してください。\")\n",
    "                    except ValueError:\n",
    "                        print(\"数字を入力してください。\")\n",
    "            \n",
    "            # ターゲットが存在しない場合はスキップ\n",
    "            if not self.enemy_team and (player.role == HERO or player.role == MAGICIAN):\n",
    "                 continue\n",
    "            if not self.party and (player.role == HEALER or player.role == MAGICIAN):\n",
    "                 continue\n",
    "\n",
    "            while True:\n",
    "                action = input(f\"行動を選択 (a:通常攻撃 / s:必殺技): \").lower()\n",
    "                \n",
    "                if action == 'a':\n",
    "                    target = select_target(self.enemy_team, \"モンスター\")\n",
    "                    if target:\n",
    "                        print(player.attack(target))\n",
    "                        break\n",
    "                \n",
    "                elif action == 's':\n",
    "                    if player.role == HERO:\n",
    "                        target = select_target(self.enemy_team, \"モンスター\")\n",
    "                    elif player.role == HEALER or player.role == MAGICIAN:\n",
    "                        target = select_target(self.party, \"パーティメンバー\")\n",
    "                    else:\n",
    "                        print(\"その役割には必殺技がありません。\")\n",
    "                        continue\n",
    "                    \n",
    "                    if target:\n",
    "                        print(player.special_attack(target))\n",
    "                        break\n",
    "                \n",
    "                else:\n",
    "                    print(\"無効な入力です。'a' または 's' を入力してください。\")\n",
    "            \n",
    "            if self.check_game_status():\n",
    "                return\n",
    "\n",
    "    def enemy_turn(self):\n",
    "        #モンスターが行動するターン\n",
    "        print(\"\\n--- 相手のターン ---\")\n",
    "        \n",
    "        alive_players = [p for p in self.party if p.is_alive()]\n",
    "        if not alive_players:\n",
    "            return\n",
    "\n",
    "        for monster in self.enemy_team:\n",
    "            if not monster.is_alive():\n",
    "                continue\n",
    "\n",
    "            target = random.choice(alive_players)\n",
    "\n",
    "            \n",
    "            # モンスターのAI: 必殺技 or 通常攻撃\n",
    "            if random.random() < 0.5 and monster.mp >= 3: #or \\\n",
    "               #(monster.mp >= 3 and monster.hp < monster.max_hp * 0.5): # HPが低いと確定で反撃\n",
    "                 print(monster.special_attack(target))\n",
    "            else:\n",
    "                print(monster.attack(target))\n",
    "\n",
    "            if self.check_game_status():\n",
    "                return\n",
    "\n",
    "    def check_game_status(self):\n",
    "        #勝敗のチェック\n",
    "        alive_party = [p for p in self.party if p.is_alive()]\n",
    "        alive_enemies = [m for m in self.enemy_team if m.is_alive()]\n",
    "        \n",
    "        if not alive_party:\n",
    "            print(\"\\n!!! 勇者パーティは全滅した。ゲームオーバー !!!\")\n",
    "            self.is_game_over = True\n",
    "            return True\n",
    "        \n",
    "        if not alive_enemies:\n",
    "            print(\"\\n!!! モンスターをすべて倒した！勝利 !!!\")\n",
    "            self.is_game_over = True\n",
    "            return True\n",
    "        \n",
    "        self.party = alive_party\n",
    "        self.enemy_team = alive_enemies\n",
    "        return False\n",
    "\n",
    "    def start_battle(self):\n",
    "        #戦闘の開始と実行\n",
    "        enemy_name = self.enemy_team[0].name if self.enemy_team else \"敵\"\n",
    "        print(f\"{enemy_name}が立ちはだかる！バトル開始！\")\n",
    "        while not self.is_game_over:\n",
    "            self.display_status()\n",
    "            \n",
    "            self.player_turn()\n",
    "            if self.is_game_over: break\n",
    "            \n",
    "            self.enemy_turn()\n",
    "            if self.is_game_over: break\n",
    "            \n",
    "            self.turn += 1\n",
    "        \n",
    "        print(\"\\n--- 戦闘終了 ---\")"
   ]
  },
  {
   "cell_type": "code",
   "execution_count": 62,
   "id": "146d45f1-20d2-4e60-8dff-88b260b4f1c2",
   "metadata": {},
   "outputs": [
    {
     "name": "stdout",
     "output_type": "stream",
     "text": [
      "セイレーンが立ちはだかる！バトル開始！\n",
      "\n",
      "========================================\n",
      "--- ターン: 1 ---\n",
      "\n",
      "[勇者パーティ]\n",
      " 1. アーサー (hero): HP 100/100, MP 6\n",
      " 2. リア (healer): HP 90/90, MP 9\n",
      " 3. マーリン (magician): HP 80/80, MP 12\n",
      "\n",
      "[モンスター]\n",
      " 1. セイレーン (harpy): HP 150/150, MP 9\n",
      "========================================\n",
      "\n",
      "--- あなたのターン ---\n",
      "\n",
      "[アーサー の行動]\n"
     ]
    },
    {
     "name": "stdin",
     "output_type": "stream",
     "text": [
      "行動を選択 (a:通常攻撃 / s:必殺技):  s\n"
     ]
    },
    {
     "name": "stdout",
     "output_type": "stream",
     "text": [
      "ターゲットを選択してください:\n",
      " 1. セイレーン (HP: 150 MP: 9)\n"
     ]
    },
    {
     "name": "stdin",
     "output_type": "stream",
     "text": [
      "番号を入力 (1/...):  1\n"
     ]
    },
    {
     "name": "stdout",
     "output_type": "stream",
     "text": [
      "アーサーの閃空斬り発動！セイレーンの体力は130になった。\n",
      "\n",
      "[リア の行動]\n"
     ]
    },
    {
     "name": "stdin",
     "output_type": "stream",
     "text": [
      "行動を選択 (a:通常攻撃 / s:必殺技):  a\n"
     ]
    },
    {
     "name": "stdout",
     "output_type": "stream",
     "text": [
      "ターゲットを選択してください:\n",
      " 1. セイレーン (HP: 130 MP: 9)\n"
     ]
    },
    {
     "name": "stdin",
     "output_type": "stream",
     "text": [
      "番号を入力 (1/...):  1\n"
     ]
    },
    {
     "name": "stdout",
     "output_type": "stream",
     "text": [
      "リアがセイレーンを攻撃！セイレーンの体力は121になった。\n",
      "\n",
      "[マーリン の行動]\n"
     ]
    },
    {
     "name": "stdin",
     "output_type": "stream",
     "text": [
      "行動を選択 (a:通常攻撃 / s:必殺技):  a\n"
     ]
    },
    {
     "name": "stdout",
     "output_type": "stream",
     "text": [
      "ターゲットを選択してください:\n",
      " 1. セイレーン (HP: 121 MP: 9)\n"
     ]
    },
    {
     "name": "stdin",
     "output_type": "stream",
     "text": [
      "番号を入力 (1/...):  1\n"
     ]
    },
    {
     "name": "stdout",
     "output_type": "stream",
     "text": [
      "マーリンがセイレーンを攻撃！セイレーンの体力は109になった。\n",
      "\n",
      "--- 相手のターン ---\n",
      "セイレーンがリアを攻撃！リアの体力は70になった。\n",
      "\n",
      "========================================\n",
      "--- ターン: 2 ---\n",
      "\n",
      "[勇者パーティ]\n",
      " 1. アーサー (hero): HP 100/100, MP 3\n",
      " 2. リア (healer): HP 70/90, MP 9\n",
      " 3. マーリン (magician): HP 80/80, MP 12\n",
      "\n",
      "[モンスター]\n",
      " 1. セイレーン (harpy): HP 109/150, MP 9\n",
      "========================================\n",
      "\n",
      "--- あなたのターン ---\n",
      "\n",
      "[アーサー の行動]\n"
     ]
    },
    {
     "name": "stdin",
     "output_type": "stream",
     "text": [
      "行動を選択 (a:通常攻撃 / s:必殺技):  s\n"
     ]
    },
    {
     "name": "stdout",
     "output_type": "stream",
     "text": [
      "ターゲットを選択してください:\n",
      " 1. セイレーン (HP: 109 MP: 9)\n"
     ]
    },
    {
     "name": "stdin",
     "output_type": "stream",
     "text": [
      "番号を入力 (1/...):  1\n"
     ]
    },
    {
     "name": "stdout",
     "output_type": "stream",
     "text": [
      "アーサーの閃空斬り発動！セイレーンの体力は89になった。\n",
      "\n",
      "[リア の行動]\n"
     ]
    },
    {
     "name": "stdin",
     "output_type": "stream",
     "text": [
      "行動を選択 (a:通常攻撃 / s:必殺技):  a\n"
     ]
    },
    {
     "name": "stdout",
     "output_type": "stream",
     "text": [
      "ターゲットを選択してください:\n",
      " 1. セイレーン (HP: 89 MP: 9)\n"
     ]
    },
    {
     "name": "stdin",
     "output_type": "stream",
     "text": [
      "番号を入力 (1/...):  1\n"
     ]
    },
    {
     "name": "stdout",
     "output_type": "stream",
     "text": [
      "リアがセイレーンを攻撃！セイレーンの体力は80になった。\n",
      "\n",
      "[マーリン の行動]\n"
     ]
    },
    {
     "name": "stdin",
     "output_type": "stream",
     "text": [
      "行動を選択 (a:通常攻撃 / s:必殺技):  s\n"
     ]
    },
    {
     "name": "stdout",
     "output_type": "stream",
     "text": [
      "ターゲットを選択してください:\n",
      " 1. アーサー (HP: 100 MP: 0)\n",
      " 2. リア (HP: 70 MP: 9)\n",
      " 3. マーリン (HP: 80 MP: 12)\n"
     ]
    },
    {
     "name": "stdin",
     "output_type": "stream",
     "text": [
      "番号を入力 (1/...):  1\n"
     ]
    },
    {
     "name": "stdout",
     "output_type": "stream",
     "text": [
      "マーリンのマジックゲイン発動！アーサーのMPは4になった。\n",
      "\n",
      "--- 相手のターン ---\n",
      "セイレーンがアーサーを攻撃！アーサーの体力は80になった。\n",
      "\n",
      "========================================\n",
      "--- ターン: 3 ---\n",
      "\n",
      "[勇者パーティ]\n",
      " 1. アーサー (hero): HP 80/100, MP 4\n",
      " 2. リア (healer): HP 70/90, MP 9\n",
      " 3. マーリン (magician): HP 80/80, MP 9\n",
      "\n",
      "[モンスター]\n",
      " 1. セイレーン (harpy): HP 80/150, MP 9\n",
      "========================================\n",
      "\n",
      "--- あなたのターン ---\n",
      "\n",
      "[アーサー の行動]\n"
     ]
    },
    {
     "name": "stdin",
     "output_type": "stream",
     "text": [
      "行動を選択 (a:通常攻撃 / s:必殺技):  a\n"
     ]
    },
    {
     "name": "stdout",
     "output_type": "stream",
     "text": [
      "ターゲットを選択してください:\n",
      " 1. セイレーン (HP: 80 MP: 9)\n"
     ]
    },
    {
     "name": "stdin",
     "output_type": "stream",
     "text": [
      "番号を入力 (1/...):  1\n"
     ]
    },
    {
     "name": "stdout",
     "output_type": "stream",
     "text": [
      "アーサーがセイレーンを攻撃！セイレーンの体力は70になった。\n",
      "\n",
      "[リア の行動]\n"
     ]
    },
    {
     "name": "stdin",
     "output_type": "stream",
     "text": [
      "行動を選択 (a:通常攻撃 / s:必殺技):  a\n"
     ]
    },
    {
     "name": "stdout",
     "output_type": "stream",
     "text": [
      "ターゲットを選択してください:\n",
      " 1. セイレーン (HP: 70 MP: 9)\n"
     ]
    },
    {
     "name": "stdin",
     "output_type": "stream",
     "text": [
      "番号を入力 (1/...):  1\n"
     ]
    },
    {
     "name": "stdout",
     "output_type": "stream",
     "text": [
      "リアがセイレーンを攻撃！セイレーンの体力は61になった。\n",
      "\n",
      "[マーリン の行動]\n"
     ]
    },
    {
     "name": "stdin",
     "output_type": "stream",
     "text": [
      "行動を選択 (a:通常攻撃 / s:必殺技):  a\n"
     ]
    },
    {
     "name": "stdout",
     "output_type": "stream",
     "text": [
      "ターゲットを選択してください:\n",
      " 1. セイレーン (HP: 61 MP: 9)\n"
     ]
    },
    {
     "name": "stdin",
     "output_type": "stream",
     "text": [
      "番号を入力 (1/...):  1\n"
     ]
    },
    {
     "name": "stdout",
     "output_type": "stream",
     "text": [
      "マーリンがセイレーンを攻撃！セイレーンの体力は49になった。\n",
      "\n",
      "--- 相手のターン ---\n",
      "セイレーンがマーリンを攻撃！マーリンの体力は60になった。\n",
      "\n",
      "========================================\n",
      "--- ターン: 4 ---\n",
      "\n",
      "[勇者パーティ]\n",
      " 1. アーサー (hero): HP 80/100, MP 4\n",
      " 2. リア (healer): HP 70/90, MP 9\n",
      " 3. マーリン (magician): HP 60/80, MP 9\n",
      "\n",
      "[モンスター]\n",
      " 1. セイレーン (harpy): HP 49/150, MP 9\n",
      "========================================\n",
      "\n",
      "--- あなたのターン ---\n",
      "\n",
      "[アーサー の行動]\n"
     ]
    },
    {
     "name": "stdin",
     "output_type": "stream",
     "text": [
      "行動を選択 (a:通常攻撃 / s:必殺技):  s\n"
     ]
    },
    {
     "name": "stdout",
     "output_type": "stream",
     "text": [
      "ターゲットを選択してください:\n",
      " 1. セイレーン (HP: 49 MP: 9)\n"
     ]
    },
    {
     "name": "stdin",
     "output_type": "stream",
     "text": [
      "番号を入力 (1/...):  1\n"
     ]
    },
    {
     "name": "stdout",
     "output_type": "stream",
     "text": [
      "アーサーの閃空斬り発動！セイレーンの体力は29になった。\n",
      "\n",
      "[リア の行動]\n"
     ]
    },
    {
     "name": "stdin",
     "output_type": "stream",
     "text": [
      "行動を選択 (a:通常攻撃 / s:必殺技):  a\n"
     ]
    },
    {
     "name": "stdout",
     "output_type": "stream",
     "text": [
      "ターゲットを選択してください:\n",
      " 1. セイレーン (HP: 29 MP: 9)\n"
     ]
    },
    {
     "name": "stdin",
     "output_type": "stream",
     "text": [
      "番号を入力 (1/...):  1\n"
     ]
    },
    {
     "name": "stdout",
     "output_type": "stream",
     "text": [
      "リアがセイレーンを攻撃！セイレーンの体力は20になった。\n",
      "\n",
      "[マーリン の行動]\n"
     ]
    },
    {
     "name": "stdin",
     "output_type": "stream",
     "text": [
      "行動を選択 (a:通常攻撃 / s:必殺技):  a\n"
     ]
    },
    {
     "name": "stdout",
     "output_type": "stream",
     "text": [
      "ターゲットを選択してください:\n",
      " 1. セイレーン (HP: 20 MP: 9)\n"
     ]
    },
    {
     "name": "stdin",
     "output_type": "stream",
     "text": [
      "番号を入力 (1/...):  1\n"
     ]
    },
    {
     "name": "stdout",
     "output_type": "stream",
     "text": [
      "マーリンがセイレーンを攻撃！セイレーンの体力は8になった。\n",
      "\n",
      "--- 相手のターン ---\n",
      "セイレーンの再生の歌声発動！リアの体力が66.0になった。セイレーンはHP83.0に回復した。\n",
      "\n",
      "========================================\n",
      "--- ターン: 5 ---\n",
      "\n",
      "[勇者パーティ]\n",
      " 1. アーサー (hero): HP 80/100, MP 1\n",
      " 2. リア (healer): HP 66.0/90, MP 9\n",
      " 3. マーリン (magician): HP 60/80, MP 9\n",
      "\n",
      "[モンスター]\n",
      " 1. セイレーン (harpy): HP 83.0/150, MP 6\n",
      "========================================\n",
      "\n",
      "--- あなたのターン ---\n",
      "\n",
      "[アーサー の行動]\n"
     ]
    },
    {
     "name": "stdin",
     "output_type": "stream",
     "text": [
      "行動を選択 (a:通常攻撃 / s:必殺技):  a\n"
     ]
    },
    {
     "name": "stdout",
     "output_type": "stream",
     "text": [
      "ターゲットを選択してください:\n",
      " 1. セイレーン (HP: 83.0 MP: 6)\n"
     ]
    },
    {
     "name": "stdin",
     "output_type": "stream",
     "text": [
      "番号を入力 (1/...):  1\n"
     ]
    },
    {
     "name": "stdout",
     "output_type": "stream",
     "text": [
      "アーサーがセイレーンを攻撃！セイレーンの体力は73.0になった。\n",
      "\n",
      "[リア の行動]\n"
     ]
    },
    {
     "name": "stdin",
     "output_type": "stream",
     "text": [
      "行動を選択 (a:通常攻撃 / s:必殺技):  a\n"
     ]
    },
    {
     "name": "stdout",
     "output_type": "stream",
     "text": [
      "ターゲットを選択してください:\n",
      " 1. セイレーン (HP: 73.0 MP: 6)\n"
     ]
    },
    {
     "name": "stdin",
     "output_type": "stream",
     "text": [
      "番号を入力 (1/...):  1\n"
     ]
    },
    {
     "name": "stdout",
     "output_type": "stream",
     "text": [
      "リアがセイレーンを攻撃！セイレーンの体力は64.0になった。\n",
      "\n",
      "[マーリン の行動]\n"
     ]
    },
    {
     "name": "stdin",
     "output_type": "stream",
     "text": [
      "行動を選択 (a:通常攻撃 / s:必殺技):  s\n"
     ]
    },
    {
     "name": "stdout",
     "output_type": "stream",
     "text": [
      "ターゲットを選択してください:\n",
      " 1. アーサー (HP: 80 MP: 1)\n",
      " 2. リア (HP: 66.0 MP: 9)\n",
      " 3. マーリン (HP: 60 MP: 9)\n"
     ]
    },
    {
     "name": "stdin",
     "output_type": "stream",
     "text": [
      "番号を入力 (1/...):  1\n"
     ]
    },
    {
     "name": "stdout",
     "output_type": "stream",
     "text": [
      "マーリンのマジックゲイン発動！アーサーのMPは5になった。\n",
      "\n",
      "--- 相手のターン ---\n",
      "セイレーンの再生の歌声発動！リアの体力が34.0になった。セイレーンはHP139.0に回復した。\n",
      "\n",
      "========================================\n",
      "--- ターン: 6 ---\n",
      "\n",
      "[勇者パーティ]\n",
      " 1. アーサー (hero): HP 80/100, MP 5\n",
      " 2. リア (healer): HP 34.0/90, MP 9\n",
      " 3. マーリン (magician): HP 60/80, MP 6\n",
      "\n",
      "[モンスター]\n",
      " 1. セイレーン (harpy): HP 139.0/150, MP 3\n",
      "========================================\n",
      "\n",
      "--- あなたのターン ---\n",
      "\n",
      "[アーサー の行動]\n"
     ]
    },
    {
     "name": "stdin",
     "output_type": "stream",
     "text": [
      "行動を選択 (a:通常攻撃 / s:必殺技):  s\n"
     ]
    },
    {
     "name": "stdout",
     "output_type": "stream",
     "text": [
      "ターゲットを選択してください:\n",
      " 1. セイレーン (HP: 139.0 MP: 3)\n"
     ]
    },
    {
     "name": "stdin",
     "output_type": "stream",
     "text": [
      "番号を入力 (1/...):  1\n"
     ]
    },
    {
     "name": "stdout",
     "output_type": "stream",
     "text": [
      "アーサーの閃空斬り発動！セイレーンの体力は119.0になった。\n",
      "\n",
      "[リア の行動]\n"
     ]
    },
    {
     "name": "stdin",
     "output_type": "stream",
     "text": [
      "行動を選択 (a:通常攻撃 / s:必殺技):  a\n"
     ]
    },
    {
     "name": "stdout",
     "output_type": "stream",
     "text": [
      "ターゲットを選択してください:\n",
      " 1. セイレーン (HP: 119.0 MP: 3)\n"
     ]
    },
    {
     "name": "stdin",
     "output_type": "stream",
     "text": [
      "番号を入力 (1/...):  1\n"
     ]
    },
    {
     "name": "stdout",
     "output_type": "stream",
     "text": [
      "リアがセイレーンを攻撃！セイレーンの体力は110.0になった。\n",
      "\n",
      "[マーリン の行動]\n"
     ]
    },
    {
     "name": "stdin",
     "output_type": "stream",
     "text": [
      "行動を選択 (a:通常攻撃 / s:必殺技):  s\n"
     ]
    },
    {
     "name": "stdout",
     "output_type": "stream",
     "text": [
      "ターゲットを選択してください:\n",
      " 1. アーサー (HP: 80 MP: 2)\n",
      " 2. リア (HP: 34.0 MP: 9)\n",
      " 3. マーリン (HP: 60 MP: 6)\n"
     ]
    },
    {
     "name": "stdin",
     "output_type": "stream",
     "text": [
      "番号を入力 (1/...):  1\n"
     ]
    },
    {
     "name": "stdout",
     "output_type": "stream",
     "text": [
      "マーリンのマジックゲイン発動！アーサーのMPは6になった。\n",
      "\n",
      "--- 相手のターン ---\n",
      "セイレーンの再生の歌声発動！マーリンの体力が5.0になった。セイレーンはHP185.0に回復した。\n",
      "\n",
      "========================================\n",
      "--- ターン: 7 ---\n",
      "\n",
      "[勇者パーティ]\n",
      " 1. アーサー (hero): HP 80/100, MP 6\n",
      " 2. リア (healer): HP 34.0/90, MP 9\n",
      " 3. マーリン (magician): HP 5.0/80, MP 3\n",
      "\n",
      "[モンスター]\n",
      " 1. セイレーン (harpy): HP 185.0/150, MP 0\n",
      "========================================\n",
      "\n",
      "--- あなたのターン ---\n",
      "\n",
      "[アーサー の行動]\n"
     ]
    },
    {
     "name": "stdin",
     "output_type": "stream",
     "text": [
      "行動を選択 (a:通常攻撃 / s:必殺技):  s\n"
     ]
    },
    {
     "name": "stdout",
     "output_type": "stream",
     "text": [
      "ターゲットを選択してください:\n",
      " 1. セイレーン (HP: 185.0 MP: 0)\n"
     ]
    },
    {
     "name": "stdin",
     "output_type": "stream",
     "text": [
      "番号を入力 (1/...):  1\n"
     ]
    },
    {
     "name": "stdout",
     "output_type": "stream",
     "text": [
      "アーサーの閃空斬り発動！セイレーンの体力は165.0になった。\n",
      "\n",
      "[リア の行動]\n"
     ]
    },
    {
     "name": "stdin",
     "output_type": "stream",
     "text": [
      "行動を選択 (a:通常攻撃 / s:必殺技):  s\n"
     ]
    },
    {
     "name": "stdout",
     "output_type": "stream",
     "text": [
      "ターゲットを選択してください:\n",
      " 1. アーサー (HP: 80 MP: 3)\n",
      " 2. リア (HP: 34.0 MP: 9)\n",
      " 3. マーリン (HP: 5.0 MP: 3)\n"
     ]
    },
    {
     "name": "stdin",
     "output_type": "stream",
     "text": [
      "番号を入力 (1/...):  3\n"
     ]
    },
    {
     "name": "stdout",
     "output_type": "stream",
     "text": [
      "リアの女神の加護発動！マーリンの体力は29.0になった。\n",
      "\n",
      "[マーリン の行動]\n"
     ]
    },
    {
     "name": "stdin",
     "output_type": "stream",
     "text": [
      "行動を選択 (a:通常攻撃 / s:必殺技):  s\n"
     ]
    },
    {
     "name": "stdout",
     "output_type": "stream",
     "text": [
      "ターゲットを選択してください:\n",
      " 1. アーサー (HP: 80 MP: 3)\n",
      " 2. リア (HP: 34.0 MP: 6)\n",
      " 3. マーリン (HP: 29.0 MP: 3)\n"
     ]
    },
    {
     "name": "stdin",
     "output_type": "stream",
     "text": [
      "番号を入力 (1/...):  1\n"
     ]
    },
    {
     "name": "stdout",
     "output_type": "stream",
     "text": [
      "マーリンのマジックゲイン発動！アーサーのMPは7になった。\n",
      "\n",
      "--- 相手のターン ---\n",
      "セイレーンがアーサーを攻撃！アーサーの体力は60になった。\n",
      "\n",
      "========================================\n",
      "--- ターン: 8 ---\n",
      "\n",
      "[勇者パーティ]\n",
      " 1. アーサー (hero): HP 60/100, MP 7\n",
      " 2. リア (healer): HP 34.0/90, MP 6\n",
      " 3. マーリン (magician): HP 29.0/80, MP 0\n",
      "\n",
      "[モンスター]\n",
      " 1. セイレーン (harpy): HP 165.0/150, MP 0\n",
      "========================================\n",
      "\n",
      "--- あなたのターン ---\n",
      "\n",
      "[アーサー の行動]\n"
     ]
    },
    {
     "name": "stdin",
     "output_type": "stream",
     "text": [
      "行動を選択 (a:通常攻撃 / s:必殺技):  s\n"
     ]
    },
    {
     "name": "stdout",
     "output_type": "stream",
     "text": [
      "ターゲットを選択してください:\n",
      " 1. セイレーン (HP: 165.0 MP: 0)\n"
     ]
    },
    {
     "name": "stdin",
     "output_type": "stream",
     "text": [
      "番号を入力 (1/...):  1\n"
     ]
    },
    {
     "name": "stdout",
     "output_type": "stream",
     "text": [
      "アーサーの閃空斬り発動！セイレーンの体力は145.0になった。\n",
      "\n",
      "[リア の行動]\n"
     ]
    },
    {
     "name": "stdin",
     "output_type": "stream",
     "text": [
      "行動を選択 (a:通常攻撃 / s:必殺技):  s\n"
     ]
    },
    {
     "name": "stdout",
     "output_type": "stream",
     "text": [
      "ターゲットを選択してください:\n",
      " 1. アーサー (HP: 60 MP: 4)\n",
      " 2. リア (HP: 34.0 MP: 6)\n",
      " 3. マーリン (HP: 29.0 MP: 0)\n"
     ]
    },
    {
     "name": "stdin",
     "output_type": "stream",
     "text": [
      "番号を入力 (1/...):  3\n"
     ]
    },
    {
     "name": "stdout",
     "output_type": "stream",
     "text": [
      "リアの女神の加護発動！マーリンの体力は53.0になった。\n",
      "\n",
      "[マーリン の行動]\n"
     ]
    },
    {
     "name": "stdin",
     "output_type": "stream",
     "text": [
      "行動を選択 (a:通常攻撃 / s:必殺技):  a\n"
     ]
    },
    {
     "name": "stdout",
     "output_type": "stream",
     "text": [
      "ターゲットを選択してください:\n",
      " 1. セイレーン (HP: 145.0 MP: 0)\n"
     ]
    },
    {
     "name": "stdin",
     "output_type": "stream",
     "text": [
      "番号を入力 (1/...):  1\n"
     ]
    },
    {
     "name": "stdout",
     "output_type": "stream",
     "text": [
      "マーリンがセイレーンを攻撃！セイレーンの体力は133.0になった。\n",
      "\n",
      "--- 相手のターン ---\n",
      "セイレーンがリアを攻撃！リアの体力は14.0になった。\n",
      "\n",
      "========================================\n",
      "--- ターン: 9 ---\n",
      "\n",
      "[勇者パーティ]\n",
      " 1. アーサー (hero): HP 60/100, MP 4\n",
      " 2. リア (healer): HP 14.0/90, MP 3\n",
      " 3. マーリン (magician): HP 53.0/80, MP 0\n",
      "\n",
      "[モンスター]\n",
      " 1. セイレーン (harpy): HP 133.0/150, MP 0\n",
      "========================================\n",
      "\n",
      "--- あなたのターン ---\n",
      "\n",
      "[アーサー の行動]\n"
     ]
    },
    {
     "name": "stdin",
     "output_type": "stream",
     "text": [
      "行動を選択 (a:通常攻撃 / s:必殺技):  a\n"
     ]
    },
    {
     "name": "stdout",
     "output_type": "stream",
     "text": [
      "ターゲットを選択してください:\n",
      " 1. セイレーン (HP: 133.0 MP: 0)\n"
     ]
    },
    {
     "name": "stdin",
     "output_type": "stream",
     "text": [
      "番号を入力 (1/...):  1\n"
     ]
    },
    {
     "name": "stdout",
     "output_type": "stream",
     "text": [
      "アーサーがセイレーンを攻撃！セイレーンの体力は123.0になった。\n",
      "\n",
      "[リア の行動]\n"
     ]
    },
    {
     "name": "stdin",
     "output_type": "stream",
     "text": [
      "行動を選択 (a:通常攻撃 / s:必殺技):  s\n"
     ]
    },
    {
     "name": "stdout",
     "output_type": "stream",
     "text": [
      "ターゲットを選択してください:\n",
      " 1. アーサー (HP: 60 MP: 4)\n",
      " 2. リア (HP: 14.0 MP: 3)\n",
      " 3. マーリン (HP: 53.0 MP: 0)\n"
     ]
    },
    {
     "name": "stdin",
     "output_type": "stream",
     "text": [
      "番号を入力 (1/...):  2\n"
     ]
    },
    {
     "name": "stdout",
     "output_type": "stream",
     "text": [
      "リアの女神の加護発動！リアの体力は41.0になった。\n",
      "\n",
      "[マーリン の行動]\n"
     ]
    },
    {
     "name": "stdin",
     "output_type": "stream",
     "text": [
      "行動を選択 (a:通常攻撃 / s:必殺技):  a\n"
     ]
    },
    {
     "name": "stdout",
     "output_type": "stream",
     "text": [
      "ターゲットを選択してください:\n",
      " 1. セイレーン (HP: 123.0 MP: 0)\n"
     ]
    },
    {
     "name": "stdin",
     "output_type": "stream",
     "text": [
      "番号を入力 (1/...):  1\n"
     ]
    },
    {
     "name": "stdout",
     "output_type": "stream",
     "text": [
      "マーリンがセイレーンを攻撃！セイレーンの体力は111.0になった。\n",
      "\n",
      "--- 相手のターン ---\n",
      "セイレーンがマーリンを攻撃！マーリンの体力は33.0になった。\n",
      "\n",
      "========================================\n",
      "--- ターン: 10 ---\n",
      "\n",
      "[勇者パーティ]\n",
      " 1. アーサー (hero): HP 60/100, MP 4\n",
      " 2. リア (healer): HP 41.0/90, MP 0\n",
      " 3. マーリン (magician): HP 33.0/80, MP 0\n",
      "\n",
      "[モンスター]\n",
      " 1. セイレーン (harpy): HP 111.0/150, MP 0\n",
      "========================================\n",
      "\n",
      "--- あなたのターン ---\n",
      "\n",
      "[アーサー の行動]\n"
     ]
    },
    {
     "name": "stdin",
     "output_type": "stream",
     "text": [
      "行動を選択 (a:通常攻撃 / s:必殺技):  a\n"
     ]
    },
    {
     "name": "stdout",
     "output_type": "stream",
     "text": [
      "ターゲットを選択してください:\n",
      " 1. セイレーン (HP: 111.0 MP: 0)\n"
     ]
    },
    {
     "name": "stdin",
     "output_type": "stream",
     "text": [
      "番号を入力 (1/...):  1\n"
     ]
    },
    {
     "name": "stdout",
     "output_type": "stream",
     "text": [
      "アーサーがセイレーンを攻撃！セイレーンの体力は101.0になった。\n",
      "\n",
      "[リア の行動]\n"
     ]
    },
    {
     "name": "stdin",
     "output_type": "stream",
     "text": [
      "行動を選択 (a:通常攻撃 / s:必殺技):  a\n"
     ]
    },
    {
     "name": "stdout",
     "output_type": "stream",
     "text": [
      "ターゲットを選択してください:\n",
      " 1. セイレーン (HP: 101.0 MP: 0)\n"
     ]
    },
    {
     "name": "stdin",
     "output_type": "stream",
     "text": [
      "番号を入力 (1/...):  1\n"
     ]
    },
    {
     "name": "stdout",
     "output_type": "stream",
     "text": [
      "リアがセイレーンを攻撃！セイレーンの体力は92.0になった。\n",
      "\n",
      "[マーリン の行動]\n"
     ]
    },
    {
     "name": "stdin",
     "output_type": "stream",
     "text": [
      "行動を選択 (a:通常攻撃 / s:必殺技):  a\n"
     ]
    },
    {
     "name": "stdout",
     "output_type": "stream",
     "text": [
      "ターゲットを選択してください:\n",
      " 1. セイレーン (HP: 92.0 MP: 0)\n"
     ]
    },
    {
     "name": "stdin",
     "output_type": "stream",
     "text": [
      "番号を入力 (1/...):  1\n"
     ]
    },
    {
     "name": "stdout",
     "output_type": "stream",
     "text": [
      "マーリンがセイレーンを攻撃！セイレーンの体力は80.0になった。\n",
      "\n",
      "--- 相手のターン ---\n",
      "セイレーンがリアを攻撃！リアの体力は21.0になった。\n",
      "\n",
      "========================================\n",
      "--- ターン: 11 ---\n",
      "\n",
      "[勇者パーティ]\n",
      " 1. アーサー (hero): HP 60/100, MP 4\n",
      " 2. リア (healer): HP 21.0/90, MP 0\n",
      " 3. マーリン (magician): HP 33.0/80, MP 0\n",
      "\n",
      "[モンスター]\n",
      " 1. セイレーン (harpy): HP 80.0/150, MP 0\n",
      "========================================\n",
      "\n",
      "--- あなたのターン ---\n",
      "\n",
      "[アーサー の行動]\n"
     ]
    },
    {
     "name": "stdin",
     "output_type": "stream",
     "text": [
      "行動を選択 (a:通常攻撃 / s:必殺技):  s\n"
     ]
    },
    {
     "name": "stdout",
     "output_type": "stream",
     "text": [
      "ターゲットを選択してください:\n",
      " 1. セイレーン (HP: 80.0 MP: 0)\n"
     ]
    },
    {
     "name": "stdin",
     "output_type": "stream",
     "text": [
      "番号を入力 (1/...):  1\n"
     ]
    },
    {
     "name": "stdout",
     "output_type": "stream",
     "text": [
      "アーサーの閃空斬り発動！セイレーンの体力は60.0になった。\n",
      "\n",
      "[リア の行動]\n"
     ]
    },
    {
     "name": "stdin",
     "output_type": "stream",
     "text": [
      "行動を選択 (a:通常攻撃 / s:必殺技):  a\n"
     ]
    },
    {
     "name": "stdout",
     "output_type": "stream",
     "text": [
      "ターゲットを選択してください:\n",
      " 1. セイレーン (HP: 60.0 MP: 0)\n"
     ]
    },
    {
     "name": "stdin",
     "output_type": "stream",
     "text": [
      "番号を入力 (1/...):  1\n"
     ]
    },
    {
     "name": "stdout",
     "output_type": "stream",
     "text": [
      "リアがセイレーンを攻撃！セイレーンの体力は51.0になった。\n",
      "\n",
      "[マーリン の行動]\n"
     ]
    },
    {
     "name": "stdin",
     "output_type": "stream",
     "text": [
      "行動を選択 (a:通常攻撃 / s:必殺技):  a\n"
     ]
    },
    {
     "name": "stdout",
     "output_type": "stream",
     "text": [
      "ターゲットを選択してください:\n",
      " 1. セイレーン (HP: 51.0 MP: 0)\n"
     ]
    },
    {
     "name": "stdin",
     "output_type": "stream",
     "text": [
      "番号を入力 (1/...):  1\n"
     ]
    },
    {
     "name": "stdout",
     "output_type": "stream",
     "text": [
      "マーリンがセイレーンを攻撃！セイレーンの体力は39.0になった。\n",
      "\n",
      "--- 相手のターン ---\n",
      "セイレーンがマーリンを攻撃！マーリンの体力は13.0になった。\n",
      "\n",
      "========================================\n",
      "--- ターン: 12 ---\n",
      "\n",
      "[勇者パーティ]\n",
      " 1. アーサー (hero): HP 60/100, MP 1\n",
      " 2. リア (healer): HP 21.0/90, MP 0\n",
      " 3. マーリン (magician): HP 13.0/80, MP 0\n",
      "\n",
      "[モンスター]\n",
      " 1. セイレーン (harpy): HP 39.0/150, MP 0\n",
      "========================================\n",
      "\n",
      "--- あなたのターン ---\n",
      "\n",
      "[アーサー の行動]\n"
     ]
    },
    {
     "name": "stdin",
     "output_type": "stream",
     "text": [
      "行動を選択 (a:通常攻撃 / s:必殺技):  a\n"
     ]
    },
    {
     "name": "stdout",
     "output_type": "stream",
     "text": [
      "ターゲットを選択してください:\n",
      " 1. セイレーン (HP: 39.0 MP: 0)\n"
     ]
    },
    {
     "name": "stdin",
     "output_type": "stream",
     "text": [
      "番号を入力 (1/...):  1\n"
     ]
    },
    {
     "name": "stdout",
     "output_type": "stream",
     "text": [
      "アーサーがセイレーンを攻撃！セイレーンの体力は29.0になった。\n",
      "\n",
      "[リア の行動]\n"
     ]
    },
    {
     "name": "stdin",
     "output_type": "stream",
     "text": [
      "行動を選択 (a:通常攻撃 / s:必殺技):  a\n"
     ]
    },
    {
     "name": "stdout",
     "output_type": "stream",
     "text": [
      "ターゲットを選択してください:\n",
      " 1. セイレーン (HP: 29.0 MP: 0)\n"
     ]
    },
    {
     "name": "stdin",
     "output_type": "stream",
     "text": [
      "番号を入力 (1/...):  1\n"
     ]
    },
    {
     "name": "stdout",
     "output_type": "stream",
     "text": [
      "リアがセイレーンを攻撃！セイレーンの体力は20.0になった。\n",
      "\n",
      "[マーリン の行動]\n"
     ]
    },
    {
     "name": "stdin",
     "output_type": "stream",
     "text": [
      "行動を選択 (a:通常攻撃 / s:必殺技):  a\n"
     ]
    },
    {
     "name": "stdout",
     "output_type": "stream",
     "text": [
      "ターゲットを選択してください:\n",
      " 1. セイレーン (HP: 20.0 MP: 0)\n"
     ]
    },
    {
     "name": "stdin",
     "output_type": "stream",
     "text": [
      "番号を入力 (1/...):  1\n"
     ]
    },
    {
     "name": "stdout",
     "output_type": "stream",
     "text": [
      "マーリンがセイレーンを攻撃！セイレーンの体力は8.0になった。\n",
      "\n",
      "--- 相手のターン ---\n",
      "セイレーンがマーリンを攻撃！マーリンの体力は0になった。\n",
      "マーリンはセイレーンに倒された!\n",
      "\n",
      "========================================\n",
      "--- ターン: 13 ---\n",
      "\n",
      "[勇者パーティ]\n",
      " 1. アーサー (hero): HP 60/100, MP 1\n",
      " 2. リア (healer): HP 21.0/90, MP 0\n",
      "\n",
      "[モンスター]\n",
      " 1. セイレーン (harpy): HP 8.0/150, MP 0\n",
      "========================================\n",
      "\n",
      "--- あなたのターン ---\n",
      "\n",
      "[アーサー の行動]\n"
     ]
    },
    {
     "name": "stdin",
     "output_type": "stream",
     "text": [
      "行動を選択 (a:通常攻撃 / s:必殺技):  a\n"
     ]
    },
    {
     "name": "stdout",
     "output_type": "stream",
     "text": [
      "ターゲットを選択してください:\n",
      " 1. セイレーン (HP: 8.0 MP: 0)\n"
     ]
    },
    {
     "name": "stdin",
     "output_type": "stream",
     "text": [
      "番号を入力 (1/...):  1\n"
     ]
    },
    {
     "name": "stdout",
     "output_type": "stream",
     "text": [
      "アーサーがセイレーンを攻撃！セイレーンの体力は0になった。\n",
      "セイレーンはアーサーに倒された!\n",
      "\n",
      "!!! モンスターをすべて倒した！勝利 !!!\n",
      "\n",
      "--- 戦闘終了 ---\n"
     ]
    }
   ],
   "source": [
    "import copy\n",
    "import random\n",
    "import sys\n",
    "\n",
    "#Explorerの役割とMonsterの種族の決定\n",
    "HERO = 'hero'\n",
    "HEALER = 'healer'\n",
    "MAGICIAN = 'magician'\n",
    "DRAGON = 'dragon'\n",
    "HARPY = 'harpy'\n",
    "WITCH = 'witch'\n",
    "\n",
    "if __name__ == \"__main__\":\n",
    "    # 勇者パーティーの生成\n",
    "    party_members = [\n",
    "        Explorer(\"アーサー\", 100, 10, 6, HERO),\n",
    "        Explorer(\"リア\", 90, 9, 9, HEALER),\n",
    "        Explorer(\"マーリン\", 80, 12, 12, MAGICIAN),\n",
    "    ]\n",
    "\n",
    "    # --- モンスター隊の生成 (ランダムに1体を選択) ---\n",
    "    MONSTER_TEMPLATES = {\n",
    "        DRAGON: (\"ファイヤードレイク\", 200, 25, 6),  # HP高め、高攻撃力\n",
    "        HARPY: (\"セイレーン\", 150, 20, 9),   # HP中、回復持ち\n",
    "        WITCH: (\"リリス\", 180, 23, 12),   # HP中、MPドレイン持ち\n",
    "    }\n",
    "\n",
    "    # 3つの種族からランダムに1つ選ぶ\n",
    "    random_breed = random.choice([DRAGON, HARPY, WITCH])\n",
    "    name, hp, power, mp = MONSTER_TEMPLATES[random_breed]\n",
    "    \n",
    "    # 選択された1体のみを生成\n",
    "    single_monster = Monster(name, hp, power, mp, random_breed)\n",
    "    enemy_squad = [single_monster]\n",
    "    \n",
    "    # バトル開始\n",
    "    try:\n",
    "        game = BattleManager(party_members, enemy_squad)\n",
    "        game.start_battle()\n",
    "    except EOFError:\n",
    "        print(\"\\nゲームを終了します。\")\n",
    "    except Exception as e:\n",
    "        print(f\"\\n予期せぬエラーが発生しました: {e}\")\n",
    "        sys.exit(1)"
   ]
  },
  {
   "cell_type": "code",
   "execution_count": null,
   "id": "feb0c213-b7a3-43df-b24b-7d308cdb3831",
   "metadata": {},
   "outputs": [],
   "source": []
  }
 ],
 "metadata": {
  "kernelspec": {
   "display_name": "Python 3 (ipykernel)",
   "language": "python",
   "name": "python3"
  },
  "language_info": {
   "codemirror_mode": {
    "name": "ipython",
    "version": 3
   },
   "file_extension": ".py",
   "mimetype": "text/x-python",
   "name": "python",
   "nbconvert_exporter": "python",
   "pygments_lexer": "ipython3",
   "version": "3.11.11"
  }
 },
 "nbformat": 4,
 "nbformat_minor": 5
}
